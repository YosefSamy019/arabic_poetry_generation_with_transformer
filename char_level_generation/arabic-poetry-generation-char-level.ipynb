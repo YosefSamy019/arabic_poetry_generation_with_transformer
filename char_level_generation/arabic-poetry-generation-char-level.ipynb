{
 "cells": [
  {
   "cell_type": "markdown",
   "id": "164acad3",
   "metadata": {
    "id": "517761fe",
    "papermill": {
     "duration": 0.011937,
     "end_time": "2025-10-19T13:31:20.944987",
     "exception": false,
     "start_time": "2025-10-19T13:31:20.933050",
     "status": "completed"
    },
    "tags": []
   },
   "source": [
    "# Info"
   ]
  },
  {
   "cell_type": "markdown",
   "id": "30b4606b",
   "metadata": {
    "id": "125a89a2",
    "papermill": {
     "duration": 0.009809,
     "end_time": "2025-10-19T13:31:20.965622",
     "exception": false,
     "start_time": "2025-10-19T13:31:20.955813",
     "status": "completed"
    },
    "tags": []
   },
   "source": [
    "https://www.kaggle.com/datasets/ahmedabelal/arabic-poetry"
   ]
  },
  {
   "cell_type": "code",
   "execution_count": 1,
   "id": "26ac6d8b",
   "metadata": {
    "execution": {
     "iopub.execute_input": "2025-10-19T13:31:20.986189Z",
     "iopub.status.busy": "2025-10-19T13:31:20.985985Z",
     "iopub.status.idle": "2025-10-19T13:31:20.989613Z",
     "shell.execute_reply": "2025-10-19T13:31:20.988907Z"
    },
    "id": "P1BPmS5PqknW",
    "outputId": "a627a890-ceff-4a9e-82d4-2e9ed3349c6c",
    "papermill": {
     "duration": 0.015314,
     "end_time": "2025-10-19T13:31:20.990762",
     "exception": false,
     "start_time": "2025-10-19T13:31:20.975448",
     "status": "completed"
    },
    "tags": []
   },
   "outputs": [],
   "source": [
    "# from google.colab import drive\n",
    "# drive.mount('/content/drive')"
   ]
  },
  {
   "cell_type": "markdown",
   "id": "0100e5b3",
   "metadata": {
    "id": "06849f9e",
    "papermill": {
     "duration": 0.009675,
     "end_time": "2025-10-19T13:31:21.010292",
     "exception": false,
     "start_time": "2025-10-19T13:31:21.000617",
     "status": "completed"
    },
    "tags": []
   },
   "source": [
    "# Libraries"
   ]
  },
  {
   "cell_type": "code",
   "execution_count": 2,
   "id": "f40f92d8",
   "metadata": {
    "execution": {
     "iopub.execute_input": "2025-10-19T13:31:21.030712Z",
     "iopub.status.busy": "2025-10-19T13:31:21.030156Z",
     "iopub.status.idle": "2025-10-19T13:31:25.114174Z",
     "shell.execute_reply": "2025-10-19T13:31:25.113620Z"
    },
    "id": "c060e4ff",
    "papermill": {
     "duration": 4.095574,
     "end_time": "2025-10-19T13:31:25.115493",
     "exception": false,
     "start_time": "2025-10-19T13:31:21.019919",
     "status": "completed"
    },
    "tags": []
   },
   "outputs": [],
   "source": [
    "import numpy as np\n",
    "import pandas as pd\n",
    "import matplotlib.pyplot as plt\n",
    "import seaborn as sns"
   ]
  },
  {
   "cell_type": "code",
   "execution_count": 3,
   "id": "ec3f6e31",
   "metadata": {
    "execution": {
     "iopub.execute_input": "2025-10-19T13:31:25.137178Z",
     "iopub.status.busy": "2025-10-19T13:31:25.136887Z",
     "iopub.status.idle": "2025-10-19T13:31:25.328483Z",
     "shell.execute_reply": "2025-10-19T13:31:25.327918Z"
    },
    "id": "4636cd00",
    "papermill": {
     "duration": 0.203832,
     "end_time": "2025-10-19T13:31:25.329850",
     "exception": false,
     "start_time": "2025-10-19T13:31:25.126018",
     "status": "completed"
    },
    "tags": []
   },
   "outputs": [],
   "source": [
    "import kagglehub"
   ]
  },
  {
   "cell_type": "code",
   "execution_count": 4,
   "id": "eecefbd3",
   "metadata": {
    "execution": {
     "iopub.execute_input": "2025-10-19T13:31:25.351292Z",
     "iopub.status.busy": "2025-10-19T13:31:25.351064Z",
     "iopub.status.idle": "2025-10-19T13:31:25.354724Z",
     "shell.execute_reply": "2025-10-19T13:31:25.354128Z"
    },
    "id": "1ef31869",
    "papermill": {
     "duration": 0.015525,
     "end_time": "2025-10-19T13:31:25.355843",
     "exception": false,
     "start_time": "2025-10-19T13:31:25.340318",
     "status": "completed"
    },
    "tags": []
   },
   "outputs": [],
   "source": [
    "import os\n",
    "import re\n",
    "import json\n",
    "import random"
   ]
  },
  {
   "cell_type": "code",
   "execution_count": 5,
   "id": "1ce8f134",
   "metadata": {
    "execution": {
     "iopub.execute_input": "2025-10-19T13:31:25.383925Z",
     "iopub.status.busy": "2025-10-19T13:31:25.383725Z",
     "iopub.status.idle": "2025-10-19T13:31:25.386946Z",
     "shell.execute_reply": "2025-10-19T13:31:25.386304Z"
    },
    "id": "7949b4c3",
    "papermill": {
     "duration": 0.021015,
     "end_time": "2025-10-19T13:31:25.388295",
     "exception": false,
     "start_time": "2025-10-19T13:31:25.367280",
     "status": "completed"
    },
    "tags": []
   },
   "outputs": [],
   "source": [
    "import tqdm\n",
    "import pickle"
   ]
  },
  {
   "cell_type": "code",
   "execution_count": 6,
   "id": "8970a15d",
   "metadata": {
    "execution": {
     "iopub.execute_input": "2025-10-19T13:31:25.420844Z",
     "iopub.status.busy": "2025-10-19T13:31:25.420488Z",
     "iopub.status.idle": "2025-10-19T13:31:31.345540Z",
     "shell.execute_reply": "2025-10-19T13:31:31.344666Z"
    },
    "id": "fb1732ed",
    "outputId": "2066f695-b1e8-4a68-acca-065442009d86",
    "papermill": {
     "duration": 5.943278,
     "end_time": "2025-10-19T13:31:31.346891",
     "exception": false,
     "start_time": "2025-10-19T13:31:25.403613",
     "status": "completed"
    },
    "tags": []
   },
   "outputs": [
    {
     "name": "stdout",
     "output_type": "stream",
     "text": [
      "Collecting arabic-reshaper\r\n",
      "  Downloading arabic_reshaper-3.0.0-py3-none-any.whl.metadata (12 kB)\r\n",
      "Requirement already satisfied: python-bidi in /usr/local/lib/python3.11/dist-packages (0.6.6)\r\n",
      "Downloading arabic_reshaper-3.0.0-py3-none-any.whl (20 kB)\r\n",
      "Installing collected packages: arabic-reshaper\r\n",
      "Successfully installed arabic-reshaper-3.0.0\r\n"
     ]
    }
   ],
   "source": [
    "!pip install arabic-reshaper python-bidi\n",
    "import arabic_reshaper\n",
    "from bidi.algorithm import get_display"
   ]
  },
  {
   "cell_type": "code",
   "execution_count": 7,
   "id": "11d8dd5a",
   "metadata": {
    "execution": {
     "iopub.execute_input": "2025-10-19T13:31:31.368722Z",
     "iopub.status.busy": "2025-10-19T13:31:31.368457Z",
     "iopub.status.idle": "2025-10-19T13:31:31.799665Z",
     "shell.execute_reply": "2025-10-19T13:31:31.798873Z"
    },
    "id": "23888640",
    "papermill": {
     "duration": 0.443523,
     "end_time": "2025-10-19T13:31:31.801030",
     "exception": false,
     "start_time": "2025-10-19T13:31:31.357507",
     "status": "completed"
    },
    "tags": []
   },
   "outputs": [],
   "source": [
    "from sklearn.model_selection import train_test_split"
   ]
  },
  {
   "cell_type": "code",
   "execution_count": 8,
   "id": "21703de3",
   "metadata": {
    "execution": {
     "iopub.execute_input": "2025-10-19T13:31:31.822944Z",
     "iopub.status.busy": "2025-10-19T13:31:31.822446Z",
     "iopub.status.idle": "2025-10-19T13:31:50.826155Z",
     "shell.execute_reply": "2025-10-19T13:31:50.825378Z"
    },
    "id": "b8c8a890",
    "papermill": {
     "duration": 19.01591,
     "end_time": "2025-10-19T13:31:50.827573",
     "exception": false,
     "start_time": "2025-10-19T13:31:31.811663",
     "status": "completed"
    },
    "tags": []
   },
   "outputs": [
    {
     "name": "stderr",
     "output_type": "stream",
     "text": [
      "2025-10-19 13:31:35.023903: E external/local_xla/xla/stream_executor/cuda/cuda_fft.cc:477] Unable to register cuFFT factory: Attempting to register factory for plugin cuFFT when one has already been registered\n",
      "WARNING: All log messages before absl::InitializeLog() is called are written to STDERR\n",
      "E0000 00:00:1760880695.445154      19 cuda_dnn.cc:8310] Unable to register cuDNN factory: Attempting to register factory for plugin cuDNN when one has already been registered\n",
      "E0000 00:00:1760880695.584707      19 cuda_blas.cc:1418] Unable to register cuBLAS factory: Attempting to register factory for plugin cuBLAS when one has already been registered\n"
     ]
    }
   ],
   "source": [
    "from tensorflow.keras.callbacks import EarlyStopping, ModelCheckpoint, Callback, ReduceLROnPlateau\n",
    "from tensorflow.keras.layers import *\n",
    "from tensorflow.keras.models import Model\n",
    "from tensorflow.keras.utils import plot_model\n",
    "\n",
    "import tensorflow as tf\n",
    "from tensorflow.keras.utils import Sequence"
   ]
  },
  {
   "cell_type": "markdown",
   "id": "e4bb11b4",
   "metadata": {
    "id": "2670ae8c",
    "papermill": {
     "duration": 0.010053,
     "end_time": "2025-10-19T13:31:50.848209",
     "exception": false,
     "start_time": "2025-10-19T13:31:50.838156",
     "status": "completed"
    },
    "tags": []
   },
   "source": [
    "# Functions"
   ]
  },
  {
   "cell_type": "code",
   "execution_count": 9,
   "id": "413ccee4",
   "metadata": {
    "execution": {
     "iopub.execute_input": "2025-10-19T13:31:50.869796Z",
     "iopub.status.busy": "2025-10-19T13:31:50.869092Z",
     "iopub.status.idle": "2025-10-19T13:31:50.872855Z",
     "shell.execute_reply": "2025-10-19T13:31:50.872169Z"
    },
    "id": "509b64df",
    "papermill": {
     "duration": 0.015737,
     "end_time": "2025-10-19T13:31:50.873964",
     "exception": false,
     "start_time": "2025-10-19T13:31:50.858227",
     "status": "completed"
    },
    "tags": []
   },
   "outputs": [],
   "source": [
    "def count_n_lines(text):\n",
    "    return len(text.split('\\n'))"
   ]
  },
  {
   "cell_type": "code",
   "execution_count": 10,
   "id": "06007f22",
   "metadata": {
    "execution": {
     "iopub.execute_input": "2025-10-19T13:31:50.894715Z",
     "iopub.status.busy": "2025-10-19T13:31:50.894186Z",
     "iopub.status.idle": "2025-10-19T13:31:50.897397Z",
     "shell.execute_reply": "2025-10-19T13:31:50.896749Z"
    },
    "id": "d67862a8",
    "papermill": {
     "duration": 0.014627,
     "end_time": "2025-10-19T13:31:50.898482",
     "exception": false,
     "start_time": "2025-10-19T13:31:50.883855",
     "status": "completed"
    },
    "tags": []
   },
   "outputs": [],
   "source": [
    "def count_n_words(text):\n",
    "    return len(text.split(' '))"
   ]
  },
  {
   "cell_type": "code",
   "execution_count": 11,
   "id": "1b10ae2a",
   "metadata": {
    "execution": {
     "iopub.execute_input": "2025-10-19T13:31:50.919555Z",
     "iopub.status.busy": "2025-10-19T13:31:50.919008Z",
     "iopub.status.idle": "2025-10-19T13:31:50.922187Z",
     "shell.execute_reply": "2025-10-19T13:31:50.921541Z"
    },
    "id": "479f9974",
    "papermill": {
     "duration": 0.01478,
     "end_time": "2025-10-19T13:31:50.923262",
     "exception": false,
     "start_time": "2025-10-19T13:31:50.908482",
     "status": "completed"
    },
    "tags": []
   },
   "outputs": [],
   "source": [
    "def count_n_chars(text):\n",
    "    return len(text)"
   ]
  },
  {
   "cell_type": "code",
   "execution_count": 12,
   "id": "945703e6",
   "metadata": {
    "execution": {
     "iopub.execute_input": "2025-10-19T13:31:50.944398Z",
     "iopub.status.busy": "2025-10-19T13:31:50.944204Z",
     "iopub.status.idle": "2025-10-19T13:31:50.947918Z",
     "shell.execute_reply": "2025-10-19T13:31:50.947396Z"
    },
    "id": "30a12455",
    "papermill": {
     "duration": 0.015226,
     "end_time": "2025-10-19T13:31:50.948937",
     "exception": false,
     "start_time": "2025-10-19T13:31:50.933711",
     "status": "completed"
    },
    "tags": []
   },
   "outputs": [],
   "source": [
    "def read_json(file_path):\n",
    "    with open(file_path, 'r', encoding='utf-8') as f:\n",
    "        data = f.read()\n",
    "\n",
    "    json_data = json.loads(data)\n",
    "    return json_data\n",
    "\n",
    "\n",
    "def write_json(file_path, data):\n",
    "    with open(file_path, 'w', encoding='utf-8') as f:\n",
    "        json.dump(data, f, ensure_ascii=False, indent=4)"
   ]
  },
  {
   "cell_type": "code",
   "execution_count": 13,
   "id": "9eb691ed",
   "metadata": {
    "execution": {
     "iopub.execute_input": "2025-10-19T13:31:50.970126Z",
     "iopub.status.busy": "2025-10-19T13:31:50.969661Z",
     "iopub.status.idle": "2025-10-19T13:31:50.973352Z",
     "shell.execute_reply": "2025-10-19T13:31:50.972728Z"
    },
    "id": "d3cb954d",
    "papermill": {
     "duration": 0.015471,
     "end_time": "2025-10-19T13:31:50.974453",
     "exception": false,
     "start_time": "2025-10-19T13:31:50.958982",
     "status": "completed"
    },
    "tags": []
   },
   "outputs": [],
   "source": [
    "def read_pickle(file_path):\n",
    "    with open(file_path, 'rb') as f:\n",
    "        data = pickle.load(f)\n",
    "    return data\n",
    "\n",
    "def write_pickle(file_path, data):\n",
    "    with open(file_path, 'wb') as f:\n",
    "        pickle.dump(data, f)"
   ]
  },
  {
   "cell_type": "markdown",
   "id": "f9081edc",
   "metadata": {
    "id": "5e235ad6",
    "papermill": {
     "duration": 0.009697,
     "end_time": "2025-10-19T13:31:50.994337",
     "exception": false,
     "start_time": "2025-10-19T13:31:50.984640",
     "status": "completed"
    },
    "tags": []
   },
   "source": [
    "# Constants"
   ]
  },
  {
   "cell_type": "code",
   "execution_count": 14,
   "id": "1bd43299",
   "metadata": {
    "execution": {
     "iopub.execute_input": "2025-10-19T13:31:51.014847Z",
     "iopub.status.busy": "2025-10-19T13:31:51.014646Z",
     "iopub.status.idle": "2025-10-19T13:31:51.017425Z",
     "shell.execute_reply": "2025-10-19T13:31:51.016939Z"
    },
    "id": "e039e754",
    "papermill": {
     "duration": 0.014132,
     "end_time": "2025-10-19T13:31:51.018379",
     "exception": false,
     "start_time": "2025-10-19T13:31:51.004247",
     "status": "completed"
    },
    "tags": []
   },
   "outputs": [],
   "source": [
    "WINDOW_SIZE = 100"
   ]
  },
  {
   "cell_type": "code",
   "execution_count": 15,
   "id": "80f44735",
   "metadata": {
    "execution": {
     "iopub.execute_input": "2025-10-19T13:31:51.039321Z",
     "iopub.status.busy": "2025-10-19T13:31:51.038812Z",
     "iopub.status.idle": "2025-10-19T13:31:51.041694Z",
     "shell.execute_reply": "2025-10-19T13:31:51.041185Z"
    },
    "id": "a9c4b959",
    "papermill": {
     "duration": 0.014355,
     "end_time": "2025-10-19T13:31:51.042666",
     "exception": false,
     "start_time": "2025-10-19T13:31:51.028311",
     "status": "completed"
    },
    "tags": []
   },
   "outputs": [],
   "source": [
    "START_TOKEN = '#'"
   ]
  },
  {
   "cell_type": "code",
   "execution_count": 16,
   "id": "2d5bdfb8",
   "metadata": {
    "execution": {
     "iopub.execute_input": "2025-10-19T13:31:51.063373Z",
     "iopub.status.busy": "2025-10-19T13:31:51.063203Z",
     "iopub.status.idle": "2025-10-19T13:31:51.067040Z",
     "shell.execute_reply": "2025-10-19T13:31:51.066545Z"
    },
    "id": "9f8af7ef",
    "papermill": {
     "duration": 0.015352,
     "end_time": "2025-10-19T13:31:51.068037",
     "exception": false,
     "start_time": "2025-10-19T13:31:51.052685",
     "status": "completed"
    },
    "tags": []
   },
   "outputs": [],
   "source": [
    "# BASE_DIR = 'drive/MyDrive/BBB'\n",
    "BASE_DIR = ''\n",
    "\n",
    "UTILS_DIR = os.path.join(BASE_DIR, 'utils')\n",
    "TRAIN_DIR = os.path.join(BASE_DIR, 'train')\n",
    "\n",
    "os.makedirs(UTILS_DIR, exist_ok=True)\n",
    "os.makedirs(TRAIN_DIR, exist_ok=True)\n",
    "\n",
    "TOKENIZER_PATH = os.path.join(UTILS_DIR, 'tokenizer.json')"
   ]
  },
  {
   "cell_type": "code",
   "execution_count": 17,
   "id": "234c28f0",
   "metadata": {
    "execution": {
     "iopub.execute_input": "2025-10-19T13:31:51.088774Z",
     "iopub.status.busy": "2025-10-19T13:31:51.088380Z",
     "iopub.status.idle": "2025-10-19T13:31:51.091376Z",
     "shell.execute_reply": "2025-10-19T13:31:51.090907Z"
    },
    "id": "7dba5203",
    "papermill": {
     "duration": 0.014403,
     "end_time": "2025-10-19T13:31:51.092367",
     "exception": false,
     "start_time": "2025-10-19T13:31:51.077964",
     "status": "completed"
    },
    "tags": []
   },
   "outputs": [],
   "source": [
    "RANDOM_SEED = 42\n",
    "np.random.seed(RANDOM_SEED)\n",
    "random.seed(RANDOM_SEED)"
   ]
  },
  {
   "cell_type": "code",
   "execution_count": 18,
   "id": "ada871ad",
   "metadata": {
    "execution": {
     "iopub.execute_input": "2025-10-19T13:31:51.113288Z",
     "iopub.status.busy": "2025-10-19T13:31:51.113112Z",
     "iopub.status.idle": "2025-10-19T13:31:51.115935Z",
     "shell.execute_reply": "2025-10-19T13:31:51.115435Z"
    },
    "id": "868fb899",
    "papermill": {
     "duration": 0.014306,
     "end_time": "2025-10-19T13:31:51.116930",
     "exception": false,
     "start_time": "2025-10-19T13:31:51.102624",
     "status": "completed"
    },
    "tags": []
   },
   "outputs": [],
   "source": [
    "TEST_SIZE = 0.2\n",
    "VAL_SIZE = 0.2"
   ]
  },
  {
   "cell_type": "code",
   "execution_count": 19,
   "id": "0189bf6f",
   "metadata": {
    "execution": {
     "iopub.execute_input": "2025-10-19T13:31:51.137765Z",
     "iopub.status.busy": "2025-10-19T13:31:51.137570Z",
     "iopub.status.idle": "2025-10-19T13:31:51.140507Z",
     "shell.execute_reply": "2025-10-19T13:31:51.140002Z"
    },
    "id": "e6363e3b",
    "papermill": {
     "duration": 0.014479,
     "end_time": "2025-10-19T13:31:51.141451",
     "exception": false,
     "start_time": "2025-10-19T13:31:51.126972",
     "status": "completed"
    },
    "tags": []
   },
   "outputs": [],
   "source": [
    "EPOCHS = 20\n",
    "BATCH_SIZE = 1024"
   ]
  },
  {
   "cell_type": "markdown",
   "id": "e09d721f",
   "metadata": {
    "id": "c9c935b6",
    "papermill": {
     "duration": 0.009837,
     "end_time": "2025-10-19T13:31:51.161657",
     "exception": false,
     "start_time": "2025-10-19T13:31:51.151820",
     "status": "completed"
    },
    "tags": []
   },
   "source": [
    "# Data Loading"
   ]
  },
  {
   "cell_type": "code",
   "execution_count": 20,
   "id": "3d8a9553",
   "metadata": {
    "execution": {
     "iopub.execute_input": "2025-10-19T13:31:51.182297Z",
     "iopub.status.busy": "2025-10-19T13:31:51.181952Z",
     "iopub.status.idle": "2025-10-19T13:31:51.324368Z",
     "shell.execute_reply": "2025-10-19T13:31:51.323748Z"
    },
    "id": "50a4b8f3",
    "outputId": "f4aacfe8-b396-4e90-d936-4e6e421960b6",
    "papermill": {
     "duration": 0.153841,
     "end_time": "2025-10-19T13:31:51.325476",
     "exception": false,
     "start_time": "2025-10-19T13:31:51.171635",
     "status": "completed"
    },
    "tags": []
   },
   "outputs": [
    {
     "name": "stdout",
     "output_type": "stream",
     "text": [
      "Path to dataset files: /kaggle/input/arabic-poetry\n"
     ]
    }
   ],
   "source": [
    "# Download latest version\n",
    "path = kagglehub.dataset_download(\"ahmedabelal/arabic-poetry\")\n",
    "\n",
    "print(\"Path to dataset files:\", path)"
   ]
  },
  {
   "cell_type": "code",
   "execution_count": 21,
   "id": "d5d36bdd",
   "metadata": {
    "execution": {
     "iopub.execute_input": "2025-10-19T13:31:51.346706Z",
     "iopub.status.busy": "2025-10-19T13:31:51.346471Z",
     "iopub.status.idle": "2025-10-19T13:31:51.357940Z",
     "shell.execute_reply": "2025-10-19T13:31:51.357270Z"
    },
    "id": "a811f7a0",
    "outputId": "2379d85e-081d-42a1-8b8d-6256d7882b21",
    "papermill": {
     "duration": 0.023225,
     "end_time": "2025-10-19T13:31:51.359038",
     "exception": false,
     "start_time": "2025-10-19T13:31:51.335813",
     "status": "completed"
    },
    "tags": []
   },
   "outputs": [
    {
     "data": {
      "text/plain": [
       "(['Arabic_poetry_dataset.csv'], '/kaggle/input/arabic-poetry')"
      ]
     },
     "execution_count": 21,
     "metadata": {},
     "output_type": "execute_result"
    }
   ],
   "source": [
    "os.listdir(path), path"
   ]
  },
  {
   "cell_type": "code",
   "execution_count": 22,
   "id": "0f6de742",
   "metadata": {
    "execution": {
     "iopub.execute_input": "2025-10-19T13:31:51.380251Z",
     "iopub.status.busy": "2025-10-19T13:31:51.379729Z",
     "iopub.status.idle": "2025-10-19T13:31:53.625488Z",
     "shell.execute_reply": "2025-10-19T13:31:53.624712Z"
    },
    "id": "75d4f252",
    "papermill": {
     "duration": 2.257957,
     "end_time": "2025-10-19T13:31:53.627103",
     "exception": false,
     "start_time": "2025-10-19T13:31:51.369146",
     "status": "completed"
    },
    "tags": []
   },
   "outputs": [],
   "source": [
    "\n",
    "df = pd.read_csv(os.path.join(path, os.listdir(path)[0] ))"
   ]
  },
  {
   "cell_type": "markdown",
   "id": "5067ac95",
   "metadata": {
    "id": "e84eab07",
    "papermill": {
     "duration": 0.009902,
     "end_time": "2025-10-19T13:31:53.647777",
     "exception": false,
     "start_time": "2025-10-19T13:31:53.637875",
     "status": "completed"
    },
    "tags": []
   },
   "source": [
    "# Dataset Exploration"
   ]
  },
  {
   "cell_type": "code",
   "execution_count": 23,
   "id": "956c0729",
   "metadata": {
    "execution": {
     "iopub.execute_input": "2025-10-19T13:31:53.669065Z",
     "iopub.status.busy": "2025-10-19T13:31:53.668600Z",
     "iopub.status.idle": "2025-10-19T13:31:53.705558Z",
     "shell.execute_reply": "2025-10-19T13:31:53.704727Z"
    },
    "id": "753776c2",
    "outputId": "d7be6549-6dbc-4e02-9523-8d3ef5085dda",
    "papermill": {
     "duration": 0.049142,
     "end_time": "2025-10-19T13:31:53.706962",
     "exception": false,
     "start_time": "2025-10-19T13:31:53.657820",
     "status": "completed"
    },
    "tags": []
   },
   "outputs": [
    {
     "data": {
      "text/html": [
       "<div>\n",
       "<style scoped>\n",
       "    .dataframe tbody tr th:only-of-type {\n",
       "        vertical-align: middle;\n",
       "    }\n",
       "\n",
       "    .dataframe tbody tr th {\n",
       "        vertical-align: top;\n",
       "    }\n",
       "\n",
       "    .dataframe thead th {\n",
       "        text-align: right;\n",
       "    }\n",
       "</style>\n",
       "<table border=\"1\" class=\"dataframe\">\n",
       "  <thead>\n",
       "    <tr style=\"text-align: right;\">\n",
       "      <th></th>\n",
       "      <th>id</th>\n",
       "      <th>category</th>\n",
       "      <th>poet_name</th>\n",
       "      <th>poem_title</th>\n",
       "      <th>poem_text</th>\n",
       "    </tr>\n",
       "  </thead>\n",
       "  <tbody>\n",
       "    <tr>\n",
       "      <th>0</th>\n",
       "      <td>0</td>\n",
       "      <td>الإمارات</td>\n",
       "      <td>خلفان بن مصبح</td>\n",
       "      <td>بدت تختال في حُلل الجمالِ</td>\n",
       "      <td>بدت تختال في حُلل الجمالِ\\nوجادت بالزيارة والو...</td>\n",
       "    </tr>\n",
       "    <tr>\n",
       "      <th>1</th>\n",
       "      <td>1</td>\n",
       "      <td>الإمارات</td>\n",
       "      <td>خلفان بن مصبح</td>\n",
       "      <td>يا طائر الشعر القرير</td>\n",
       "      <td>يا طائر الشعر القرير\\nيا وحي إلهام الصدور\\nأسع...</td>\n",
       "    </tr>\n",
       "    <tr>\n",
       "      <th>2</th>\n",
       "      <td>2</td>\n",
       "      <td>الإمارات</td>\n",
       "      <td>خلفان بن مصبح</td>\n",
       "      <td>بنت حجرات أرى من عجب</td>\n",
       "      <td>بنت حجرات أرى من عجب\\nأن أرى فيك جمال العرب\\nد...</td>\n",
       "    </tr>\n",
       "    <tr>\n",
       "      <th>3</th>\n",
       "      <td>3</td>\n",
       "      <td>الإمارات</td>\n",
       "      <td>خلفان بن مصبح</td>\n",
       "      <td>هذا الربيع بنور الحسن وافانا</td>\n",
       "      <td>هذا الربيع بنور الحسن وافانا\\nوقد كسا الأرض با...</td>\n",
       "    </tr>\n",
       "    <tr>\n",
       "      <th>4</th>\n",
       "      <td>4</td>\n",
       "      <td>الإمارات</td>\n",
       "      <td>خلفان بن مصبح</td>\n",
       "      <td>روحي فداك وإن مُنحتُ صدوداً</td>\n",
       "      <td>روحي فداك وإن مُنحتُ صدوداً\\nأخفاك ما بي أم أط...</td>\n",
       "    </tr>\n",
       "    <tr>\n",
       "      <th>16765</th>\n",
       "      <td>16939</td>\n",
       "      <td>العصر العباسي</td>\n",
       "      <td>أبو العلاء المعري</td>\n",
       "      <td>سكنت إلى الدنيا فلما عرفتها</td>\n",
       "      <td>سَكَنتُ إِلى الدُنيا فَلَمّا عَرَفتُها\\nتَمَنّ...</td>\n",
       "    </tr>\n",
       "    <tr>\n",
       "      <th>11400</th>\n",
       "      <td>11574</td>\n",
       "      <td>مصر</td>\n",
       "      <td>مصطفى صادق الرافعي</td>\n",
       "      <td>آفة العالم أن لا يعملا</td>\n",
       "      <td>آفةُ العالمِ أن لا يعملا\\nوشقا الجاهلِ أن لا ي...</td>\n",
       "    </tr>\n",
       "    <tr>\n",
       "      <th>37613</th>\n",
       "      <td>37787</td>\n",
       "      <td>عصر المخضرمون</td>\n",
       "      <td>علي بن أبي طالب</td>\n",
       "      <td>أبى الله إلا أن صفين دارنا</td>\n",
       "      <td>أَبى اللَهُ إِلّا أَنَّ صِفِّينَ دارُنا\\nوَدار...</td>\n",
       "    </tr>\n",
       "    <tr>\n",
       "      <th>13700</th>\n",
       "      <td>13874</td>\n",
       "      <td>العصر الجاهلي</td>\n",
       "      <td>الخنساء</td>\n",
       "      <td>يا عين جودي بالدموع</td>\n",
       "      <td>يا عَينِ جودي بِالدُموعِ \\nالمُستَهِلّاتِ السَ...</td>\n",
       "    </tr>\n",
       "    <tr>\n",
       "      <th>3272</th>\n",
       "      <td>3379</td>\n",
       "      <td>اليمن</td>\n",
       "      <td>محمد الشوكاني</td>\n",
       "      <td>كأن وجه النهر إذ حفت به</td>\n",
       "      <td>كَأَنَّ وَجْهَ النَّهْرِ إذْ حَفَّتْ بِهِ\\nأَش...</td>\n",
       "    </tr>\n",
       "    <tr>\n",
       "      <th>54939</th>\n",
       "      <td>55113</td>\n",
       "      <td>العصر المملوكي</td>\n",
       "      <td>ابن زمرك</td>\n",
       "      <td>اسقني بنت الدوالي</td>\n",
       "      <td>اسقني بنت الدوالي\\nإنها نعم الدوالي\\nسقّني سر ...</td>\n",
       "    </tr>\n",
       "    <tr>\n",
       "      <th>54940</th>\n",
       "      <td>55114</td>\n",
       "      <td>العصر المملوكي</td>\n",
       "      <td>ابن زمرك</td>\n",
       "      <td>الإلاه يحمد ويشكر</td>\n",
       "      <td>الإلاه يحمد ويشكر\\nالمطر من اهن لشكر\\nوالإلاه ...</td>\n",
       "    </tr>\n",
       "    <tr>\n",
       "      <th>54941</th>\n",
       "      <td>55115</td>\n",
       "      <td>العصر المملوكي</td>\n",
       "      <td>ابن زمرك</td>\n",
       "      <td>ألني أبلغ من العمل</td>\n",
       "      <td>ألنيّ أبلغ من العمل\\nاللّه يبلّغك الأمل\\nنزيه ...</td>\n",
       "    </tr>\n",
       "    <tr>\n",
       "      <th>54942</th>\n",
       "      <td>55116</td>\n",
       "      <td>العصر المملوكي</td>\n",
       "      <td>ابن زمرك</td>\n",
       "      <td>مهرجان هوذا اليوم للإنسان</td>\n",
       "      <td>مهرجان هوذا اليوم للإنسان\\nألنزّيه والحسن والإ...</td>\n",
       "    </tr>\n",
       "    <tr>\n",
       "      <th>54943</th>\n",
       "      <td>55117</td>\n",
       "      <td>العصر المملوكي</td>\n",
       "      <td>ابن زمرك</td>\n",
       "      <td>الأمير بدر المواكب</td>\n",
       "      <td>الأمير بدر المواكب\\nزدل ناجم فالكواكب\\nالسعود ...</td>\n",
       "    </tr>\n",
       "  </tbody>\n",
       "</table>\n",
       "</div>"
      ],
      "text/plain": [
       "          id        category           poet_name  \\\n",
       "0          0        الإمارات       خلفان بن مصبح   \n",
       "1          1        الإمارات       خلفان بن مصبح   \n",
       "2          2        الإمارات       خلفان بن مصبح   \n",
       "3          3        الإمارات       خلفان بن مصبح   \n",
       "4          4        الإمارات       خلفان بن مصبح   \n",
       "16765  16939   العصر العباسي   أبو العلاء المعري   \n",
       "11400  11574             مصر  مصطفى صادق الرافعي   \n",
       "37613  37787   عصر المخضرمون     علي بن أبي طالب   \n",
       "13700  13874   العصر الجاهلي             الخنساء   \n",
       "3272    3379           اليمن       محمد الشوكاني   \n",
       "54939  55113  العصر المملوكي            ابن زمرك   \n",
       "54940  55114  العصر المملوكي            ابن زمرك   \n",
       "54941  55115  العصر المملوكي            ابن زمرك   \n",
       "54942  55116  العصر المملوكي            ابن زمرك   \n",
       "54943  55117  العصر المملوكي            ابن زمرك   \n",
       "\n",
       "                         poem_title  \\\n",
       "0         بدت تختال في حُلل الجمالِ   \n",
       "1              يا طائر الشعر القرير   \n",
       "2              بنت حجرات أرى من عجب   \n",
       "3      هذا الربيع بنور الحسن وافانا   \n",
       "4       روحي فداك وإن مُنحتُ صدوداً   \n",
       "16765   سكنت إلى الدنيا فلما عرفتها   \n",
       "11400        آفة العالم أن لا يعملا   \n",
       "37613    أبى الله إلا أن صفين دارنا   \n",
       "13700           يا عين جودي بالدموع   \n",
       "3272        كأن وجه النهر إذ حفت به   \n",
       "54939             اسقني بنت الدوالي   \n",
       "54940             الإلاه يحمد ويشكر   \n",
       "54941            ألني أبلغ من العمل   \n",
       "54942     مهرجان هوذا اليوم للإنسان   \n",
       "54943            الأمير بدر المواكب   \n",
       "\n",
       "                                               poem_text  \n",
       "0      بدت تختال في حُلل الجمالِ\\nوجادت بالزيارة والو...  \n",
       "1      يا طائر الشعر القرير\\nيا وحي إلهام الصدور\\nأسع...  \n",
       "2      بنت حجرات أرى من عجب\\nأن أرى فيك جمال العرب\\nد...  \n",
       "3      هذا الربيع بنور الحسن وافانا\\nوقد كسا الأرض با...  \n",
       "4      روحي فداك وإن مُنحتُ صدوداً\\nأخفاك ما بي أم أط...  \n",
       "16765  سَكَنتُ إِلى الدُنيا فَلَمّا عَرَفتُها\\nتَمَنّ...  \n",
       "11400  آفةُ العالمِ أن لا يعملا\\nوشقا الجاهلِ أن لا ي...  \n",
       "37613  أَبى اللَهُ إِلّا أَنَّ صِفِّينَ دارُنا\\nوَدار...  \n",
       "13700  يا عَينِ جودي بِالدُموعِ \\nالمُستَهِلّاتِ السَ...  \n",
       "3272   كَأَنَّ وَجْهَ النَّهْرِ إذْ حَفَّتْ بِهِ\\nأَش...  \n",
       "54939  اسقني بنت الدوالي\\nإنها نعم الدوالي\\nسقّني سر ...  \n",
       "54940  الإلاه يحمد ويشكر\\nالمطر من اهن لشكر\\nوالإلاه ...  \n",
       "54941  ألنيّ أبلغ من العمل\\nاللّه يبلّغك الأمل\\nنزيه ...  \n",
       "54942  مهرجان هوذا اليوم للإنسان\\nألنزّيه والحسن والإ...  \n",
       "54943  الأمير بدر المواكب\\nزدل ناجم فالكواكب\\nالسعود ...  "
      ]
     },
     "execution_count": 23,
     "metadata": {},
     "output_type": "execute_result"
    }
   ],
   "source": [
    "pd.concat([df.head(), df.sample(5), df.tail()])"
   ]
  },
  {
   "cell_type": "code",
   "execution_count": 24,
   "id": "8a087427",
   "metadata": {
    "execution": {
     "iopub.execute_input": "2025-10-19T13:31:53.733784Z",
     "iopub.status.busy": "2025-10-19T13:31:53.733289Z",
     "iopub.status.idle": "2025-10-19T13:31:53.775139Z",
     "shell.execute_reply": "2025-10-19T13:31:53.774352Z"
    },
    "id": "2bfe3195",
    "outputId": "2913ae7f-58f8-4b05-e621-4c9d2700aa66",
    "papermill": {
     "duration": 0.056053,
     "end_time": "2025-10-19T13:31:53.776376",
     "exception": false,
     "start_time": "2025-10-19T13:31:53.720323",
     "status": "completed"
    },
    "tags": []
   },
   "outputs": [
    {
     "name": "stdout",
     "output_type": "stream",
     "text": [
      "<class 'pandas.core.frame.DataFrame'>\n",
      "RangeIndex: 54944 entries, 0 to 54943\n",
      "Data columns (total 5 columns):\n",
      " #   Column      Non-Null Count  Dtype \n",
      "---  ------      --------------  ----- \n",
      " 0   id          54944 non-null  int64 \n",
      " 1   category    54944 non-null  object\n",
      " 2   poet_name   54944 non-null  object\n",
      " 3   poem_title  54944 non-null  object\n",
      " 4   poem_text   54944 non-null  object\n",
      "dtypes: int64(1), object(4)\n",
      "memory usage: 2.1+ MB\n"
     ]
    }
   ],
   "source": [
    "df.info()"
   ]
  },
  {
   "cell_type": "code",
   "execution_count": 25,
   "id": "9475f43e",
   "metadata": {
    "execution": {
     "iopub.execute_input": "2025-10-19T13:31:53.803059Z",
     "iopub.status.busy": "2025-10-19T13:31:53.802827Z",
     "iopub.status.idle": "2025-10-19T13:31:53.948035Z",
     "shell.execute_reply": "2025-10-19T13:31:53.947213Z"
    },
    "id": "1874a310",
    "outputId": "9915ca37-be68-43f0-cc71-697001acedb1",
    "papermill": {
     "duration": 0.159349,
     "end_time": "2025-10-19T13:31:53.949313",
     "exception": false,
     "start_time": "2025-10-19T13:31:53.789964",
     "status": "completed"
    },
    "tags": []
   },
   "outputs": [
    {
     "name": "stderr",
     "output_type": "stream",
     "text": [
      "/usr/local/lib/python3.11/dist-packages/pandas/io/formats/format.py:1458: RuntimeWarning: invalid value encountered in greater\n",
      "  has_large_values = (abs_vals > 1e6).any()\n",
      "/usr/local/lib/python3.11/dist-packages/pandas/io/formats/format.py:1459: RuntimeWarning: invalid value encountered in less\n",
      "  has_small_values = ((abs_vals < 10 ** (-self.digits)) & (abs_vals > 0)).any()\n",
      "/usr/local/lib/python3.11/dist-packages/pandas/io/formats/format.py:1459: RuntimeWarning: invalid value encountered in greater\n",
      "  has_small_values = ((abs_vals < 10 ** (-self.digits)) & (abs_vals > 0)).any()\n"
     ]
    },
    {
     "data": {
      "text/html": [
       "<div>\n",
       "<style scoped>\n",
       "    .dataframe tbody tr th:only-of-type {\n",
       "        vertical-align: middle;\n",
       "    }\n",
       "\n",
       "    .dataframe tbody tr th {\n",
       "        vertical-align: top;\n",
       "    }\n",
       "\n",
       "    .dataframe thead th {\n",
       "        text-align: right;\n",
       "    }\n",
       "</style>\n",
       "<table border=\"1\" class=\"dataframe\">\n",
       "  <thead>\n",
       "    <tr style=\"text-align: right;\">\n",
       "      <th></th>\n",
       "      <th>id</th>\n",
       "      <th>category</th>\n",
       "      <th>poet_name</th>\n",
       "      <th>poem_title</th>\n",
       "      <th>poem_text</th>\n",
       "    </tr>\n",
       "  </thead>\n",
       "  <tbody>\n",
       "    <tr>\n",
       "      <th>count</th>\n",
       "      <td>54944.000000</td>\n",
       "      <td>54944</td>\n",
       "      <td>54944</td>\n",
       "      <td>54944</td>\n",
       "      <td>54944</td>\n",
       "    </tr>\n",
       "    <tr>\n",
       "      <th>unique</th>\n",
       "      <td>NaN</td>\n",
       "      <td>28</td>\n",
       "      <td>538</td>\n",
       "      <td>54300</td>\n",
       "      <td>54767</td>\n",
       "    </tr>\n",
       "    <tr>\n",
       "      <th>top</th>\n",
       "      <td>NaN</td>\n",
       "      <td>العصر العباسي</td>\n",
       "      <td>ابن نباته المصري</td>\n",
       "      <td>لعمري وما عمري علي بهين</td>\n",
       "      <td>ظَلَّت بِقُمَّ مَطِيَّتي يَعتادُها\\nهَمّانِ غُ...</td>\n",
       "    </tr>\n",
       "    <tr>\n",
       "      <th>freq</th>\n",
       "      <td>NaN</td>\n",
       "      <td>10116</td>\n",
       "      <td>1726</td>\n",
       "      <td>4</td>\n",
       "      <td>2</td>\n",
       "    </tr>\n",
       "    <tr>\n",
       "      <th>mean</th>\n",
       "      <td>27636.214673</td>\n",
       "      <td>NaN</td>\n",
       "      <td>NaN</td>\n",
       "      <td>NaN</td>\n",
       "      <td>NaN</td>\n",
       "    </tr>\n",
       "    <tr>\n",
       "      <th>std</th>\n",
       "      <td>15875.618346</td>\n",
       "      <td>NaN</td>\n",
       "      <td>NaN</td>\n",
       "      <td>NaN</td>\n",
       "      <td>NaN</td>\n",
       "    </tr>\n",
       "    <tr>\n",
       "      <th>min</th>\n",
       "      <td>0.000000</td>\n",
       "      <td>NaN</td>\n",
       "      <td>NaN</td>\n",
       "      <td>NaN</td>\n",
       "      <td>NaN</td>\n",
       "    </tr>\n",
       "    <tr>\n",
       "      <th>25%</th>\n",
       "      <td>13909.750000</td>\n",
       "      <td>NaN</td>\n",
       "      <td>NaN</td>\n",
       "      <td>NaN</td>\n",
       "      <td>NaN</td>\n",
       "    </tr>\n",
       "    <tr>\n",
       "      <th>50%</th>\n",
       "      <td>27645.500000</td>\n",
       "      <td>NaN</td>\n",
       "      <td>NaN</td>\n",
       "      <td>NaN</td>\n",
       "      <td>NaN</td>\n",
       "    </tr>\n",
       "    <tr>\n",
       "      <th>75%</th>\n",
       "      <td>41381.250000</td>\n",
       "      <td>NaN</td>\n",
       "      <td>NaN</td>\n",
       "      <td>NaN</td>\n",
       "      <td>NaN</td>\n",
       "    </tr>\n",
       "    <tr>\n",
       "      <th>max</th>\n",
       "      <td>55117.000000</td>\n",
       "      <td>NaN</td>\n",
       "      <td>NaN</td>\n",
       "      <td>NaN</td>\n",
       "      <td>NaN</td>\n",
       "    </tr>\n",
       "  </tbody>\n",
       "</table>\n",
       "</div>"
      ],
      "text/plain": [
       "                  id       category         poet_name  \\\n",
       "count   54944.000000          54944             54944   \n",
       "unique           NaN             28               538   \n",
       "top              NaN  العصر العباسي  ابن نباته المصري   \n",
       "freq             NaN          10116              1726   \n",
       "mean    27636.214673            NaN               NaN   \n",
       "std     15875.618346            NaN               NaN   \n",
       "min         0.000000            NaN               NaN   \n",
       "25%     13909.750000            NaN               NaN   \n",
       "50%     27645.500000            NaN               NaN   \n",
       "75%     41381.250000            NaN               NaN   \n",
       "max     55117.000000            NaN               NaN   \n",
       "\n",
       "                     poem_title  \\\n",
       "count                     54944   \n",
       "unique                    54300   \n",
       "top     لعمري وما عمري علي بهين   \n",
       "freq                          4   \n",
       "mean                        NaN   \n",
       "std                         NaN   \n",
       "min                         NaN   \n",
       "25%                         NaN   \n",
       "50%                         NaN   \n",
       "75%                         NaN   \n",
       "max                         NaN   \n",
       "\n",
       "                                                poem_text  \n",
       "count                                               54944  \n",
       "unique                                              54767  \n",
       "top     ظَلَّت بِقُمَّ مَطِيَّتي يَعتادُها\\nهَمّانِ غُ...  \n",
       "freq                                                    2  \n",
       "mean                                                  NaN  \n",
       "std                                                   NaN  \n",
       "min                                                   NaN  \n",
       "25%                                                   NaN  \n",
       "50%                                                   NaN  \n",
       "75%                                                   NaN  \n",
       "max                                                   NaN  "
      ]
     },
     "execution_count": 25,
     "metadata": {},
     "output_type": "execute_result"
    }
   ],
   "source": [
    "df.describe(include='all')"
   ]
  },
  {
   "cell_type": "markdown",
   "id": "c2e63431",
   "metadata": {
    "id": "25c72ada",
    "papermill": {
     "duration": 0.010811,
     "end_time": "2025-10-19T13:31:53.972620",
     "exception": false,
     "start_time": "2025-10-19T13:31:53.961809",
     "status": "completed"
    },
    "tags": []
   },
   "source": [
    "# Data Preprocessing"
   ]
  },
  {
   "cell_type": "code",
   "execution_count": 26,
   "id": "7a7f87c9",
   "metadata": {
    "execution": {
     "iopub.execute_input": "2025-10-19T13:31:53.995334Z",
     "iopub.status.busy": "2025-10-19T13:31:53.994908Z",
     "iopub.status.idle": "2025-10-19T13:31:54.000625Z",
     "shell.execute_reply": "2025-10-19T13:31:53.999989Z"
    },
    "id": "a409288a",
    "papermill": {
     "duration": 0.018477,
     "end_time": "2025-10-19T13:31:54.001782",
     "exception": false,
     "start_time": "2025-10-19T13:31:53.983305",
     "status": "completed"
    },
    "tags": []
   },
   "outputs": [],
   "source": [
    "import re\n",
    "\n",
    "def clean_poem_text(txt):\n",
    "    # Normalize Arabic forms to standard letters\n",
    "    arabic_normalization = {\n",
    "        \"أ\": \"ا\", \"إ\": \"ا\", \"آ\": \"ا\",\n",
    "        \"ؤ\": \"و\", \"ئ\": \"ي\", \"ى\": \"ي\",\n",
    "        \"ة\": \"ه\", \"ۀ\": \"ه\",\n",
    "        \"گ\": \"ك\", \"پ\": \"ب\", \"چ\": \"ج\",\n",
    "        \"ژ\": \"ز\",\n",
    "        \"ی\": \"ي\",   # Persian Yeh → Arabic Yeh\n",
    "    }\n",
    "\n",
    "    for k, v in arabic_normalization.items():\n",
    "        txt = txt.replace(k, v)\n",
    "\n",
    "    # Remove Tatweel (ـ)\n",
    "    txt = txt.replace(\"ـ\", \"\")\n",
    "\n",
    "    # Remove diacritics (tashkeel)\n",
    "    txt = re.sub(r'[\\u064B-\\u0652]', '', txt)\n",
    "\n",
    "    # Remove English letters and digits\n",
    "    txt = re.sub(r'[A-Za-z0-9]', '', txt)\n",
    "\n",
    "    # Remove non-Arabic punctuation except (، ؛ ؟)\n",
    "    txt = re.sub(r'[^\\u0600-\\u06FF\\n،؛؟ ]', '', txt)\n",
    "\n",
    "    # Remove tabs\n",
    "    txt = re.sub(r'\\t', ' ', txt)\n",
    "\n",
    "    # Remove repeated spaces but keep newlines\n",
    "    txt = re.sub(r' {2,}', ' ', txt)\n",
    "\n",
    "    # Remove extra newlines\n",
    "    txt = re.sub(r'\\n{2,}', '\\n', txt)\n",
    "\n",
    "    # Trim each line\n",
    "    txt = '\\n'.join(line.strip() for line in txt.split('\\n'))\n",
    "\n",
    "    return txt.strip()"
   ]
  },
  {
   "cell_type": "code",
   "execution_count": 27,
   "id": "c7128135",
   "metadata": {
    "execution": {
     "iopub.execute_input": "2025-10-19T13:31:54.024125Z",
     "iopub.status.busy": "2025-10-19T13:31:54.023873Z",
     "iopub.status.idle": "2025-10-19T13:31:58.364020Z",
     "shell.execute_reply": "2025-10-19T13:31:58.363394Z"
    },
    "id": "ae3abe41",
    "papermill": {
     "duration": 4.352687,
     "end_time": "2025-10-19T13:31:58.365313",
     "exception": false,
     "start_time": "2025-10-19T13:31:54.012626",
     "status": "completed"
    },
    "tags": []
   },
   "outputs": [],
   "source": [
    "df['poem_text'] = df['poem_text'].apply(clean_poem_text)"
   ]
  },
  {
   "cell_type": "code",
   "execution_count": 28,
   "id": "266bf6f2",
   "metadata": {
    "execution": {
     "iopub.execute_input": "2025-10-19T13:31:58.388779Z",
     "iopub.status.busy": "2025-10-19T13:31:58.387992Z",
     "iopub.status.idle": "2025-10-19T13:31:58.716217Z",
     "shell.execute_reply": "2025-10-19T13:31:58.715681Z"
    },
    "id": "057bbb56",
    "papermill": {
     "duration": 0.340772,
     "end_time": "2025-10-19T13:31:58.717351",
     "exception": false,
     "start_time": "2025-10-19T13:31:58.376579",
     "status": "completed"
    },
    "tags": []
   },
   "outputs": [],
   "source": [
    "df['category'] = df['category'].apply(clean_poem_text)"
   ]
  },
  {
   "cell_type": "markdown",
   "id": "b5c0ae81",
   "metadata": {
    "id": "3b4252f9",
    "papermill": {
     "duration": 0.012909,
     "end_time": "2025-10-19T13:31:58.742868",
     "exception": false,
     "start_time": "2025-10-19T13:31:58.729959",
     "status": "completed"
    },
    "tags": []
   },
   "source": [
    "# Data Analysis"
   ]
  },
  {
   "cell_type": "code",
   "execution_count": 29,
   "id": "87798e97",
   "metadata": {
    "execution": {
     "iopub.execute_input": "2025-10-19T13:31:58.768268Z",
     "iopub.status.busy": "2025-10-19T13:31:58.767707Z",
     "iopub.status.idle": "2025-10-19T13:31:58.891802Z",
     "shell.execute_reply": "2025-10-19T13:31:58.891281Z"
    },
    "id": "9c5b0fdd",
    "papermill": {
     "duration": 0.138113,
     "end_time": "2025-10-19T13:31:58.892946",
     "exception": false,
     "start_time": "2025-10-19T13:31:58.754833",
     "status": "completed"
    },
    "tags": []
   },
   "outputs": [],
   "source": [
    "df['poem_n_lines'] = df['poem_text'].apply(count_n_lines)"
   ]
  },
  {
   "cell_type": "code",
   "execution_count": 30,
   "id": "0174cc77",
   "metadata": {
    "execution": {
     "iopub.execute_input": "2025-10-19T13:31:58.915335Z",
     "iopub.status.busy": "2025-10-19T13:31:58.915124Z",
     "iopub.status.idle": "2025-10-19T13:31:58.942923Z",
     "shell.execute_reply": "2025-10-19T13:31:58.942200Z"
    },
    "id": "d6f2f4fe",
    "papermill": {
     "duration": 0.040281,
     "end_time": "2025-10-19T13:31:58.943985",
     "exception": false,
     "start_time": "2025-10-19T13:31:58.903704",
     "status": "completed"
    },
    "tags": []
   },
   "outputs": [],
   "source": [
    "df['poem_n_chars'] = df['poem_text'].apply(count_n_chars)"
   ]
  },
  {
   "cell_type": "code",
   "execution_count": 31,
   "id": "a963d055",
   "metadata": {
    "execution": {
     "iopub.execute_input": "2025-10-19T13:31:58.965949Z",
     "iopub.status.busy": "2025-10-19T13:31:58.965752Z",
     "iopub.status.idle": "2025-10-19T13:31:59.305099Z",
     "shell.execute_reply": "2025-10-19T13:31:59.304533Z"
    },
    "id": "3b961196",
    "papermill": {
     "duration": 0.35164,
     "end_time": "2025-10-19T13:31:59.306256",
     "exception": false,
     "start_time": "2025-10-19T13:31:58.954616",
     "status": "completed"
    },
    "tags": []
   },
   "outputs": [],
   "source": [
    "df['poem_n_words'] = df['poem_text'].apply(count_n_words)"
   ]
  },
  {
   "cell_type": "markdown",
   "id": "5a514110",
   "metadata": {
    "id": "92aa70c2",
    "papermill": {
     "duration": 0.010906,
     "end_time": "2025-10-19T13:31:59.328285",
     "exception": false,
     "start_time": "2025-10-19T13:31:59.317379",
     "status": "completed"
    },
    "tags": []
   },
   "source": [
    "# Data Visualization"
   ]
  },
  {
   "cell_type": "code",
   "execution_count": 32,
   "id": "7973a3cd",
   "metadata": {
    "execution": {
     "iopub.execute_input": "2025-10-19T13:31:59.352238Z",
     "iopub.status.busy": "2025-10-19T13:31:59.352005Z",
     "iopub.status.idle": "2025-10-19T13:31:59.355578Z",
     "shell.execute_reply": "2025-10-19T13:31:59.355029Z"
    },
    "id": "453f4887",
    "papermill": {
     "duration": 0.017469,
     "end_time": "2025-10-19T13:31:59.356711",
     "exception": false,
     "start_time": "2025-10-19T13:31:59.339242",
     "status": "completed"
    },
    "tags": []
   },
   "outputs": [],
   "source": [
    "plt.style.use(plt.style.available[12])"
   ]
  },
  {
   "cell_type": "code",
   "execution_count": 33,
   "id": "67f219e1",
   "metadata": {
    "execution": {
     "iopub.execute_input": "2025-10-19T13:31:59.379181Z",
     "iopub.status.busy": "2025-10-19T13:31:59.379004Z",
     "iopub.status.idle": "2025-10-19T13:32:00.126779Z",
     "shell.execute_reply": "2025-10-19T13:32:00.126034Z"
    },
    "id": "730f128f",
    "outputId": "a36deae2-aac9-4d48-c1a1-68846f6dcc87",
    "papermill": {
     "duration": 0.76029,
     "end_time": "2025-10-19T13:32:00.127896",
     "exception": false,
     "start_time": "2025-10-19T13:31:59.367606",
     "status": "completed"
    },
    "tags": []
   },
   "outputs": [
    {
     "name": "stderr",
     "output_type": "stream",
     "text": [
      "/usr/local/lib/python3.11/dist-packages/seaborn/_oldcore.py:1119: FutureWarning: use_inf_as_na option is deprecated and will be removed in a future version. Convert inf values to NaN before operating instead.\n",
      "  with pd.option_context('mode.use_inf_as_na', True):\n"
     ]
    },
    {
     "data": {
      "text/plain": [
       "<Axes: title={'center': 'Distribution of Number of Lines per Poem'}, xlabel='poem_n_lines', ylabel='Count'>"
      ]
     },
     "execution_count": 33,
     "metadata": {},
     "output_type": "execute_result"
    },
    {
     "data": {
      "image/png": "[encoded data removed]",
      "text/plain": [
       "<Figure size 640x480 with 1 Axes>"
      ]
     },
     "metadata": {},
     "output_type": "display_data"
    }
   ],
   "source": [
    "plt.title(\"Distribution of Number of Lines per Poem\")\n",
    "sns.histplot(data=df, x='poem_n_lines', bins=120, kde=True)"
   ]
  },
  {
   "cell_type": "code",
   "execution_count": 34,
   "id": "c873ce1d",
   "metadata": {
    "execution": {
     "iopub.execute_input": "2025-10-19T13:32:00.152488Z",
     "iopub.status.busy": "2025-10-19T13:32:00.151912Z",
     "iopub.status.idle": "2025-10-19T13:32:00.710358Z",
     "shell.execute_reply": "2025-10-19T13:32:00.709683Z"
    },
    "id": "0972287b",
    "outputId": "e9da5a27-64d9-48bb-8f4b-bb356b1f64bf",
    "papermill": {
     "duration": 0.571885,
     "end_time": "2025-10-19T13:32:00.711703",
     "exception": false,
     "start_time": "2025-10-19T13:32:00.139818",
     "status": "completed"
    },
    "tags": []
   },
   "outputs": [
    {
     "name": "stderr",
     "output_type": "stream",
     "text": [
      "/usr/local/lib/python3.11/dist-packages/seaborn/_oldcore.py:1119: FutureWarning: use_inf_as_na option is deprecated and will be removed in a future version. Convert inf values to NaN before operating instead.\n",
      "  with pd.option_context('mode.use_inf_as_na', True):\n"
     ]
    },
    {
     "data": {
      "text/plain": [
       "<Axes: title={'center': 'Distribution of Number of Chars per Poem'}, xlabel='poem_n_chars', ylabel='Count'>"
      ]
     },
     "execution_count": 34,
     "metadata": {},
     "output_type": "execute_result"
    },
    {
     "data": {
      "image/png": "[encoded data removed]",
      "text/plain": [
       "<Figure size 640x480 with 1 Axes>"
      ]
     },
     "metadata": {},
     "output_type": "display_data"
    }
   ],
   "source": [
    "plt.title(\"Distribution of Number of Chars per Poem\")\n",
    "sns.histplot(data=df, x='poem_n_chars', bins=120, kde=True)"
   ]
  },
  {
   "cell_type": "code",
   "execution_count": 35,
   "id": "6bee12b6",
   "metadata": {
    "execution": {
     "iopub.execute_input": "2025-10-19T13:32:00.737621Z",
     "iopub.status.busy": "2025-10-19T13:32:00.737388Z",
     "iopub.status.idle": "2025-10-19T13:32:01.305144Z",
     "shell.execute_reply": "2025-10-19T13:32:01.304292Z"
    },
    "id": "b706cb68",
    "outputId": "9a934e2e-6ca7-4e3a-fb28-e3d4b7c9a323",
    "papermill": {
     "duration": 0.581802,
     "end_time": "2025-10-19T13:32:01.306620",
     "exception": false,
     "start_time": "2025-10-19T13:32:00.724818",
     "status": "completed"
    },
    "tags": []
   },
   "outputs": [
    {
     "name": "stderr",
     "output_type": "stream",
     "text": [
      "/usr/local/lib/python3.11/dist-packages/seaborn/_oldcore.py:1119: FutureWarning: use_inf_as_na option is deprecated and will be removed in a future version. Convert inf values to NaN before operating instead.\n",
      "  with pd.option_context('mode.use_inf_as_na', True):\n"
     ]
    },
    {
     "data": {
      "text/plain": [
       "<Axes: title={'center': 'Distribution of Number of Words per Poem'}, xlabel='poem_n_words', ylabel='Count'>"
      ]
     },
     "execution_count": 35,
     "metadata": {},
     "output_type": "execute_result"
    },
    {
     "data": {
      "image/png": "[encoded data removed]",
      "text/plain": [
       "<Figure size 640x480 with 1 Axes>"
      ]
     },
     "metadata": {},
     "output_type": "display_data"
    }
   ],
   "source": [
    "plt.title(\"Distribution of Number of Words per Poem\")\n",
    "sns.histplot(data=df, x='poem_n_words', bins=120, kde=True)"
   ]
  },
  {
   "cell_type": "code",
   "execution_count": 36,
   "id": "f708e2e2",
   "metadata": {
    "execution": {
     "iopub.execute_input": "2025-10-19T13:32:01.336928Z",
     "iopub.status.busy": "2025-10-19T13:32:01.336404Z",
     "iopub.status.idle": "2025-10-19T13:32:01.676250Z",
     "shell.execute_reply": "2025-10-19T13:32:01.675570Z"
    },
    "id": "c26dcf2c",
    "outputId": "22e8fc47-b70e-4f14-a21c-b29ce47da047",
    "papermill": {
     "duration": 0.356294,
     "end_time": "2025-10-19T13:32:01.677851",
     "exception": false,
     "start_time": "2025-10-19T13:32:01.321557",
     "status": "completed"
    },
    "tags": []
   },
   "outputs": [
    {
     "data": {
      "image/png": "[encoded data removed]",
      "text/plain": [
       "<Figure size 640x480 with 1 Axes>"
      ]
     },
     "metadata": {},
     "output_type": "display_data"
    }
   ],
   "source": [
    "plt.title(\"Number of Poems per Category\")\n",
    "ax = sns.countplot(data=df, x='category')\n",
    "plt.xticks(rotation=45)\n",
    "\n",
    "labels = [t.get_text() for t in ax.get_xticklabels()]\n",
    "reshaped_labels = [get_display(arabic_reshaper.reshape(l)) for l in labels]\n",
    "ax.set_xticklabels(reshaped_labels, rotation=45)\n",
    "\n",
    "plt.show()"
   ]
  },
  {
   "cell_type": "markdown",
   "id": "bab503ab",
   "metadata": {
    "id": "82516b5e",
    "papermill": {
     "duration": 0.01322,
     "end_time": "2025-10-19T13:32:01.705505",
     "exception": false,
     "start_time": "2025-10-19T13:32:01.692285",
     "status": "completed"
    },
    "tags": []
   },
   "source": [
    "# Tokenizer"
   ]
  },
  {
   "cell_type": "code",
   "execution_count": 37,
   "id": "7c6aa566",
   "metadata": {
    "execution": {
     "iopub.execute_input": "2025-10-19T13:32:01.733306Z",
     "iopub.status.busy": "2025-10-19T13:32:01.732747Z",
     "iopub.status.idle": "2025-10-19T13:32:03.586789Z",
     "shell.execute_reply": "2025-10-19T13:32:03.585825Z"
    },
    "id": "xp6GAWvDVIw9",
    "outputId": "00ade5ea-d72d-4834-d0d1-4e3ad911ccd1",
    "papermill": {
     "duration": 1.869279,
     "end_time": "2025-10-19T13:32:03.588085",
     "exception": false,
     "start_time": "2025-10-19T13:32:01.718806",
     "status": "completed"
    },
    "tags": []
   },
   "outputs": [
    {
     "name": "stderr",
     "output_type": "stream",
     "text": [
      "100%|██████████| 54944/54944 [00:01<00:00, 29941.56it/s]"
     ]
    },
    {
     "name": "stdout",
     "output_type": "stream",
     "text": [
      "Created new tokenizer with 35 tokens.\n"
     ]
    },
    {
     "name": "stderr",
     "output_type": "stream",
     "text": [
      "\n"
     ]
    }
   ],
   "source": [
    "if os.path.exists(TOKENIZER_PATH):\n",
    "    tokenizer_dict = read_json(TOKENIZER_PATH)\n",
    "    print(\"Loaded existing tokenizer with {} tokens.\".format(len(tokenizer_dict)))\n",
    "else:\n",
    "    # Create tokenizer\n",
    "    chars_set = set()\n",
    "\n",
    "    for seq in tqdm.tqdm(list(df['poem_text'])):\n",
    "        chars_set.update(list(seq))\n",
    "\n",
    "    chars_list = sorted(list(chars_set))\n",
    "\n",
    "    if START_TOKEN in chars_list:\n",
    "        chars_list.remove(START_TOKEN)\n",
    "\n",
    "    # to be at index 0\n",
    "    chars_list.insert(0, START_TOKEN)\n",
    "\n",
    "    tokenizer_dict = {ch: idx for idx, ch in enumerate(chars_list)}\n",
    "\n",
    "    write_json(TOKENIZER_PATH, tokenizer_dict)\n",
    "    print(\"Created new tokenizer with {} tokens.\".format(len(tokenizer_dict)))"
   ]
  },
  {
   "cell_type": "code",
   "execution_count": 38,
   "id": "0dd082ca",
   "metadata": {
    "execution": {
     "iopub.execute_input": "2025-10-19T13:32:03.618369Z",
     "iopub.status.busy": "2025-10-19T13:32:03.618125Z",
     "iopub.status.idle": "2025-10-19T13:32:03.622146Z",
     "shell.execute_reply": "2025-10-19T13:32:03.621434Z"
    },
    "id": "GDXXBg0HysCd",
    "papermill": {
     "duration": 0.02029,
     "end_time": "2025-10-19T13:32:03.623419",
     "exception": false,
     "start_time": "2025-10-19T13:32:03.603129",
     "status": "completed"
    },
    "tags": []
   },
   "outputs": [],
   "source": [
    "def tokenizer_decode(sequence):\n",
    "  msg = \"\"\n",
    "\n",
    "  for idx in sequence:\n",
    "    msg += list(tokenizer_dict.keys())[list(tokenizer_dict.values()).index(idx)]\n",
    "\n",
    "  return msg"
   ]
  },
  {
   "cell_type": "markdown",
   "id": "876ea962",
   "metadata": {
    "id": "fhrd_2zOryWK",
    "papermill": {
     "duration": 0.013853,
     "end_time": "2025-10-19T13:32:03.651686",
     "exception": false,
     "start_time": "2025-10-19T13:32:03.637833",
     "status": "completed"
    },
    "tags": []
   },
   "source": [
    "# Data Scanner"
   ]
  },
  {
   "cell_type": "code",
   "execution_count": 39,
   "id": "cb0cccfe",
   "metadata": {
    "execution": {
     "iopub.execute_input": "2025-10-19T13:32:03.680477Z",
     "iopub.status.busy": "2025-10-19T13:32:03.680293Z",
     "iopub.status.idle": "2025-10-19T13:32:03.683192Z",
     "shell.execute_reply": "2025-10-19T13:32:03.682719Z"
    },
    "id": "obd2He1hr5e1",
    "papermill": {
     "duration": 0.018539,
     "end_time": "2025-10-19T13:32:03.684216",
     "exception": false,
     "start_time": "2025-10-19T13:32:03.665677",
     "status": "completed"
    },
    "tags": []
   },
   "outputs": [],
   "source": [
    "scanned_windows_df = []"
   ]
  },
  {
   "cell_type": "code",
   "execution_count": 40,
   "id": "047d5308",
   "metadata": {
    "execution": {
     "iopub.execute_input": "2025-10-19T13:32:03.713444Z",
     "iopub.status.busy": "2025-10-19T13:32:03.713267Z",
     "iopub.status.idle": "2025-10-19T13:32:21.735568Z",
     "shell.execute_reply": "2025-10-19T13:32:21.734552Z"
    },
    "id": "QjVTf_3isN2T",
    "outputId": "c75f3f72-ca25-45ef-9e7d-3b49961631f8",
    "papermill": {
     "duration": 18.038278,
     "end_time": "2025-10-19T13:32:21.736749",
     "exception": false,
     "start_time": "2025-10-19T13:32:03.698471",
     "status": "completed"
    },
    "tags": []
   },
   "outputs": [
    {
     "name": "stderr",
     "output_type": "stream",
     "text": [
      "100%|██████████| 54944/54944 [00:18<00:00, 3049.85it/s]\n"
     ]
    }
   ],
   "source": [
    "for idx, row in tqdm.tqdm(df.iterrows(), total=df.shape[0]):\n",
    "    poem_id = row['id']\n",
    "    poem_text = row['poem_text']\n",
    "\n",
    "    n_chars = len(poem_text)\n",
    "\n",
    "    start_i = -1 * WINDOW_SIZE + 1\n",
    "\n",
    "    while True:\n",
    "        end_i = start_i + WINDOW_SIZE\n",
    "\n",
    "        if end_i >= n_chars:\n",
    "            break\n",
    "\n",
    "        scanned_windows_df.append(\n",
    "            {\n",
    "                'poem_id': poem_id,\n",
    "                'start_i': start_i,\n",
    "            }\n",
    "        )\n",
    "\n",
    "        start_i += 1"
   ]
  },
  {
   "cell_type": "code",
   "execution_count": 41,
   "id": "ef24cfd9",
   "metadata": {
    "execution": {
     "iopub.execute_input": "2025-10-19T13:32:21.778094Z",
     "iopub.status.busy": "2025-10-19T13:32:21.777870Z",
     "iopub.status.idle": "2025-10-19T13:32:45.000098Z",
     "shell.execute_reply": "2025-10-19T13:32:44.999361Z"
    },
    "id": "k8pHnAUGu-M_",
    "outputId": "a34a807b-036f-4b31-926f-b49ed3caa3c3",
    "papermill": {
     "duration": 23.244168,
     "end_time": "2025-10-19T13:32:45.001657",
     "exception": false,
     "start_time": "2025-10-19T13:32:21.757489",
     "status": "completed"
    },
    "tags": []
   },
   "outputs": [
    {
     "name": "stdout",
     "output_type": "stream",
     "text": [
      "Converting to DataFrame\n"
     ]
    }
   ],
   "source": [
    "print(\"Converting to DataFrame\")\n",
    "scanned_windows_df = pd.DataFrame(scanned_windows_df)"
   ]
  },
  {
   "cell_type": "code",
   "execution_count": 42,
   "id": "6b905fa9",
   "metadata": {
    "execution": {
     "iopub.execute_input": "2025-10-19T13:32:45.043363Z",
     "iopub.status.busy": "2025-10-19T13:32:45.043131Z",
     "iopub.status.idle": "2025-10-19T13:32:45.054974Z",
     "shell.execute_reply": "2025-10-19T13:32:45.054411Z"
    },
    "id": "UgrgZtHPtjdr",
    "outputId": "dedfbb6b-410a-4582-a2f1-1c6f3c06dc9c",
    "papermill": {
     "duration": 0.033258,
     "end_time": "2025-10-19T13:32:45.055976",
     "exception": false,
     "start_time": "2025-10-19T13:32:45.022718",
     "status": "completed"
    },
    "tags": []
   },
   "outputs": [
    {
     "data": {
      "text/html": [
       "<div>\n",
       "<style scoped>\n",
       "    .dataframe tbody tr th:only-of-type {\n",
       "        vertical-align: middle;\n",
       "    }\n",
       "\n",
       "    .dataframe tbody tr th {\n",
       "        vertical-align: top;\n",
       "    }\n",
       "\n",
       "    .dataframe thead th {\n",
       "        text-align: right;\n",
       "    }\n",
       "</style>\n",
       "<table border=\"1\" class=\"dataframe\">\n",
       "  <thead>\n",
       "    <tr style=\"text-align: right;\">\n",
       "      <th></th>\n",
       "      <th>poem_id</th>\n",
       "      <th>start_i</th>\n",
       "    </tr>\n",
       "  </thead>\n",
       "  <tbody>\n",
       "    <tr>\n",
       "      <th>0</th>\n",
       "      <td>0</td>\n",
       "      <td>-99</td>\n",
       "    </tr>\n",
       "    <tr>\n",
       "      <th>1</th>\n",
       "      <td>0</td>\n",
       "      <td>-98</td>\n",
       "    </tr>\n",
       "    <tr>\n",
       "      <th>2</th>\n",
       "      <td>0</td>\n",
       "      <td>-97</td>\n",
       "    </tr>\n",
       "    <tr>\n",
       "      <th>3</th>\n",
       "      <td>0</td>\n",
       "      <td>-96</td>\n",
       "    </tr>\n",
       "    <tr>\n",
       "      <th>4</th>\n",
       "      <td>0</td>\n",
       "      <td>-95</td>\n",
       "    </tr>\n",
       "    <tr>\n",
       "      <th>...</th>\n",
       "      <td>...</td>\n",
       "      <td>...</td>\n",
       "    </tr>\n",
       "    <tr>\n",
       "      <th>33779646</th>\n",
       "      <td>55117</td>\n",
       "      <td>1092</td>\n",
       "    </tr>\n",
       "    <tr>\n",
       "      <th>33779647</th>\n",
       "      <td>55117</td>\n",
       "      <td>1093</td>\n",
       "    </tr>\n",
       "    <tr>\n",
       "      <th>33779648</th>\n",
       "      <td>55117</td>\n",
       "      <td>1094</td>\n",
       "    </tr>\n",
       "    <tr>\n",
       "      <th>33779649</th>\n",
       "      <td>55117</td>\n",
       "      <td>1095</td>\n",
       "    </tr>\n",
       "    <tr>\n",
       "      <th>33779650</th>\n",
       "      <td>55117</td>\n",
       "      <td>1096</td>\n",
       "    </tr>\n",
       "  </tbody>\n",
       "</table>\n",
       "<p>33779651 rows × 2 columns</p>\n",
       "</div>"
      ],
      "text/plain": [
       "          poem_id  start_i\n",
       "0               0      -99\n",
       "1               0      -98\n",
       "2               0      -97\n",
       "3               0      -96\n",
       "4               0      -95\n",
       "...           ...      ...\n",
       "33779646    55117     1092\n",
       "33779647    55117     1093\n",
       "33779648    55117     1094\n",
       "33779649    55117     1095\n",
       "33779650    55117     1096\n",
       "\n",
       "[33779651 rows x 2 columns]"
      ]
     },
     "execution_count": 42,
     "metadata": {},
     "output_type": "execute_result"
    }
   ],
   "source": [
    "scanned_windows_df"
   ]
  },
  {
   "cell_type": "markdown",
   "id": "c1c0306e",
   "metadata": {
    "id": "a683654c",
    "papermill": {
     "duration": 0.019169,
     "end_time": "2025-10-19T13:32:45.095557",
     "exception": false,
     "start_time": "2025-10-19T13:32:45.076388",
     "status": "completed"
    },
    "tags": []
   },
   "source": [
    "# Data Split"
   ]
  },
  {
   "cell_type": "code",
   "execution_count": 43,
   "id": "f15b3fce",
   "metadata": {
    "execution": {
     "iopub.execute_input": "2025-10-19T13:32:45.135236Z",
     "iopub.status.busy": "2025-10-19T13:32:45.134854Z",
     "iopub.status.idle": "2025-10-19T13:32:48.397144Z",
     "shell.execute_reply": "2025-10-19T13:32:48.396564Z"
    },
    "id": "03614333",
    "papermill": {
     "duration": 3.283838,
     "end_time": "2025-10-19T13:32:48.398621",
     "exception": false,
     "start_time": "2025-10-19T13:32:45.114783",
     "status": "completed"
    },
    "tags": []
   },
   "outputs": [],
   "source": [
    "scanned_windows_train, scanned_windows_df_test = train_test_split(\n",
    "    scanned_windows_df,\n",
    "    test_size=TEST_SIZE,\n",
    "    random_state=RANDOM_SEED\n",
    ")\n",
    "\n",
    "scanned_windows_df_val, scanned_windows_df_test = train_test_split(\n",
    "    scanned_windows_df_test,\n",
    "    test_size= TEST_SIZE / (TEST_SIZE + VAL_SIZE),\n",
    "    random_state=RANDOM_SEED\n",
    ")"
   ]
  },
  {
   "cell_type": "code",
   "execution_count": 44,
   "id": "7a44c681",
   "metadata": {
    "execution": {
     "iopub.execute_input": "2025-10-19T13:32:48.440512Z",
     "iopub.status.busy": "2025-10-19T13:32:48.440313Z",
     "iopub.status.idle": "2025-10-19T13:32:48.445088Z",
     "shell.execute_reply": "2025-10-19T13:32:48.444354Z"
    },
    "id": "f7d8fc5e",
    "outputId": "66245dc5-c400-41db-d63d-f914159a1311",
    "papermill": {
     "duration": 0.026002,
     "end_time": "2025-10-19T13:32:48.446159",
     "exception": false,
     "start_time": "2025-10-19T13:32:48.420157",
     "status": "completed"
    },
    "tags": []
   },
   "outputs": [
    {
     "name": "stdout",
     "output_type": "stream",
     "text": [
      "Scanned Train len:  27,023,720\n",
      "Scanned Val len:    3,377,965\n",
      "Scanned Test len:   3,377,966\n"
     ]
    }
   ],
   "source": [
    "print(f\"Scanned Train len:  {len(scanned_windows_train):,}\")\n",
    "print(f\"Scanned Val len:    {len(scanned_windows_df_val):,}\")\n",
    "print(f\"Scanned Test len:   {len(scanned_windows_df_test):,}\")\n"
   ]
  },
  {
   "cell_type": "markdown",
   "id": "759e3a37",
   "metadata": {
    "id": "aCH6nj74vtlq",
    "papermill": {
     "duration": 0.021338,
     "end_time": "2025-10-19T13:32:48.487069",
     "exception": false,
     "start_time": "2025-10-19T13:32:48.465731",
     "status": "completed"
    },
    "tags": []
   },
   "source": [
    "# Data Loader"
   ]
  },
  {
   "cell_type": "code",
   "execution_count": 45,
   "id": "6ee0e11a",
   "metadata": {
    "execution": {
     "iopub.execute_input": "2025-10-19T13:32:48.527129Z",
     "iopub.status.busy": "2025-10-19T13:32:48.526926Z",
     "iopub.status.idle": "2025-10-19T13:32:48.537269Z",
     "shell.execute_reply": "2025-10-19T13:32:48.536288Z"
    },
    "id": "mk3ffYUovv-f",
    "papermill": {
     "duration": 0.031957,
     "end_time": "2025-10-19T13:32:48.538378",
     "exception": false,
     "start_time": "2025-10-19T13:32:48.506421",
     "status": "completed"
    },
    "tags": []
   },
   "outputs": [],
   "source": [
    "# Global cache shared across all DataLoader instances\n",
    "_GLOBAL_POEM_CACHE = {}\n",
    "\n",
    "\n",
    "class DataLoader(Sequence):\n",
    "    def __init__(self, scanned_df, df, tokenizer_dict,\n",
    "                 batch_size=BATCH_SIZE,\n",
    "                 shuffle=True,\n",
    "                 window_size=WINDOW_SIZE,\n",
    "                 start_token=START_TOKEN,\n",
    "                 drop_random=0.0):\n",
    "\n",
    "        global _GLOBAL_POEM_CACHE\n",
    "\n",
    "        self.scanned_df = scanned_df.reset_index(drop=True)\n",
    "        self.df = df\n",
    "        self.tokenizer_dict = tokenizer_dict\n",
    "        self.batch_size = batch_size\n",
    "        self.shuffle = shuffle\n",
    "        self.window_size = window_size\n",
    "        self.start_token = start_token\n",
    "        self.drop_random = np.clip(drop_random, 0.0, 0.9)  # prevent full drop\n",
    "\n",
    "        # Add new poems to the global cache (if not already cached)\n",
    "        new_poems = df[~df['id'].isin(_GLOBAL_POEM_CACHE)]\n",
    "        if len(new_poems) > 0:\n",
    "            for poem_id, poem_text in zip(new_poems['id'].values, new_poems['poem_text'].values):\n",
    "                _GLOBAL_POEM_CACHE[poem_id] = poem_text\n",
    "            print(f\"[DataLoader] Cached {len(new_poems)} new poems → total cache size: {len(_GLOBAL_POEM_CACHE)}\")\n",
    "\n",
    "        self.poem_cache = _GLOBAL_POEM_CACHE\n",
    "        self.on_epoch_end()\n",
    "\n",
    "    def __len__(self):\n",
    "        effective_len = int(len(self.scanned_df) * (1 - self.drop_random))\n",
    "\n",
    "        return effective_len // self.batch_size\n",
    "\n",
    "    def __getitem__(self, idx):\n",
    "        batch_indices = self.indices[idx * self.batch_size:(idx + 1) * self.batch_size]\n",
    "        batch_df = self.scanned_df.iloc[batch_indices]\n",
    "\n",
    "        poem_ids = batch_df['poem_id'].values\n",
    "        starts = batch_df['start_i'].values\n",
    "\n",
    "        X, y = self._generate_pairs_fast(poem_ids, starts)\n",
    "        return X, y\n",
    "\n",
    "    def on_epoch_end(self):\n",
    "        self.indices = np.arange(len(self.scanned_df))\n",
    "\n",
    "        if self.shuffle:\n",
    "            np.random.shuffle(self.indices)\n",
    "\n",
    "        # 💡 Apply drop_random to reduce samples per epoch\n",
    "        if self.drop_random > 0:\n",
    "            keep_n = int(len(self.indices) * (1 - self.drop_random))\n",
    "            self.indices = self.indices[:keep_n]\n",
    "\n",
    "    def _generate_pairs_fast(self, poem_ids, starts):\n",
    "        X, y = [], []\n",
    "        ws = self.window_size\n",
    "        tdict = self.tokenizer_dict\n",
    "        start_token = self.start_token\n",
    "        poem_cache = self.poem_cache\n",
    "\n",
    "        for poem_id, start_i in zip(poem_ids, starts):\n",
    "            poem_text = poem_cache.get(poem_id)\n",
    "            if poem_text is None:\n",
    "                continue  # skip missing poem\n",
    "\n",
    "            n_pad = -start_i if start_i < 0 else 0\n",
    "            pos_start_id = max(start_i, 0)\n",
    "\n",
    "            seq = start_token * n_pad + poem_text[pos_start_id:pos_start_id + ws - n_pad]\n",
    "            if pos_start_id + ws - n_pad >= len(poem_text):\n",
    "                continue  # skip incomplete window\n",
    "\n",
    "            label = poem_text[pos_start_id + ws - n_pad]\n",
    "\n",
    "            X.append([tdict[ch] for ch in seq])\n",
    "            y.append(tdict[label])\n",
    "\n",
    "        return np.array(X, dtype=np.int32), np.array(y, dtype=np.int32)"
   ]
  },
  {
   "cell_type": "code",
   "execution_count": 46,
   "id": "281d9d50",
   "metadata": {
    "execution": {
     "iopub.execute_input": "2025-10-19T13:32:48.578835Z",
     "iopub.status.busy": "2025-10-19T13:32:48.578605Z",
     "iopub.status.idle": "2025-10-19T13:32:50.026164Z",
     "shell.execute_reply": "2025-10-19T13:32:50.025558Z"
    },
    "id": "ETEolRxtyHJc",
    "outputId": "96936462-755d-4559-90a4-73041c569e89",
    "papermill": {
     "duration": 1.4692,
     "end_time": "2025-10-19T13:32:50.027442",
     "exception": false,
     "start_time": "2025-10-19T13:32:48.558242",
     "status": "completed"
    },
    "tags": []
   },
   "outputs": [
    {
     "name": "stdout",
     "output_type": "stream",
     "text": [
      "[DataLoader] Cached 54944 new poems → total cache size: 54944\n"
     ]
    }
   ],
   "source": [
    "train_data_loader = DataLoader(scanned_windows_train, df, tokenizer_dict, shuffle=True, drop_random= 0.5)\n",
    "val_data_loader = DataLoader(scanned_windows_df_val, df, tokenizer_dict, shuffle=False, drop_random= 0.5)\n",
    "test_data_loader = DataLoader(scanned_windows_df_test, df, tokenizer_dict, shuffle=False, drop_random= 0.5)"
   ]
  },
  {
   "cell_type": "code",
   "execution_count": 47,
   "id": "04831216",
   "metadata": {
    "execution": {
     "iopub.execute_input": "2025-10-19T13:32:50.069891Z",
     "iopub.status.busy": "2025-10-19T13:32:50.069654Z",
     "iopub.status.idle": "2025-10-19T13:32:50.120010Z",
     "shell.execute_reply": "2025-10-19T13:32:50.118816Z"
    },
    "id": "7QV8Dt2zyQyE",
    "outputId": "5ba26298-b2cc-4a35-b430-b2420afe51ce",
    "papermill": {
     "duration": 0.072952,
     "end_time": "2025-10-19T13:32:50.121599",
     "exception": false,
     "start_time": "2025-10-19T13:32:50.048647",
     "status": "completed"
    },
    "tags": []
   },
   "outputs": [
    {
     "name": "stdout",
     "output_type": "stream",
     "text": [
      "X (length: 100):\n",
      "طان\n",
      "خطافه الحركات ذات مساعر\n",
      "حملت جفون مراجل وجفان\n",
      "كالبحر اعلاها اللهيب وقعرها\n",
      "جمر كمثل سبايك العقيان\n",
      "[22  7 31  1 13 22  7 26 32  2  7 29 12 16 28  7  9  2 15  7  9  2 30 18\n",
      "  7 24 16  1 12 30 29  9  2 11 26 33 31  2 30 16  7 11 29  2 33 11 26  7\n",
      " 31  1 28  7 29  8 12 16  2  7 24 29  7 32  7  2  7 29 29 32 34  8  2 33\n",
      " 27 24 16 32  7  1 11 30 16  2 28 30 10 29  2 18  8  7 34 28  2  7 29 24\n",
      " 27 34  7 31]\n",
      "y: 1, \n",
      "\n",
      "\n",
      "X (length: 100):\n",
      "ل كل جنس\n",
      "اري ما يطمع الراجين فيه\n",
      "فاطمع في نجاتك بعد ياس\n",
      "سافرغ للثناء عليه فكري\n",
      "واملاء القريض عليك طر\n",
      "[29  2 28 29  2 11 31 18  1  7 16 34  2 30  7  2 34 22 30 24  2  7 29 16\n",
      "  7 11 34 31  2 26 34 32  1 26  7 22 30 24  2 26 34  2 31 11  7  9 28  2\n",
      "  8 24 14  2 34  7 18  1 18  7 26 16 25  2 29 29 10 31  7  6  2 24 29 34\n",
      " 32  2 26 28 16 34  1 33  7 30 29  7  6  2  7 29 27 16 34 21  2 24 29 34\n",
      " 28  2 22 16]\n",
      "y: 18, س\n",
      "\n",
      "X (length: 100):\n",
      " حيث تم ما قصد\n",
      "وتسعه بها المزيد ينجلي\n",
      "فقد النظير مطلقا كتتفل\n",
      "وحذفه من اصل او نظير او\n",
      "فرع لغير عله كم\n",
      "[ 2 12 34 10  2  9 30  2 30  7  2 27 20 14  1 33  9 18 24 32  2  8 32  7\n",
      "  2  7 29 30 17 34 14  2 34 31 11 29 34  1 26 27 14  2  7 29 31 23 34 16\n",
      "  2 30 22 29 27  7  2 28  9  9 26 29  1 33 12 15 26 32  2 30 31  2  7 20\n",
      " 29  2  7 33  2 31 23 34 16  2  7 33  1 26 16 24  2 29 25 34 16  2 24 29\n",
      " 32  2 28 30]\n",
      "y: 7, ا\n",
      "\n",
      "X (length: 100):\n",
      "################################لي كاتب يمحو السطور وينسخ\n",
      "وتراه يحكم ما اراد وينسخ\n",
      "قرب له ما ان يزيل\n",
      "[ 0  0  0  0  0  0  0  0  0  0  0  0  0  0  0  0  0  0  0  0  0  0  0  0\n",
      "  0  0  0  0  0  0  0  0 29 34  2 28  7  9  8  2 34 30 12 33  2  7 29 18\n",
      " 22 33 16  2 33 34 31 18 13  1 33  9 16  7 32  2 34 12 28 30  2 30  7  2\n",
      "  7 16  7 14  2 33 34 31 18 13  1 27 16  8  2 29 32  2 30  7  2  7 31  2\n",
      " 34 17 34 29]\n",
      "y: 2,  \n",
      "\n",
      "X (length: 100):\n",
      "واد\n",
      "وبكي، لصوت ما، حنين\n",
      "في شراع السندباد\n",
      "ردي، سالتك، شهقه المنديل\n",
      "مزمارا ينادي\n",
      "فرحي بان القاك وعدا\n",
      "ك\n",
      "[33  7 14  1 33  8 28 34  3  2 29 20 33  9  2 30  7  3  2 12 31 34 31  1\n",
      " 26 34  2 19 16  7 24  2  7 29 18 31 14  8  7 14  1 16 14 34  3  2 18  7\n",
      " 29  9 28  3  2 19 32 27 32  2  7 29 30 31 14 34 29  1 30 17 30  7 16  7\n",
      "  2 34 31  7 14 34  1 26 16 12 34  2  8  7 31  2  7 29 27  7 28  2 33 24\n",
      " 14  7  1 28]\n",
      "y: 7, ا\n",
      "\n",
      "X (length: 100):\n",
      " السداد لكل ثغر شاغر\n",
      "وهم البيان لكل امر مشكل\n",
      "من ناظم بدد الالوف وناثر\n",
      "نظم الصفوف برمجه والمنصل\n",
      "وطيته\n",
      "[ 2  7 29 18 14  7 14  2 29 28 29  2 10 25 16  2 19  7 25 16  1 33 32 30\n",
      "  2  7 29  8 34  7 31  2 29 28 29  2  7 30 16  2 30 19 28 29  1 30 31  2\n",
      " 31  7 23 30  2  8 14 14  2  7 29  7 29 33 26  2 33 31  7 10 16  1 31 23\n",
      " 30  2  7 29 20 26 33 26  2  8 16 30 11 32  2 33  7 29 30 31 20 29  1 33\n",
      " 22 34  9 32]\n",
      "y: 30, م\n",
      "\n",
      "X (length: 100):\n",
      "\n",
      "ومن تشريفه شرف وفخر\n",
      "لنا كسب المفاخر قد اباحا\n",
      "قدوم حف بالاسعاد فضلا\n",
      "من المولي الكريم فلا انتزاحا\n",
      "واق\n",
      "[ 1 33 30 31  2  9 19 16 34 26 32  2 19 16 26  2 33 26 13 16  1 29 31  7\n",
      "  2 28 18  8  2  7 29 30 26  7 13 16  2 27 14  2  7  8  7 12  7  1 27 14\n",
      " 33 30  2 12 26  2  8  7 29  7 18 24  7 14  2 26 21 29  7  1 30 31  2  7\n",
      " 29 30 33 29 34  2  7 29 28 16 34 30  2 26 29  7  2  7 31  9 17  7 12  7\n",
      "  1 33  7 27]\n",
      "y: 8, ب\n",
      "\n",
      "X (length: 100):\n",
      "اسلمت قيادها لاكثر الطغاه اناقه وتيها ومباهاه تصيرون بريد الفزع لاكثر الشعوب اطمينانا لسجنها\n",
      "شعوب تت\n",
      "[ 7 18 29 30  9  2 27 34  7 14 32  7  2 29  7 28 10 16  2  7 29 22 25  7\n",
      " 32  2  7 31  7 27 32  2 33  9 34 32  7  2 33 30  8  7 32  7 32  2  9 20\n",
      " 34 16 33 31  2  8 16 34 14  2  7 29 26 17 24  2 29  7 28 10 16  2  7 29\n",
      " 19 24 33  8  2  7 22 30 34 31  7 31  7  2 29 18 11 31 32  7  1 19 24 33\n",
      "  8  2  9  9]\n",
      "y: 31, ن\n",
      "\n",
      "X (length: 100):\n",
      "رنا\n",
      "وتنكسر البلاد علي اصابعنا كفخار وينكسر المسدس من\n",
      "تلهفك\n",
      "انتصر هذا الصباح ووحد الرايات والامم الحز\n",
      "[16 31  7  1 33  9 31 28 18 16  2  7 29  8 29  7 14  2 24 29 34  2  7 20\n",
      "  7  8 24 31  7  2 28 26 13  7 16  2 33 34 31 28 18 16  2  7 29 30 18 14\n",
      " 18  2 30 31  1  9 29 32 26 28  1  7 31  9 20 16  2 32 15  7  2  7 29 20\n",
      "  8  7 12  2 33 33 12 14  2  7 29 16  7 34  7  9  2 33  7 29  7 30 30  2\n",
      "  7 29 12 17]\n",
      "y: 34, ي\n",
      "\n",
      "X (length: 100):\n",
      "#####################################################################################واظهر السلم وقد\n",
      "[ 0  0  0  0  0  0  0  0  0  0  0  0  0  0  0  0  0  0  0  0  0  0  0  0\n",
      "  0  0  0  0  0  0  0  0  0  0  0  0  0  0  0  0  0  0  0  0  0  0  0  0\n",
      "  0  0  0  0  0  0  0  0  0  0  0  0  0  0  0  0  0  0  0  0  0  0  0  0\n",
      "  0  0  0  0  0  0  0  0  0  0  0  0  0 33  7 23 32 16  2  7 29 18 29 30\n",
      "  2 33 27 14]\n",
      "y: 1, \n",
      "\n",
      "\n"
     ]
    }
   ],
   "source": [
    "N_ROWS = 10\n",
    "COUNTER_i = 0\n",
    "\n",
    "batch_x, batch_y = train_data_loader[0]\n",
    "\n",
    "for x, y in zip(batch_x, batch_y):\n",
    "    if COUNTER_i >= N_ROWS:\n",
    "        break\n",
    "    else:\n",
    "        COUNTER_i += 1\n",
    "\n",
    "    print(f\"X (length: {len(x)}):\")\n",
    "    print(tokenizer_decode(x))\n",
    "    print(x)\n",
    "    print(f\"y: {y}, {tokenizer_decode([y])}\")\n",
    "    print()"
   ]
  },
  {
   "cell_type": "markdown",
   "id": "027908eb",
   "metadata": {
    "id": "ee2681b0",
    "papermill": {
     "duration": 0.019918,
     "end_time": "2025-10-19T13:32:50.162699",
     "exception": false,
     "start_time": "2025-10-19T13:32:50.142781",
     "status": "completed"
    },
    "tags": []
   },
   "source": [
    "# Encapsulated Models"
   ]
  },
  {
   "cell_type": "markdown",
   "id": "995224ac",
   "metadata": {
    "id": "82725f10",
    "papermill": {
     "duration": 0.019976,
     "end_time": "2025-10-19T13:32:50.202536",
     "exception": false,
     "start_time": "2025-10-19T13:32:50.182560",
     "status": "completed"
    },
    "tags": []
   },
   "source": [
    "## Encapsulate"
   ]
  },
  {
   "cell_type": "code",
   "execution_count": 48,
   "id": "e46c7202",
   "metadata": {
    "execution": {
     "iopub.execute_input": "2025-10-19T13:32:50.243629Z",
     "iopub.status.busy": "2025-10-19T13:32:50.243147Z",
     "iopub.status.idle": "2025-10-19T13:32:50.248156Z",
     "shell.execute_reply": "2025-10-19T13:32:50.247652Z"
    },
    "id": "b6f48057",
    "papermill": {
     "duration": 0.026817,
     "end_time": "2025-10-19T13:32:50.249190",
     "exception": false,
     "start_time": "2025-10-19T13:32:50.222373",
     "status": "completed"
    },
    "tags": []
   },
   "outputs": [],
   "source": [
    "class HistoryCheckpoint(Callback):\n",
    "    def __init__(self, model_name):\n",
    "        super().__init__()\n",
    "        self.model_name = model_name\n",
    "        self.filepath = os.path.join(TRAIN_DIR, f'{model_name}.history.json')\n",
    "        self.history = {}\n",
    "\n",
    "        if os.path.exists(self.filepath):\n",
    "            with open(self.filepath, 'r') as f:\n",
    "                self.history = json.load(f)\n",
    "                print(F'Model {self.model_name} history loaded from cache')\n",
    "        else:\n",
    "            self.history = {}\n",
    "\n",
    "    def on_epoch_end(self, epoch, logs=None):\n",
    "        logs = logs or {}\n",
    "        for key, value in logs.items():\n",
    "            self.history.setdefault(key, []).append(float(value))\n",
    "\n",
    "        with open(self.filepath, 'w') as f:\n",
    "            json.dump(self.history, f)\n",
    "\n",
    "    def get_history(self):\n",
    "        return self.history"
   ]
  },
  {
   "cell_type": "code",
   "execution_count": 49,
   "id": "54754404",
   "metadata": {
    "execution": {
     "iopub.execute_input": "2025-10-19T13:32:50.290091Z",
     "iopub.status.busy": "2025-10-19T13:32:50.289913Z",
     "iopub.status.idle": "2025-10-19T13:32:50.296768Z",
     "shell.execute_reply": "2025-10-19T13:32:50.296267Z"
    },
    "id": "00e3db3f",
    "papermill": {
     "duration": 0.028385,
     "end_time": "2025-10-19T13:32:50.297805",
     "exception": false,
     "start_time": "2025-10-19T13:32:50.269420",
     "status": "completed"
    },
    "tags": []
   },
   "outputs": [],
   "source": [
    "class CustomModel:\n",
    "    def __init__(self, name, model):\n",
    "        self.name = re.sub('[^A-Za-z0-9]', '_', str(name)).lower()\n",
    "        self.model_weights_path = os.path.join(TRAIN_DIR, f'{self.name}.weights.h5')\n",
    "        self.model = model\n",
    "        self._history = {}\n",
    "        self.load()\n",
    "\n",
    "    def fit(self, train_data, val_data, epochs=EPOCHS, force_train=False):\n",
    "        \"\"\"\n",
    "        train_data: either (X_train, y_train) tuple or a generator\n",
    "        val_data: either (X_val, y_val) tuple or a generator\n",
    "        \"\"\"\n",
    "\n",
    "        es = EarlyStopping(monitor='val_loss', patience=4, verbose=1, restore_best_weights=True)\n",
    "        \n",
    "        mcp = ModelCheckpoint(\n",
    "            filepath=self.model_weights_path,\n",
    "            monitor='val_loss',\n",
    "            save_best_only=True,\n",
    "            save_weights_only=True,\n",
    "            mode='min',\n",
    "            verbose=1\n",
    "        )\n",
    "        \n",
    "        rop = ReduceLROnPlateau(monitor='val_loss', factor=0.1, patience=2)\n",
    "        \n",
    "        hcp = HistoryCheckpoint(self.name)\n",
    "\n",
    "        if not self.trained or force_train:\n",
    "\n",
    "            history = self.model.fit(\n",
    "                train_data,\n",
    "                validation_data=val_data,\n",
    "                callbacks=[es, mcp, rop, hcp],\n",
    "                epochs=epochs,\n",
    "                verbose=1\n",
    "            )\n",
    "\n",
    "            self.trained = True\n",
    "            self._history = hcp.get_history() or getattr(history, \"history\", {})\n",
    "            self.save()\n",
    "        else:\n",
    "            self._history = hcp.get_history()\n",
    "\n",
    "    @property\n",
    "    def history(self):\n",
    "        return self._history\n",
    "\n",
    "    def save(self):\n",
    "        self.model.save_weights(self.model_weights_path)\n",
    "\n",
    "    def load(self):\n",
    "        if os.path.exists(self.model_weights_path):\n",
    "            self.model.load_weights(self.model_weights_path)\n",
    "            self.trained = True\n",
    "            print(f'Model {self.name} weights loaded from cache')\n",
    "        else:\n",
    "            self.trained = False\n",
    "            print(f'Model {self.name} weights not found in cache, training required')\n",
    "\n",
    "        hcp = HistoryCheckpoint(self.name)\n",
    "        self._history = hcp.get_history()\n"
   ]
  },
  {
   "cell_type": "markdown",
   "id": "28f0169b",
   "metadata": {
    "id": "4999b1eb",
    "papermill": {
     "duration": 0.020301,
     "end_time": "2025-10-19T13:32:50.337635",
     "exception": false,
     "start_time": "2025-10-19T13:32:50.317334",
     "status": "completed"
    },
    "tags": []
   },
   "source": [
    "## Layers"
   ]
  },
  {
   "cell_type": "code",
   "execution_count": 50,
   "id": "bfbf93a1",
   "metadata": {
    "execution": {
     "iopub.execute_input": "2025-10-19T13:32:50.377903Z",
     "iopub.status.busy": "2025-10-19T13:32:50.377459Z",
     "iopub.status.idle": "2025-10-19T13:32:50.380536Z",
     "shell.execute_reply": "2025-10-19T13:32:50.380022Z"
    },
    "id": "d8e1da78",
    "papermill": {
     "duration": 0.024385,
     "end_time": "2025-10-19T13:32:50.381573",
     "exception": false,
     "start_time": "2025-10-19T13:32:50.357188",
     "status": "completed"
    },
    "tags": []
   },
   "outputs": [],
   "source": [
    "def create_input_layer():\n",
    "    return Input(shape= train_data_loader[0][0].shape[1:] )"
   ]
  },
  {
   "cell_type": "code",
   "execution_count": 51,
   "id": "9a3b91b0",
   "metadata": {
    "execution": {
     "iopub.execute_input": "2025-10-19T13:32:50.422463Z",
     "iopub.status.busy": "2025-10-19T13:32:50.422063Z",
     "iopub.status.idle": "2025-10-19T13:32:50.425462Z",
     "shell.execute_reply": "2025-10-19T13:32:50.424937Z"
    },
    "id": "494ff971",
    "papermill": {
     "duration": 0.025279,
     "end_time": "2025-10-19T13:32:50.426459",
     "exception": false,
     "start_time": "2025-10-19T13:32:50.401180",
     "status": "completed"
    },
    "tags": []
   },
   "outputs": [],
   "source": [
    "def create_embedding_layer(embedding_dim):\n",
    "    return Embedding(\n",
    "        input_dim = len(tokenizer_dict),\n",
    "        output_dim = embedding_dim,\n",
    "        mask_zero=False\n",
    "    )"
   ]
  },
  {
   "cell_type": "code",
   "execution_count": 52,
   "id": "762e978f",
   "metadata": {
    "execution": {
     "iopub.execute_input": "2025-10-19T13:32:50.467266Z",
     "iopub.status.busy": "2025-10-19T13:32:50.466759Z",
     "iopub.status.idle": "2025-10-19T13:32:50.470948Z",
     "shell.execute_reply": "2025-10-19T13:32:50.470412Z"
    },
    "id": "65a4f91f-baf5-4729-8e8f-fdf92a3a0fd7",
    "papermill": {
     "duration": 0.025571,
     "end_time": "2025-10-19T13:32:50.471911",
     "exception": false,
     "start_time": "2025-10-19T13:32:50.446340",
     "status": "completed"
    },
    "tags": []
   },
   "outputs": [],
   "source": [
    "def positional_encoding(seq_len, d_model):\n",
    "    positions = tf.range(seq_len, dtype=tf.float32)[:, tf.newaxis]\n",
    "    dims = tf.range(d_model, dtype=tf.float32)[tf.newaxis, :]\n",
    "    angle_rates = 1 / tf.pow(10000., (2 * (dims // 2)) / d_model)\n",
    "    angle_rads = positions * angle_rates\n",
    "    sines = tf.sin(angle_rads[:, 0::2])\n",
    "    cosines = tf.cos(angle_rads[:, 1::2])\n",
    "    pos_encoding = tf.concat([sines, cosines], axis=-1)\n",
    "    return pos_encoding[tf.newaxis, ...]"
   ]
  },
  {
   "cell_type": "markdown",
   "id": "e2775cc4",
   "metadata": {
    "id": "5bb73201",
    "papermill": {
     "duration": 0.020161,
     "end_time": "2025-10-19T13:32:50.512969",
     "exception": false,
     "start_time": "2025-10-19T13:32:50.492808",
     "status": "completed"
    },
    "tags": []
   },
   "source": [
    "## Models"
   ]
  },
  {
   "cell_type": "code",
   "execution_count": 53,
   "id": "b26c8a28",
   "metadata": {
    "execution": {
     "iopub.execute_input": "2025-10-19T13:32:50.554424Z",
     "iopub.status.busy": "2025-10-19T13:32:50.554222Z",
     "iopub.status.idle": "2025-10-19T13:32:50.557176Z",
     "shell.execute_reply": "2025-10-19T13:32:50.556687Z"
    },
    "id": "e47f1707",
    "papermill": {
     "duration": 0.025152,
     "end_time": "2025-10-19T13:32:50.558205",
     "exception": false,
     "start_time": "2025-10-19T13:32:50.533053",
     "status": "completed"
    },
    "tags": []
   },
   "outputs": [],
   "source": [
    "models_list = []"
   ]
  },
  {
   "cell_type": "code",
   "execution_count": 54,
   "id": "5cbed338",
   "metadata": {
    "execution": {
     "iopub.execute_input": "2025-10-19T13:32:50.599290Z",
     "iopub.status.busy": "2025-10-19T13:32:50.598793Z",
     "iopub.status.idle": "2025-10-19T13:32:50.602464Z",
     "shell.execute_reply": "2025-10-19T13:32:50.601800Z"
    },
    "id": "54859dcd",
    "papermill": {
     "duration": 0.025138,
     "end_time": "2025-10-19T13:32:50.603505",
     "exception": false,
     "start_time": "2025-10-19T13:32:50.578367",
     "status": "completed"
    },
    "tags": []
   },
   "outputs": [],
   "source": [
    "# def build_model_1():\n",
    "#     global models_list\n",
    "\n",
    "#     NAME = \"RNN v1\"\n",
    "\n",
    "#     input_layer = create_input_layer()\n",
    "#     embedding_layer = create_embedding_layer(16)\n",
    "\n",
    "#     x = embedding_layer(input_layer)\n",
    "\n",
    "#     x = LSTM(128, return_sequences=False)(x)\n",
    "\n",
    "#     output_layer = Dense(len(tokenizer_dict), activation='softmax')(x)\n",
    "\n",
    "#     model = Model(inputs=input_layer, outputs=output_layer)\n",
    "\n",
    "#     model.compile(\n",
    "#         loss='sparse_categorical_crossentropy',\n",
    "#         optimizer='adam',\n",
    "#         metrics=['accuracy']\n",
    "#     )\n",
    "\n",
    "#     c_model = CustomModel(\n",
    "#         name=NAME,\n",
    "#         model=model\n",
    "#     )\n",
    "\n",
    "#     model.summary()\n",
    "\n",
    "#     models_list.append(c_model)\n",
    "\n",
    "# build_model_1()"
   ]
  },
  {
   "cell_type": "code",
   "execution_count": 55,
   "id": "ce43ec51",
   "metadata": {
    "execution": {
     "iopub.execute_input": "2025-10-19T13:32:50.643933Z",
     "iopub.status.busy": "2025-10-19T13:32:50.643403Z",
     "iopub.status.idle": "2025-10-19T13:32:50.646977Z",
     "shell.execute_reply": "2025-10-19T13:32:50.646274Z"
    },
    "id": "6ac37c60",
    "papermill": {
     "duration": 0.02494,
     "end_time": "2025-10-19T13:32:50.648050",
     "exception": false,
     "start_time": "2025-10-19T13:32:50.623110",
     "status": "completed"
    },
    "tags": []
   },
   "outputs": [],
   "source": [
    "# def build_model_2():\n",
    "#     global models_list\n",
    "\n",
    "#     NAME = \"RNN v2\"\n",
    "\n",
    "#     input_layer = create_input_layer()\n",
    "#     embedding_layer = create_embedding_layer(32)\n",
    "\n",
    "#     x = embedding_layer(input_layer)\n",
    "\n",
    "#     x = LSTM(256, return_sequences=True)(x)\n",
    "\n",
    "#     x = LSTM(256, return_sequences=False)(x)\n",
    "\n",
    "#     output_layer = Dense(len(tokenizer_dict), activation='softmax')(x)\n",
    "\n",
    "#     model = Model(inputs=input_layer, outputs=output_layer)\n",
    "\n",
    "#     model.compile(\n",
    "#         loss='sparse_categorical_crossentropy',\n",
    "#         optimizer='adam',\n",
    "#         metrics=['accuracy']\n",
    "#     )\n",
    "\n",
    "#     c_model = CustomModel(\n",
    "#         name=NAME,\n",
    "#         model=model\n",
    "#     )\n",
    "\n",
    "#     model.summary()\n",
    "\n",
    "#     models_list.append(c_model)\n",
    "\n",
    "# build_model_2()"
   ]
  },
  {
   "cell_type": "code",
   "execution_count": 56,
   "id": "f6611cf8",
   "metadata": {
    "execution": {
     "iopub.execute_input": "2025-10-19T13:32:50.688692Z",
     "iopub.status.busy": "2025-10-19T13:32:50.688309Z",
     "iopub.status.idle": "2025-10-19T13:32:50.691312Z",
     "shell.execute_reply": "2025-10-19T13:32:50.690814Z"
    },
    "id": "5192a3f6",
    "papermill": {
     "duration": 0.024518,
     "end_time": "2025-10-19T13:32:50.692318",
     "exception": false,
     "start_time": "2025-10-19T13:32:50.667800",
     "status": "completed"
    },
    "tags": []
   },
   "outputs": [],
   "source": [
    "# def build_model_3():\n",
    "#     global models_list\n",
    "\n",
    "#     NAME = \"RNN v3\"\n",
    "\n",
    "#     input_layer = create_input_layer()\n",
    "#     embedding_layer = create_embedding_layer(48)\n",
    "\n",
    "#     x = embedding_layer(input_layer)\n",
    "\n",
    "#     x = Bidirectional(LSTM(256, return_sequences=True))(x)\n",
    "\n",
    "#     x = Bidirectional(LSTM(256, return_sequences=False))(x)\n",
    "\n",
    "#     output_layer = Dense(len(tokenizer_dict), activation='softmax')(x)\n",
    "\n",
    "#     model = Model(inputs=input_layer, outputs=output_layer)\n",
    "\n",
    "#     model.compile(\n",
    "#         loss='sparse_categorical_crossentropy',\n",
    "#         optimizer='adam',\n",
    "#         metrics=['accuracy']\n",
    "#     )\n",
    "\n",
    "#     c_model = CustomModel(\n",
    "#         name=NAME,\n",
    "#         model=model\n",
    "#     )\n",
    "\n",
    "#     model.summary()\n",
    "\n",
    "#     models_list.append(c_model)\n",
    "\n",
    "# build_model_3()"
   ]
  },
  {
   "cell_type": "code",
   "execution_count": 57,
   "id": "e543a787",
   "metadata": {
    "execution": {
     "iopub.execute_input": "2025-10-19T13:32:50.732860Z",
     "iopub.status.busy": "2025-10-19T13:32:50.732417Z",
     "iopub.status.idle": "2025-10-19T13:32:50.736441Z",
     "shell.execute_reply": "2025-10-19T13:32:50.735795Z"
    },
    "id": "89f72703-c43f-4ae0-b718-4405d18e9f78",
    "outputId": "a5c4218e-20a5-4f16-da15-f71269174a5b",
    "papermill": {
     "duration": 0.025329,
     "end_time": "2025-10-19T13:32:50.737428",
     "exception": false,
     "start_time": "2025-10-19T13:32:50.712099",
     "status": "completed"
    },
    "tags": []
   },
   "outputs": [],
   "source": [
    "# def build_model_4():\n",
    "#     global models_list\n",
    "\n",
    "#     NAME = \"Encoder v1\"\n",
    "\n",
    "#     vocab_size = len(tokenizer_dict) + 1  # +1 for CLS token\n",
    "#     d_model = 128\n",
    "#     seq_len = 60  # sequence length\n",
    "\n",
    "#     # 1️⃣ Input layer\n",
    "#     input_layer = Input(shape=(seq_len,), dtype=tf.int32)\n",
    "\n",
    "#     # 2️⃣ Add CLS token to the beginning\n",
    "#     def add_cls_fn(x):\n",
    "#         batch_size = tf.shape(x)[0]\n",
    "#         cls = tf.fill((batch_size, 1), vocab_size - 1)  # CLS token index\n",
    "#         return tf.concat([cls, x], axis=1)\n",
    "\n",
    "#     add_cls = Lambda(add_cls_fn, output_shape=(seq_len + 1,))(input_layer)\n",
    "\n",
    "#     # 3️⃣ Embedding layer\n",
    "#     embedding_layer = Embedding(vocab_size, d_model)(add_cls)\n",
    "\n",
    "#     # 🔹 Conv1D (light local context before attention)\n",
    "#     x = Conv1D(\n",
    "#         filters=d_model,\n",
    "#         kernel_size=3,\n",
    "#         padding=\"same\",\n",
    "#         activation=\"relu\"\n",
    "#     )(embedding_layer)\n",
    "\n",
    "#     # 4️⃣ Positional Encoding (precomputed and dtype-safe)\n",
    "#     pos_encoding = tf.cast(positional_encoding(seq_len + 1, d_model), tf.float32)\n",
    "\n",
    "#     x = Lambda(\n",
    "#         lambda t: t + pos_encoding[:tf.shape(t)[1], :],\n",
    "#         output_shape=(None, d_model)\n",
    "#     )(x)\n",
    "\n",
    "#     # 5️⃣ Multi-Head Attention\n",
    "#     attn_output = MultiHeadAttention(num_heads=4, key_dim=d_model)(x, x)\n",
    "\n",
    "#     # 6️⃣ Skip Connection + Layer Normalization\n",
    "#     x = Add()([x, attn_output])\n",
    "#     x = LayerNormalization(epsilon=1e-6)(x)\n",
    "\n",
    "#     # 🟢 Extract CLS token before Feed Forward\n",
    "#     cls_token = Lambda(lambda x: x[:, 0], output_shape=(d_model,))(x)\n",
    "\n",
    "#     # 7️⃣ Feed-Forward Network (CLS only)\n",
    "#     ff = Dense(d_model * 4, activation='relu')(cls_token)\n",
    "#     ff = Dense(d_model)(ff)\n",
    "#     ff = LayerNormalization(epsilon=1e-6)(ff)\n",
    "\n",
    "#     # 8️⃣ Output Layer\n",
    "#     output_layer = Dense(len(tokenizer_dict), activation='softmax')(ff)\n",
    "\n",
    "#     # ✅ Build & Compile model\n",
    "#     model = Model(inputs=input_layer, outputs=output_layer)\n",
    "\n",
    "#     model.compile(\n",
    "#         loss='sparse_categorical_crossentropy',\n",
    "#         optimizer='adam',\n",
    "#         metrics=['accuracy']\n",
    "#     )\n",
    "\n",
    "#     # Register model in your list\n",
    "#     c_model = CustomModel(name=NAME, model=model)\n",
    "#     model.summary()\n",
    "#     models_list.append(c_model)\n",
    "\n",
    "\n",
    "# # Example call\n",
    "# build_model_4()"
   ]
  },
  {
   "cell_type": "code",
   "execution_count": 58,
   "id": "135a7b25",
   "metadata": {
    "execution": {
     "iopub.execute_input": "2025-10-19T13:32:50.778643Z",
     "iopub.status.busy": "2025-10-19T13:32:50.778432Z",
     "iopub.status.idle": "2025-10-19T13:32:54.564064Z",
     "shell.execute_reply": "2025-10-19T13:32:54.563380Z"
    },
    "papermill": {
     "duration": 3.807679,
     "end_time": "2025-10-19T13:32:54.565233",
     "exception": false,
     "start_time": "2025-10-19T13:32:50.757554",
     "status": "completed"
    },
    "tags": []
   },
   "outputs": [
    {
     "name": "stderr",
     "output_type": "stream",
     "text": [
      "I0000 00:00:1760880772.222991      19 gpu_device.cc:2022] Created device /job:localhost/replica:0/task:0/device:GPU:0 with 13942 MB memory:  -> device: 0, name: Tesla T4, pci bus id: 0000:00:04.0, compute capability: 7.5\n",
      "I0000 00:00:1760880772.223754      19 gpu_device.cc:2022] Created device /job:localhost/replica:0/task:0/device:GPU:1 with 13942 MB memory:  -> device: 1, name: Tesla T4, pci bus id: 0000:00:05.0, compute capability: 7.5\n"
     ]
    },
    {
     "name": "stdout",
     "output_type": "stream",
     "text": [
      "Model encoder_v2___compact_fixed weights not found in cache, training required\n"
     ]
    },
    {
     "data": {
      "text/html": [
       "<pre style=\"white-space:pre;overflow-x:auto;line-height:normal;font-family:Menlo,'DejaVu Sans Mono',consolas,'Courier New',monospace\"><span style=\"font-weight: bold\">Model: \"functional\"</span>\n",
       "</pre>\n"
      ],
      "text/plain": [
       "\u001b[1mModel: \"functional\"\u001b[0m\n"
      ]
     },
     "metadata": {},
     "output_type": "display_data"
    },
    {
     "data": {
      "text/html": [
       "<pre style=\"white-space:pre;overflow-x:auto;line-height:normal;font-family:Menlo,'DejaVu Sans Mono',consolas,'Courier New',monospace\">┏━━━━━━━━━━━━━━━━━━━━━┳━━━━━━━━━━━━━━━━━━━┳━━━━━━━━━━━━┳━━━━━━━━━━━━━━━━━━━┓\n",
       "┃<span style=\"font-weight: bold\"> Layer (type)        </span>┃<span style=\"font-weight: bold\"> Output Shape      </span>┃<span style=\"font-weight: bold\">    Param # </span>┃<span style=\"font-weight: bold\"> Connected to      </span>┃\n",
       "┡━━━━━━━━━━━━━━━━━━━━━╇━━━━━━━━━━━━━━━━━━━╇━━━━━━━━━━━━╇━━━━━━━━━━━━━━━━━━━┩\n",
       "│ input_layer         │ (<span style=\"color: #00d7ff; text-decoration-color: #00d7ff\">None</span>, <span style=\"color: #00af00; text-decoration-color: #00af00\">100</span>)       │          <span style=\"color: #00af00; text-decoration-color: #00af00\">0</span> │ -                 │\n",
       "│ (<span style=\"color: #0087ff; text-decoration-color: #0087ff\">InputLayer</span>)        │                   │            │                   │\n",
       "├─────────────────────┼───────────────────┼────────────┼───────────────────┤\n",
       "│ lambda (<span style=\"color: #0087ff; text-decoration-color: #0087ff\">Lambda</span>)     │ (<span style=\"color: #00d7ff; text-decoration-color: #00d7ff\">None</span>, <span style=\"color: #00af00; text-decoration-color: #00af00\">102</span>)       │          <span style=\"color: #00af00; text-decoration-color: #00af00\">0</span> │ input_layer[<span style=\"color: #00af00; text-decoration-color: #00af00\">0</span>][<span style=\"color: #00af00; text-decoration-color: #00af00\">0</span>] │\n",
       "├─────────────────────┼───────────────────┼────────────┼───────────────────┤\n",
       "│ embedding           │ (<span style=\"color: #00d7ff; text-decoration-color: #00d7ff\">None</span>, <span style=\"color: #00af00; text-decoration-color: #00af00\">102</span>, <span style=\"color: #00af00; text-decoration-color: #00af00\">32</span>)   │      <span style=\"color: #00af00; text-decoration-color: #00af00\">1,184</span> │ lambda[<span style=\"color: #00af00; text-decoration-color: #00af00\">0</span>][<span style=\"color: #00af00; text-decoration-color: #00af00\">0</span>]      │\n",
       "│ (<span style=\"color: #0087ff; text-decoration-color: #0087ff\">Embedding</span>)         │                   │            │                   │\n",
       "├─────────────────────┼───────────────────┼────────────┼───────────────────┤\n",
       "│ conv1d (<span style=\"color: #0087ff; text-decoration-color: #0087ff\">Conv1D</span>)     │ (<span style=\"color: #00d7ff; text-decoration-color: #00d7ff\">None</span>, <span style=\"color: #00af00; text-decoration-color: #00af00\">102</span>, <span style=\"color: #00af00; text-decoration-color: #00af00\">32</span>)   │      <span style=\"color: #00af00; text-decoration-color: #00af00\">1,056</span> │ embedding[<span style=\"color: #00af00; text-decoration-color: #00af00\">0</span>][<span style=\"color: #00af00; text-decoration-color: #00af00\">0</span>]   │\n",
       "├─────────────────────┼───────────────────┼────────────┼───────────────────┤\n",
       "│ conv1d_1 (<span style=\"color: #0087ff; text-decoration-color: #0087ff\">Conv1D</span>)   │ (<span style=\"color: #00d7ff; text-decoration-color: #00d7ff\">None</span>, <span style=\"color: #00af00; text-decoration-color: #00af00\">102</span>, <span style=\"color: #00af00; text-decoration-color: #00af00\">32</span>)   │      <span style=\"color: #00af00; text-decoration-color: #00af00\">3,104</span> │ embedding[<span style=\"color: #00af00; text-decoration-color: #00af00\">0</span>][<span style=\"color: #00af00; text-decoration-color: #00af00\">0</span>]   │\n",
       "├─────────────────────┼───────────────────┼────────────┼───────────────────┤\n",
       "│ conv1d_2 (<span style=\"color: #0087ff; text-decoration-color: #0087ff\">Conv1D</span>)   │ (<span style=\"color: #00d7ff; text-decoration-color: #00d7ff\">None</span>, <span style=\"color: #00af00; text-decoration-color: #00af00\">102</span>, <span style=\"color: #00af00; text-decoration-color: #00af00\">32</span>)   │      <span style=\"color: #00af00; text-decoration-color: #00af00\">5,152</span> │ embedding[<span style=\"color: #00af00; text-decoration-color: #00af00\">0</span>][<span style=\"color: #00af00; text-decoration-color: #00af00\">0</span>]   │\n",
       "├─────────────────────┼───────────────────┼────────────┼───────────────────┤\n",
       "│ conv1d_3 (<span style=\"color: #0087ff; text-decoration-color: #0087ff\">Conv1D</span>)   │ (<span style=\"color: #00d7ff; text-decoration-color: #00d7ff\">None</span>, <span style=\"color: #00af00; text-decoration-color: #00af00\">102</span>, <span style=\"color: #00af00; text-decoration-color: #00af00\">32</span>)   │      <span style=\"color: #00af00; text-decoration-color: #00af00\">7,200</span> │ embedding[<span style=\"color: #00af00; text-decoration-color: #00af00\">0</span>][<span style=\"color: #00af00; text-decoration-color: #00af00\">0</span>]   │\n",
       "├─────────────────────┼───────────────────┼────────────┼───────────────────┤\n",
       "│ concatenate         │ (<span style=\"color: #00d7ff; text-decoration-color: #00d7ff\">None</span>, <span style=\"color: #00af00; text-decoration-color: #00af00\">102</span>, <span style=\"color: #00af00; text-decoration-color: #00af00\">128</span>)  │          <span style=\"color: #00af00; text-decoration-color: #00af00\">0</span> │ conv1d[<span style=\"color: #00af00; text-decoration-color: #00af00\">0</span>][<span style=\"color: #00af00; text-decoration-color: #00af00\">0</span>],     │\n",
       "│ (<span style=\"color: #0087ff; text-decoration-color: #0087ff\">Concatenate</span>)       │                   │            │ conv1d_1[<span style=\"color: #00af00; text-decoration-color: #00af00\">0</span>][<span style=\"color: #00af00; text-decoration-color: #00af00\">0</span>],   │\n",
       "│                     │                   │            │ conv1d_2[<span style=\"color: #00af00; text-decoration-color: #00af00\">0</span>][<span style=\"color: #00af00; text-decoration-color: #00af00\">0</span>],   │\n",
       "│                     │                   │            │ conv1d_3[<span style=\"color: #00af00; text-decoration-color: #00af00\">0</span>][<span style=\"color: #00af00; text-decoration-color: #00af00\">0</span>]    │\n",
       "├─────────────────────┼───────────────────┼────────────┼───────────────────┤\n",
       "│ lambda_1 (<span style=\"color: #0087ff; text-decoration-color: #0087ff\">Lambda</span>)   │ (<span style=\"color: #00d7ff; text-decoration-color: #00d7ff\">None</span>, <span style=\"color: #00af00; text-decoration-color: #00af00\">102</span>, <span style=\"color: #00af00; text-decoration-color: #00af00\">128</span>)  │          <span style=\"color: #00af00; text-decoration-color: #00af00\">0</span> │ concatenate[<span style=\"color: #00af00; text-decoration-color: #00af00\">0</span>][<span style=\"color: #00af00; text-decoration-color: #00af00\">0</span>] │\n",
       "├─────────────────────┼───────────────────┼────────────┼───────────────────┤\n",
       "│ multi_head_attenti… │ (<span style=\"color: #00d7ff; text-decoration-color: #00d7ff\">None</span>, <span style=\"color: #00af00; text-decoration-color: #00af00\">102</span>, <span style=\"color: #00af00; text-decoration-color: #00af00\">128</span>)  │     <span style=\"color: #00af00; text-decoration-color: #00af00\">66,048</span> │ lambda_1[<span style=\"color: #00af00; text-decoration-color: #00af00\">0</span>][<span style=\"color: #00af00; text-decoration-color: #00af00\">0</span>],   │\n",
       "│ (<span style=\"color: #0087ff; text-decoration-color: #0087ff\">MultiHeadAttentio…</span> │                   │            │ lambda_1[<span style=\"color: #00af00; text-decoration-color: #00af00\">0</span>][<span style=\"color: #00af00; text-decoration-color: #00af00\">0</span>]    │\n",
       "├─────────────────────┼───────────────────┼────────────┼───────────────────┤\n",
       "│ add (<span style=\"color: #0087ff; text-decoration-color: #0087ff\">Add</span>)           │ (<span style=\"color: #00d7ff; text-decoration-color: #00d7ff\">None</span>, <span style=\"color: #00af00; text-decoration-color: #00af00\">102</span>, <span style=\"color: #00af00; text-decoration-color: #00af00\">128</span>)  │          <span style=\"color: #00af00; text-decoration-color: #00af00\">0</span> │ lambda_1[<span style=\"color: #00af00; text-decoration-color: #00af00\">0</span>][<span style=\"color: #00af00; text-decoration-color: #00af00\">0</span>],   │\n",
       "│                     │                   │            │ multi_head_atten… │\n",
       "├─────────────────────┼───────────────────┼────────────┼───────────────────┤\n",
       "│ layer_normalization │ (<span style=\"color: #00d7ff; text-decoration-color: #00d7ff\">None</span>, <span style=\"color: #00af00; text-decoration-color: #00af00\">102</span>, <span style=\"color: #00af00; text-decoration-color: #00af00\">128</span>)  │        <span style=\"color: #00af00; text-decoration-color: #00af00\">256</span> │ add[<span style=\"color: #00af00; text-decoration-color: #00af00\">0</span>][<span style=\"color: #00af00; text-decoration-color: #00af00\">0</span>]         │\n",
       "│ (<span style=\"color: #0087ff; text-decoration-color: #0087ff\">LayerNormalizatio…</span> │                   │            │                   │\n",
       "├─────────────────────┼───────────────────┼────────────┼───────────────────┤\n",
       "│ lambda_2 (<span style=\"color: #0087ff; text-decoration-color: #0087ff\">Lambda</span>)   │ (<span style=\"color: #00d7ff; text-decoration-color: #00d7ff\">None</span>, <span style=\"color: #00af00; text-decoration-color: #00af00\">2</span>, <span style=\"color: #00af00; text-decoration-color: #00af00\">128</span>)    │          <span style=\"color: #00af00; text-decoration-color: #00af00\">0</span> │ layer_normalizat… │\n",
       "├─────────────────────┼───────────────────┼────────────┼───────────────────┤\n",
       "│ lambda_3 (<span style=\"color: #0087ff; text-decoration-color: #0087ff\">Lambda</span>)   │ (<span style=\"color: #00d7ff; text-decoration-color: #00d7ff\">None</span>, <span style=\"color: #00af00; text-decoration-color: #00af00\">128</span>, <span style=\"color: #00af00; text-decoration-color: #00af00\">128</span>)  │          <span style=\"color: #00af00; text-decoration-color: #00af00\">0</span> │ lambda_2[<span style=\"color: #00af00; text-decoration-color: #00af00\">0</span>][<span style=\"color: #00af00; text-decoration-color: #00af00\">0</span>]    │\n",
       "├─────────────────────┼───────────────────┼────────────┼───────────────────┤\n",
       "│ lambda_4 (<span style=\"color: #0087ff; text-decoration-color: #0087ff\">Lambda</span>)   │ (<span style=\"color: #00d7ff; text-decoration-color: #00d7ff\">None</span>, <span style=\"color: #00af00; text-decoration-color: #00af00\">128</span>, <span style=\"color: #00af00; text-decoration-color: #00af00\">128</span>,  │          <span style=\"color: #00af00; text-decoration-color: #00af00\">0</span> │ lambda_3[<span style=\"color: #00af00; text-decoration-color: #00af00\">0</span>][<span style=\"color: #00af00; text-decoration-color: #00af00\">0</span>]    │\n",
       "│                     │ <span style=\"color: #00af00; text-decoration-color: #00af00\">1</span>)                │            │                   │\n",
       "├─────────────────────┼───────────────────┼────────────┼───────────────────┤\n",
       "│ flatten (<span style=\"color: #0087ff; text-decoration-color: #0087ff\">Flatten</span>)   │ (<span style=\"color: #00d7ff; text-decoration-color: #00d7ff\">None</span>, <span style=\"color: #00af00; text-decoration-color: #00af00\">16384</span>)     │          <span style=\"color: #00af00; text-decoration-color: #00af00\">0</span> │ lambda_4[<span style=\"color: #00af00; text-decoration-color: #00af00\">0</span>][<span style=\"color: #00af00; text-decoration-color: #00af00\">0</span>]    │\n",
       "├─────────────────────┼───────────────────┼────────────┼───────────────────┤\n",
       "│ dense (<span style=\"color: #0087ff; text-decoration-color: #0087ff\">Dense</span>)       │ (<span style=\"color: #00d7ff; text-decoration-color: #00d7ff\">None</span>, <span style=\"color: #00af00; text-decoration-color: #00af00\">256</span>)       │  <span style=\"color: #00af00; text-decoration-color: #00af00\">4,194,560</span> │ flatten[<span style=\"color: #00af00; text-decoration-color: #00af00\">0</span>][<span style=\"color: #00af00; text-decoration-color: #00af00\">0</span>]     │\n",
       "├─────────────────────┼───────────────────┼────────────┼───────────────────┤\n",
       "│ dense_1 (<span style=\"color: #0087ff; text-decoration-color: #0087ff\">Dense</span>)     │ (<span style=\"color: #00d7ff; text-decoration-color: #00d7ff\">None</span>, <span style=\"color: #00af00; text-decoration-color: #00af00\">64</span>)        │     <span style=\"color: #00af00; text-decoration-color: #00af00\">16,448</span> │ dense[<span style=\"color: #00af00; text-decoration-color: #00af00\">0</span>][<span style=\"color: #00af00; text-decoration-color: #00af00\">0</span>]       │\n",
       "├─────────────────────┼───────────────────┼────────────┼───────────────────┤\n",
       "│ dense_2 (<span style=\"color: #0087ff; text-decoration-color: #0087ff\">Dense</span>)     │ (<span style=\"color: #00d7ff; text-decoration-color: #00d7ff\">None</span>, <span style=\"color: #00af00; text-decoration-color: #00af00\">35</span>)        │      <span style=\"color: #00af00; text-decoration-color: #00af00\">2,275</span> │ dense_1[<span style=\"color: #00af00; text-decoration-color: #00af00\">0</span>][<span style=\"color: #00af00; text-decoration-color: #00af00\">0</span>]     │\n",
       "└─────────────────────┴───────────────────┴────────────┴───────────────────┘\n",
       "</pre>\n"
      ],
      "text/plain": [
       "┏━━━━━━━━━━━━━━━━━━━━━┳━━━━━━━━━━━━━━━━━━━┳━━━━━━━━━━━━┳━━━━━━━━━━━━━━━━━━━┓\n",
       "┃\u001b[1m \u001b[0m\u001b[1mLayer (type)       \u001b[0m\u001b[1m \u001b[0m┃\u001b[1m \u001b[0m\u001b[1mOutput Shape     \u001b[0m\u001b[1m \u001b[0m┃\u001b[1m \u001b[0m\u001b[1m   Param #\u001b[0m\u001b[1m \u001b[0m┃\u001b[1m \u001b[0m\u001b[1mConnected to     \u001b[0m\u001b[1m \u001b[0m┃\n",
       "┡━━━━━━━━━━━━━━━━━━━━━╇━━━━━━━━━━━━━━━━━━━╇━━━━━━━━━━━━╇━━━━━━━━━━━━━━━━━━━┩\n",
       "│ input_layer         │ (\u001b[38;5;45mNone\u001b[0m, \u001b[38;5;34m100\u001b[0m)       │          \u001b[38;5;34m0\u001b[0m │ -                 │\n",
       "│ (\u001b[38;5;33mInputLayer\u001b[0m)        │                   │            │                   │\n",
       "├─────────────────────┼───────────────────┼────────────┼───────────────────┤\n",
       "│ lambda (\u001b[38;5;33mLambda\u001b[0m)     │ (\u001b[38;5;45mNone\u001b[0m, \u001b[38;5;34m102\u001b[0m)       │          \u001b[38;5;34m0\u001b[0m │ input_layer[\u001b[38;5;34m0\u001b[0m][\u001b[38;5;34m0\u001b[0m] │\n",
       "├─────────────────────┼───────────────────┼────────────┼───────────────────┤\n",
       "│ embedding           │ (\u001b[38;5;45mNone\u001b[0m, \u001b[38;5;34m102\u001b[0m, \u001b[38;5;34m32\u001b[0m)   │      \u001b[38;5;34m1,184\u001b[0m │ lambda[\u001b[38;5;34m0\u001b[0m][\u001b[38;5;34m0\u001b[0m]      │\n",
       "│ (\u001b[38;5;33mEmbedding\u001b[0m)         │                   │            │                   │\n",
       "├─────────────────────┼───────────────────┼────────────┼───────────────────┤\n",
       "│ conv1d (\u001b[38;5;33mConv1D\u001b[0m)     │ (\u001b[38;5;45mNone\u001b[0m, \u001b[38;5;34m102\u001b[0m, \u001b[38;5;34m32\u001b[0m)   │      \u001b[38;5;34m1,056\u001b[0m │ embedding[\u001b[38;5;34m0\u001b[0m][\u001b[38;5;34m0\u001b[0m]   │\n",
       "├─────────────────────┼───────────────────┼────────────┼───────────────────┤\n",
       "│ conv1d_1 (\u001b[38;5;33mConv1D\u001b[0m)   │ (\u001b[38;5;45mNone\u001b[0m, \u001b[38;5;34m102\u001b[0m, \u001b[38;5;34m32\u001b[0m)   │      \u001b[38;5;34m3,104\u001b[0m │ embedding[\u001b[38;5;34m0\u001b[0m][\u001b[38;5;34m0\u001b[0m]   │\n",
       "├─────────────────────┼───────────────────┼────────────┼───────────────────┤\n",
       "│ conv1d_2 (\u001b[38;5;33mConv1D\u001b[0m)   │ (\u001b[38;5;45mNone\u001b[0m, \u001b[38;5;34m102\u001b[0m, \u001b[38;5;34m32\u001b[0m)   │      \u001b[38;5;34m5,152\u001b[0m │ embedding[\u001b[38;5;34m0\u001b[0m][\u001b[38;5;34m0\u001b[0m]   │\n",
       "├─────────────────────┼───────────────────┼────────────┼───────────────────┤\n",
       "│ conv1d_3 (\u001b[38;5;33mConv1D\u001b[0m)   │ (\u001b[38;5;45mNone\u001b[0m, \u001b[38;5;34m102\u001b[0m, \u001b[38;5;34m32\u001b[0m)   │      \u001b[38;5;34m7,200\u001b[0m │ embedding[\u001b[38;5;34m0\u001b[0m][\u001b[38;5;34m0\u001b[0m]   │\n",
       "├─────────────────────┼───────────────────┼────────────┼───────────────────┤\n",
       "│ concatenate         │ (\u001b[38;5;45mNone\u001b[0m, \u001b[38;5;34m102\u001b[0m, \u001b[38;5;34m128\u001b[0m)  │          \u001b[38;5;34m0\u001b[0m │ conv1d[\u001b[38;5;34m0\u001b[0m][\u001b[38;5;34m0\u001b[0m],     │\n",
       "│ (\u001b[38;5;33mConcatenate\u001b[0m)       │                   │            │ conv1d_1[\u001b[38;5;34m0\u001b[0m][\u001b[38;5;34m0\u001b[0m],   │\n",
       "│                     │                   │            │ conv1d_2[\u001b[38;5;34m0\u001b[0m][\u001b[38;5;34m0\u001b[0m],   │\n",
       "│                     │                   │            │ conv1d_3[\u001b[38;5;34m0\u001b[0m][\u001b[38;5;34m0\u001b[0m]    │\n",
       "├─────────────────────┼───────────────────┼────────────┼───────────────────┤\n",
       "│ lambda_1 (\u001b[38;5;33mLambda\u001b[0m)   │ (\u001b[38;5;45mNone\u001b[0m, \u001b[38;5;34m102\u001b[0m, \u001b[38;5;34m128\u001b[0m)  │          \u001b[38;5;34m0\u001b[0m │ concatenate[\u001b[38;5;34m0\u001b[0m][\u001b[38;5;34m0\u001b[0m] │\n",
       "├─────────────────────┼───────────────────┼────────────┼───────────────────┤\n",
       "│ multi_head_attenti… │ (\u001b[38;5;45mNone\u001b[0m, \u001b[38;5;34m102\u001b[0m, \u001b[38;5;34m128\u001b[0m)  │     \u001b[38;5;34m66,048\u001b[0m │ lambda_1[\u001b[38;5;34m0\u001b[0m][\u001b[38;5;34m0\u001b[0m],   │\n",
       "│ (\u001b[38;5;33mMultiHeadAttentio…\u001b[0m │                   │            │ lambda_1[\u001b[38;5;34m0\u001b[0m][\u001b[38;5;34m0\u001b[0m]    │\n",
       "├─────────────────────┼───────────────────┼────────────┼───────────────────┤\n",
       "│ add (\u001b[38;5;33mAdd\u001b[0m)           │ (\u001b[38;5;45mNone\u001b[0m, \u001b[38;5;34m102\u001b[0m, \u001b[38;5;34m128\u001b[0m)  │          \u001b[38;5;34m0\u001b[0m │ lambda_1[\u001b[38;5;34m0\u001b[0m][\u001b[38;5;34m0\u001b[0m],   │\n",
       "│                     │                   │            │ multi_head_atten… │\n",
       "├─────────────────────┼───────────────────┼────────────┼───────────────────┤\n",
       "│ layer_normalization │ (\u001b[38;5;45mNone\u001b[0m, \u001b[38;5;34m102\u001b[0m, \u001b[38;5;34m128\u001b[0m)  │        \u001b[38;5;34m256\u001b[0m │ add[\u001b[38;5;34m0\u001b[0m][\u001b[38;5;34m0\u001b[0m]         │\n",
       "│ (\u001b[38;5;33mLayerNormalizatio…\u001b[0m │                   │            │                   │\n",
       "├─────────────────────┼───────────────────┼────────────┼───────────────────┤\n",
       "│ lambda_2 (\u001b[38;5;33mLambda\u001b[0m)   │ (\u001b[38;5;45mNone\u001b[0m, \u001b[38;5;34m2\u001b[0m, \u001b[38;5;34m128\u001b[0m)    │          \u001b[38;5;34m0\u001b[0m │ layer_normalizat… │\n",
       "├─────────────────────┼───────────────────┼────────────┼───────────────────┤\n",
       "│ lambda_3 (\u001b[38;5;33mLambda\u001b[0m)   │ (\u001b[38;5;45mNone\u001b[0m, \u001b[38;5;34m128\u001b[0m, \u001b[38;5;34m128\u001b[0m)  │          \u001b[38;5;34m0\u001b[0m │ lambda_2[\u001b[38;5;34m0\u001b[0m][\u001b[38;5;34m0\u001b[0m]    │\n",
       "├─────────────────────┼───────────────────┼────────────┼───────────────────┤\n",
       "│ lambda_4 (\u001b[38;5;33mLambda\u001b[0m)   │ (\u001b[38;5;45mNone\u001b[0m, \u001b[38;5;34m128\u001b[0m, \u001b[38;5;34m128\u001b[0m,  │          \u001b[38;5;34m0\u001b[0m │ lambda_3[\u001b[38;5;34m0\u001b[0m][\u001b[38;5;34m0\u001b[0m]    │\n",
       "│                     │ \u001b[38;5;34m1\u001b[0m)                │            │                   │\n",
       "├─────────────────────┼───────────────────┼────────────┼───────────────────┤\n",
       "│ flatten (\u001b[38;5;33mFlatten\u001b[0m)   │ (\u001b[38;5;45mNone\u001b[0m, \u001b[38;5;34m16384\u001b[0m)     │          \u001b[38;5;34m0\u001b[0m │ lambda_4[\u001b[38;5;34m0\u001b[0m][\u001b[38;5;34m0\u001b[0m]    │\n",
       "├─────────────────────┼───────────────────┼────────────┼───────────────────┤\n",
       "│ dense (\u001b[38;5;33mDense\u001b[0m)       │ (\u001b[38;5;45mNone\u001b[0m, \u001b[38;5;34m256\u001b[0m)       │  \u001b[38;5;34m4,194,560\u001b[0m │ flatten[\u001b[38;5;34m0\u001b[0m][\u001b[38;5;34m0\u001b[0m]     │\n",
       "├─────────────────────┼───────────────────┼────────────┼───────────────────┤\n",
       "│ dense_1 (\u001b[38;5;33mDense\u001b[0m)     │ (\u001b[38;5;45mNone\u001b[0m, \u001b[38;5;34m64\u001b[0m)        │     \u001b[38;5;34m16,448\u001b[0m │ dense[\u001b[38;5;34m0\u001b[0m][\u001b[38;5;34m0\u001b[0m]       │\n",
       "├─────────────────────┼───────────────────┼────────────┼───────────────────┤\n",
       "│ dense_2 (\u001b[38;5;33mDense\u001b[0m)     │ (\u001b[38;5;45mNone\u001b[0m, \u001b[38;5;34m35\u001b[0m)        │      \u001b[38;5;34m2,275\u001b[0m │ dense_1[\u001b[38;5;34m0\u001b[0m][\u001b[38;5;34m0\u001b[0m]     │\n",
       "└─────────────────────┴───────────────────┴────────────┴───────────────────┘\n"
      ]
     },
     "metadata": {},
     "output_type": "display_data"
    },
    {
     "data": {
      "text/html": [
       "<pre style=\"white-space:pre;overflow-x:auto;line-height:normal;font-family:Menlo,'DejaVu Sans Mono',consolas,'Courier New',monospace\"><span style=\"font-weight: bold\"> Total params: </span><span style=\"color: #00af00; text-decoration-color: #00af00\">4,297,283</span> (16.39 MB)\n",
       "</pre>\n"
      ],
      "text/plain": [
       "\u001b[1m Total params: \u001b[0m\u001b[38;5;34m4,297,283\u001b[0m (16.39 MB)\n"
      ]
     },
     "metadata": {},
     "output_type": "display_data"
    },
    {
     "data": {
      "text/html": [
       "<pre style=\"white-space:pre;overflow-x:auto;line-height:normal;font-family:Menlo,'DejaVu Sans Mono',consolas,'Courier New',monospace\"><span style=\"font-weight: bold\"> Trainable params: </span><span style=\"color: #00af00; text-decoration-color: #00af00\">4,297,283</span> (16.39 MB)\n",
       "</pre>\n"
      ],
      "text/plain": [
       "\u001b[1m Trainable params: \u001b[0m\u001b[38;5;34m4,297,283\u001b[0m (16.39 MB)\n"
      ]
     },
     "metadata": {},
     "output_type": "display_data"
    },
    {
     "data": {
      "text/html": [
       "<pre style=\"white-space:pre;overflow-x:auto;line-height:normal;font-family:Menlo,'DejaVu Sans Mono',consolas,'Courier New',monospace\"><span style=\"font-weight: bold\"> Non-trainable params: </span><span style=\"color: #00af00; text-decoration-color: #00af00\">0</span> (0.00 B)\n",
       "</pre>\n"
      ],
      "text/plain": [
       "\u001b[1m Non-trainable params: \u001b[0m\u001b[38;5;34m0\u001b[0m (0.00 B)\n"
      ]
     },
     "metadata": {},
     "output_type": "display_data"
    }
   ],
   "source": [
    "def build_model_5():\n",
    "    global models_list\n",
    "\n",
    "    NAME = \"Encoder v2 - Compact Fixed\"\n",
    "\n",
    "    vocab_size = len(tokenizer_dict) + 2  # +2 for CLS tokens\n",
    "    d_model = 32\n",
    "    seq_len = WINDOW_SIZE\n",
    "\n",
    "    # 1️⃣ Input\n",
    "    input_layer = Input(shape=(seq_len,), dtype=tf.int32)\n",
    "\n",
    "    # 2️⃣ Add 2 CLS tokens\n",
    "    def add_cls_fn(x):\n",
    "        batch_size = tf.shape(x)[0]\n",
    "        cls_tokens = tf.fill((batch_size, 2), vocab_size - 2)\n",
    "        return tf.concat([cls_tokens, x], axis=1)\n",
    "\n",
    "    x = Lambda(add_cls_fn, output_shape=(seq_len + 2,))(input_layer)\n",
    "\n",
    "    # 3️⃣ Embedding\n",
    "    x = Embedding(vocab_size, d_model)(x)\n",
    "\n",
    "    # 4️⃣ Parallel Conv1D\n",
    "    convs = []\n",
    "    for k in [1, 3, 5, 7]:\n",
    "        conv = Conv1D(filters=d_model , kernel_size=k, padding=\"same\", activation=\"relu\")(x)\n",
    "        convs.append(conv)\n",
    "    x = Concatenate()(convs)\n",
    "    proj_dim = x.shape[-1]\n",
    "\n",
    "    # 5️⃣ Positional Encoding\n",
    "    pos_encoding = tf.cast(positional_encoding(seq_len + 2, proj_dim), tf.float32)\n",
    "    x = Lambda(\n",
    "        lambda t: t + pos_encoding[:tf.shape(t)[1], :],\n",
    "        output_shape=(seq_len + 2, proj_dim)\n",
    "    )(x)\n",
    "\n",
    "    # 6️⃣ Multi-head attention\n",
    "    attn_output = MultiHeadAttention(num_heads=8, key_dim=proj_dim // 8)(x, x)\n",
    "    x = Add()([x, attn_output])\n",
    "    x = LayerNormalization(epsilon=1e-6)(x)\n",
    "\n",
    "    # 7️⃣ Extract CLS tokens\n",
    "    cls_tokens = Lambda(lambda t: t[:, :2], output_shape=(2, proj_dim))(x)\n",
    "\n",
    "    # 8️⃣ Cross product\n",
    "    def cross_product_fn(t):\n",
    "        v1 = t[:, 0, :]\n",
    "        v2 = t[:, 1, :]\n",
    "        v1 = tf.expand_dims(v1, axis=2)\n",
    "        v2 = tf.expand_dims(v2, axis=1)\n",
    "        return tf.matmul(v1, v2)  # (batch, d, d)\n",
    "\n",
    "    x = Lambda(cross_product_fn, output_shape=(proj_dim, proj_dim))(cls_tokens)\n",
    "\n",
    "    # ✅ Wrap expand_dims in Lambda\n",
    "    x = Lambda(lambda t: tf.expand_dims(t, -1), output_shape=(proj_dim, proj_dim, 1))(x)\n",
    "    x = Flatten()(x)\n",
    "\n",
    "    # 9️⃣ Compact Feed-forward\n",
    "    x = Dense(256, activation='relu')(x)\n",
    "    x = Dense(64, activation='relu')(x)\n",
    "\n",
    "    # 🔟 Output\n",
    "    output_layer = Dense(len(tokenizer_dict), activation='softmax')(x)\n",
    "\n",
    "    # Build & compile\n",
    "    model = Model(inputs=input_layer, outputs=output_layer)\n",
    "    model.compile(\n",
    "        loss='sparse_categorical_crossentropy',\n",
    "        optimizer=tf.keras.optimizers.Adam(learning_rate=3e-4),\n",
    "        metrics=['accuracy']\n",
    "    )\n",
    "\n",
    "    # Register\n",
    "    c_model = CustomModel(name=NAME, model=model)\n",
    "    models_list.append(c_model)\n",
    "    model.summary()\n",
    "\n",
    "\n",
    "build_model_5()"
   ]
  },
  {
   "cell_type": "code",
   "execution_count": 59,
   "id": "c5d1ee62",
   "metadata": {
    "execution": {
     "iopub.execute_input": "2025-10-19T13:32:54.615578Z",
     "iopub.status.busy": "2025-10-19T13:32:54.615339Z",
     "iopub.status.idle": "2025-10-19T13:32:57.262814Z",
     "shell.execute_reply": "2025-10-19T13:32:57.262227Z"
    },
    "id": "4c358bb4",
    "papermill": {
     "duration": 2.673714,
     "end_time": "2025-10-19T13:32:57.264336",
     "exception": false,
     "start_time": "2025-10-19T13:32:54.590622",
     "status": "completed"
    },
    "tags": []
   },
   "outputs": [],
   "source": [
    "for model in models_list:\n",
    "    keras_model = model.model\n",
    "\n",
    "    img_path = os.path.join(TRAIN_DIR,f'{model.name}_arch.png')\n",
    "\n",
    "    plot_model(\n",
    "        keras_model,\n",
    "        to_file= img_path,\n",
    "        show_shapes=True,\n",
    "        dpi =200,\n",
    "        show_layer_names=True,\n",
    "        expand_nested=True,\n",
    "        show_layer_activations=True,\n",
    "        show_trainable=True,\n",
    "        show_dtype=True,\n",
    "    )"
   ]
  },
  {
   "cell_type": "markdown",
   "id": "25d9d5b8",
   "metadata": {
    "id": "f706c0d2",
    "papermill": {
     "duration": 0.021006,
     "end_time": "2025-10-19T13:32:57.307900",
     "exception": false,
     "start_time": "2025-10-19T13:32:57.286894",
     "status": "completed"
    },
    "tags": []
   },
   "source": [
    "# Train"
   ]
  },
  {
   "cell_type": "code",
   "execution_count": 60,
   "id": "baed455c",
   "metadata": {
    "execution": {
     "iopub.execute_input": "2025-10-19T13:32:57.351449Z",
     "iopub.status.busy": "2025-10-19T13:32:57.350818Z",
     "iopub.status.idle": "2025-10-19T20:06:20.714582Z",
     "shell.execute_reply": "2025-10-19T20:06:20.713781Z"
    },
    "id": "6fcc00a0",
    "outputId": "f0e4621f-d7c5-460d-cac6-2983102903bb",
    "papermill": {
     "duration": 23603.38762,
     "end_time": "2025-10-19T20:06:20.716433",
     "exception": false,
     "start_time": "2025-10-19T13:32:57.328813",
     "status": "completed"
    },
    "tags": []
   },
   "outputs": [
    {
     "name": "stdout",
     "output_type": "stream",
     "text": [
      "Training Model 1/1: encoder_v2___compact_fixed\n"
     ]
    },
    {
     "name": "stderr",
     "output_type": "stream",
     "text": [
      "/usr/local/lib/python3.11/dist-packages/keras/src/trainers/data_adapters/py_dataset_adapter.py:121: UserWarning: Your `PyDataset` class should call `super().__init__(**kwargs)` in its constructor. `**kwargs` can include `workers`, `use_multiprocessing`, `max_queue_size`. Do not pass these arguments to `fit()`, as they will be ignored.\n",
      "  self._warn_if_super_not_called()\n"
     ]
    },
    {
     "name": "stdout",
     "output_type": "stream",
     "text": [
      "Epoch 1/20\n"
     ]
    },
    {
     "name": "stderr",
     "output_type": "stream",
     "text": [
      "WARNING: All log messages before absl::InitializeLog() is called are written to STDERR\n",
      "I0000 00:00:1760880784.407035      71 service.cc:148] XLA service 0x7a08bc015b10 initialized for platform CUDA (this does not guarantee that XLA will be used). Devices:\n",
      "I0000 00:00:1760880784.408771      71 service.cc:156]   StreamExecutor device (0): Tesla T4, Compute Capability 7.5\n",
      "I0000 00:00:1760880784.408787      71 service.cc:156]   StreamExecutor device (1): Tesla T4, Compute Capability 7.5\n",
      "I0000 00:00:1760880785.083729      71 cuda_dnn.cc:529] Loaded cuDNN version 90300\n"
     ]
    },
    {
     "name": "stdout",
     "output_type": "stream",
     "text": [
      "\u001b[1m    1/13195\u001b[0m \u001b[37m━━━━━━━━━━━━━━━━━━━━\u001b[0m \u001b[1m62:14:34\u001b[0m 17s/step - accuracy: 0.0537 - loss: 4.1641"
     ]
    },
    {
     "name": "stderr",
     "output_type": "stream",
     "text": [
      "I0000 00:00:1760880795.537634      71 device_compiler.h:188] Compiled cluster using XLA!  This line is logged at most once for the lifetime of the process.\n"
     ]
    },
    {
     "name": "stdout",
     "output_type": "stream",
     "text": [
      "\u001b[1m13195/13195\u001b[0m \u001b[32m━━━━━━━━━━━━━━━━━━━━\u001b[0m\u001b[37m\u001b[0m \u001b[1m0s\u001b[0m 83ms/step - accuracy: 0.2686 - loss: 2.6120\n",
      "Epoch 1: val_loss improved from inf to 2.17249, saving model to train/encoder_v2___compact_fixed.weights.h5\n",
      "\u001b[1m13195/13195\u001b[0m \u001b[32m━━━━━━━━━━━━━━━━━━━━\u001b[0m\u001b[37m\u001b[0m \u001b[1m1171s\u001b[0m 87ms/step - accuracy: 0.2686 - loss: 2.6120 - val_accuracy: 0.3901 - val_loss: 2.1725 - learning_rate: 3.0000e-04\n",
      "Epoch 2/20\n",
      "\u001b[1m13195/13195\u001b[0m \u001b[32m━━━━━━━━━━━━━━━━━━━━\u001b[0m\u001b[37m\u001b[0m \u001b[1m0s\u001b[0m 84ms/step - accuracy: 0.3974 - loss: 2.1402\n",
      "Epoch 2: val_loss improved from 2.17249 to 2.04949, saving model to train/encoder_v2___compact_fixed.weights.h5\n",
      "\u001b[1m13195/13195\u001b[0m \u001b[32m━━━━━━━━━━━━━━━━━━━━\u001b[0m\u001b[37m\u001b[0m \u001b[1m1163s\u001b[0m 88ms/step - accuracy: 0.3974 - loss: 2.1402 - val_accuracy: 0.4202 - val_loss: 2.0495 - learning_rate: 3.0000e-04\n",
      "Epoch 3/20\n",
      "\u001b[1m13195/13195\u001b[0m \u001b[32m━━━━━━━━━━━━━━━━━━━━\u001b[0m\u001b[37m\u001b[0m \u001b[1m0s\u001b[0m 84ms/step - accuracy: 0.4266 - loss: 2.0221\n",
      "Epoch 3: val_loss improved from 2.04949 to 1.96187, saving model to train/encoder_v2___compact_fixed.weights.h5\n",
      "\u001b[1m13195/13195\u001b[0m \u001b[32m━━━━━━━━━━━━━━━━━━━━\u001b[0m\u001b[37m\u001b[0m \u001b[1m1170s\u001b[0m 89ms/step - accuracy: 0.4266 - loss: 2.0221 - val_accuracy: 0.4412 - val_loss: 1.9619 - learning_rate: 3.0000e-04\n",
      "Epoch 4/20\n",
      "\u001b[1m13195/13195\u001b[0m \u001b[32m━━━━━━━━━━━━━━━━━━━━\u001b[0m\u001b[37m\u001b[0m \u001b[1m0s\u001b[0m 84ms/step - accuracy: 0.4439 - loss: 1.9485\n",
      "Epoch 4: val_loss improved from 1.96187 to 1.91727, saving model to train/encoder_v2___compact_fixed.weights.h5\n",
      "\u001b[1m13195/13195\u001b[0m \u001b[32m━━━━━━━━━━━━━━━━━━━━\u001b[0m\u001b[37m\u001b[0m \u001b[1m1168s\u001b[0m 89ms/step - accuracy: 0.4439 - loss: 1.9485 - val_accuracy: 0.4518 - val_loss: 1.9173 - learning_rate: 3.0000e-04\n",
      "Epoch 5/20\n",
      "\u001b[1m13195/13195\u001b[0m \u001b[32m━━━━━━━━━━━━━━━━━━━━\u001b[0m\u001b[37m\u001b[0m \u001b[1m0s\u001b[0m 85ms/step - accuracy: 0.4551 - loss: 1.9016\n",
      "Epoch 5: val_loss improved from 1.91727 to 1.88151, saving model to train/encoder_v2___compact_fixed.weights.h5\n",
      "\u001b[1m13195/13195\u001b[0m \u001b[32m━━━━━━━━━━━━━━━━━━━━\u001b[0m\u001b[37m\u001b[0m \u001b[1m1173s\u001b[0m 89ms/step - accuracy: 0.4551 - loss: 1.9016 - val_accuracy: 0.4604 - val_loss: 1.8815 - learning_rate: 3.0000e-04\n",
      "Epoch 6/20\n",
      "\u001b[1m13195/13195\u001b[0m \u001b[32m━━━━━━━━━━━━━━━━━━━━\u001b[0m\u001b[37m\u001b[0m \u001b[1m0s\u001b[0m 85ms/step - accuracy: 0.4620 - loss: 1.8717\n",
      "Epoch 6: val_loss improved from 1.88151 to 1.86370, saving model to train/encoder_v2___compact_fixed.weights.h5\n",
      "\u001b[1m13195/13195\u001b[0m \u001b[32m━━━━━━━━━━━━━━━━━━━━\u001b[0m\u001b[37m\u001b[0m \u001b[1m1176s\u001b[0m 89ms/step - accuracy: 0.4620 - loss: 1.8717 - val_accuracy: 0.4641 - val_loss: 1.8637 - learning_rate: 3.0000e-04\n",
      "Epoch 7/20\n",
      "\u001b[1m13195/13195\u001b[0m \u001b[32m━━━━━━━━━━━━━━━━━━━━\u001b[0m\u001b[37m\u001b[0m \u001b[1m0s\u001b[0m 85ms/step - accuracy: 0.4679 - loss: 1.8480\n",
      "Epoch 7: val_loss improved from 1.86370 to 1.84825, saving model to train/encoder_v2___compact_fixed.weights.h5\n",
      "\u001b[1m13195/13195\u001b[0m \u001b[32m━━━━━━━━━━━━━━━━━━━━\u001b[0m\u001b[37m\u001b[0m \u001b[1m1178s\u001b[0m 89ms/step - accuracy: 0.4679 - loss: 1.8480 - val_accuracy: 0.4681 - val_loss: 1.8483 - learning_rate: 3.0000e-04\n",
      "Epoch 8/20\n",
      "\u001b[1m13195/13195\u001b[0m \u001b[32m━━━━━━━━━━━━━━━━━━━━\u001b[0m\u001b[37m\u001b[0m \u001b[1m0s\u001b[0m 85ms/step - accuracy: 0.4723 - loss: 1.8297\n",
      "Epoch 8: val_loss improved from 1.84825 to 1.83368, saving model to train/encoder_v2___compact_fixed.weights.h5\n",
      "\u001b[1m13195/13195\u001b[0m \u001b[32m━━━━━━━━━━━━━━━━━━━━\u001b[0m\u001b[37m\u001b[0m \u001b[1m1177s\u001b[0m 89ms/step - accuracy: 0.4723 - loss: 1.8297 - val_accuracy: 0.4715 - val_loss: 1.8337 - learning_rate: 3.0000e-04\n",
      "Epoch 9/20\n",
      "\u001b[1m13195/13195\u001b[0m \u001b[32m━━━━━━━━━━━━━━━━━━━━\u001b[0m\u001b[37m\u001b[0m \u001b[1m0s\u001b[0m 86ms/step - accuracy: 0.4764 - loss: 1.8141\n",
      "Epoch 9: val_loss improved from 1.83368 to 1.82428, saving model to train/encoder_v2___compact_fixed.weights.h5\n",
      "\u001b[1m13195/13195\u001b[0m \u001b[32m━━━━━━━━━━━━━━━━━━━━\u001b[0m\u001b[37m\u001b[0m \u001b[1m1185s\u001b[0m 90ms/step - accuracy: 0.4764 - loss: 1.8141 - val_accuracy: 0.4740 - val_loss: 1.8243 - learning_rate: 3.0000e-04\n",
      "Epoch 10/20\n",
      "\u001b[1m13195/13195\u001b[0m \u001b[32m━━━━━━━━━━━━━━━━━━━━\u001b[0m\u001b[37m\u001b[0m \u001b[1m0s\u001b[0m 85ms/step - accuracy: 0.4799 - loss: 1.8003\n",
      "Epoch 10: val_loss improved from 1.82428 to 1.81759, saving model to train/encoder_v2___compact_fixed.weights.h5\n",
      "\u001b[1m13195/13195\u001b[0m \u001b[32m━━━━━━━━━━━━━━━━━━━━\u001b[0m\u001b[37m\u001b[0m \u001b[1m1182s\u001b[0m 90ms/step - accuracy: 0.4799 - loss: 1.8003 - val_accuracy: 0.4756 - val_loss: 1.8176 - learning_rate: 3.0000e-04\n",
      "Epoch 11/20\n",
      "\u001b[1m13195/13195\u001b[0m \u001b[32m━━━━━━━━━━━━━━━━━━━━\u001b[0m\u001b[37m\u001b[0m \u001b[1m0s\u001b[0m 86ms/step - accuracy: 0.4824 - loss: 1.7901\n",
      "Epoch 11: val_loss improved from 1.81759 to 1.80948, saving model to train/encoder_v2___compact_fixed.weights.h5\n",
      "\u001b[1m13195/13195\u001b[0m \u001b[32m━━━━━━━━━━━━━━━━━━━━\u001b[0m\u001b[37m\u001b[0m \u001b[1m1186s\u001b[0m 90ms/step - accuracy: 0.4824 - loss: 1.7901 - val_accuracy: 0.4779 - val_loss: 1.8095 - learning_rate: 3.0000e-04\n",
      "Epoch 12/20\n",
      "\u001b[1m13195/13195\u001b[0m \u001b[32m━━━━━━━━━━━━━━━━━━━━\u001b[0m\u001b[37m\u001b[0m \u001b[1m0s\u001b[0m 85ms/step - accuracy: 0.4852 - loss: 1.7793\n",
      "Epoch 12: val_loss improved from 1.80948 to 1.80503, saving model to train/encoder_v2___compact_fixed.weights.h5\n",
      "\u001b[1m13195/13195\u001b[0m \u001b[32m━━━━━━━━━━━━━━━━━━━━\u001b[0m\u001b[37m\u001b[0m \u001b[1m1182s\u001b[0m 90ms/step - accuracy: 0.4852 - loss: 1.7793 - val_accuracy: 0.4791 - val_loss: 1.8050 - learning_rate: 3.0000e-04\n",
      "Epoch 13/20\n",
      "\u001b[1m13195/13195\u001b[0m \u001b[32m━━━━━━━━━━━━━━━━━━━━\u001b[0m\u001b[37m\u001b[0m \u001b[1m0s\u001b[0m 86ms/step - accuracy: 0.4872 - loss: 1.7717\n",
      "Epoch 13: val_loss improved from 1.80503 to 1.79861, saving model to train/encoder_v2___compact_fixed.weights.h5\n",
      "\u001b[1m13195/13195\u001b[0m \u001b[32m━━━━━━━━━━━━━━━━━━━━\u001b[0m\u001b[37m\u001b[0m \u001b[1m1184s\u001b[0m 90ms/step - accuracy: 0.4872 - loss: 1.7717 - val_accuracy: 0.4805 - val_loss: 1.7986 - learning_rate: 3.0000e-04\n",
      "Epoch 14/20\n",
      "\u001b[1m13195/13195\u001b[0m \u001b[32m━━━━━━━━━━━━━━━━━━━━\u001b[0m\u001b[37m\u001b[0m \u001b[1m0s\u001b[0m 85ms/step - accuracy: 0.4895 - loss: 1.7635\n",
      "Epoch 14: val_loss improved from 1.79861 to 1.79514, saving model to train/encoder_v2___compact_fixed.weights.h5\n",
      "\u001b[1m13195/13195\u001b[0m \u001b[32m━━━━━━━━━━━━━━━━━━━━\u001b[0m\u001b[37m\u001b[0m \u001b[1m1184s\u001b[0m 90ms/step - accuracy: 0.4895 - loss: 1.7635 - val_accuracy: 0.4813 - val_loss: 1.7951 - learning_rate: 3.0000e-04\n",
      "Epoch 15/20\n",
      "\u001b[1m13195/13195\u001b[0m \u001b[32m━━━━━━━━━━━━━━━━━━━━\u001b[0m\u001b[37m\u001b[0m \u001b[1m0s\u001b[0m 85ms/step - accuracy: 0.4913 - loss: 1.7562\n",
      "Epoch 15: val_loss improved from 1.79514 to 1.79231, saving model to train/encoder_v2___compact_fixed.weights.h5\n",
      "\u001b[1m13195/13195\u001b[0m \u001b[32m━━━━━━━━━━━━━━━━━━━━\u001b[0m\u001b[37m\u001b[0m \u001b[1m1183s\u001b[0m 90ms/step - accuracy: 0.4913 - loss: 1.7562 - val_accuracy: 0.4824 - val_loss: 1.7923 - learning_rate: 3.0000e-04\n",
      "Epoch 16/20\n",
      "\u001b[1m13195/13195\u001b[0m \u001b[32m━━━━━━━━━━━━━━━━━━━━\u001b[0m\u001b[37m\u001b[0m \u001b[1m0s\u001b[0m 86ms/step - accuracy: 0.4926 - loss: 1.7509\n",
      "Epoch 16: val_loss improved from 1.79231 to 1.78809, saving model to train/encoder_v2___compact_fixed.weights.h5\n",
      "\u001b[1m13195/13195\u001b[0m \u001b[32m━━━━━━━━━━━━━━━━━━━━\u001b[0m\u001b[37m\u001b[0m \u001b[1m1188s\u001b[0m 90ms/step - accuracy: 0.4926 - loss: 1.7509 - val_accuracy: 0.4837 - val_loss: 1.7881 - learning_rate: 3.0000e-04\n",
      "Epoch 17/20\n",
      "\u001b[1m13195/13195\u001b[0m \u001b[32m━━━━━━━━━━━━━━━━━━━━\u001b[0m\u001b[37m\u001b[0m \u001b[1m0s\u001b[0m 86ms/step - accuracy: 0.4947 - loss: 1.7441\n",
      "Epoch 17: val_loss improved from 1.78809 to 1.78516, saving model to train/encoder_v2___compact_fixed.weights.h5\n",
      "\u001b[1m13195/13195\u001b[0m \u001b[32m━━━━━━━━━━━━━━━━━━━━\u001b[0m\u001b[37m\u001b[0m \u001b[1m1190s\u001b[0m 90ms/step - accuracy: 0.4947 - loss: 1.7441 - val_accuracy: 0.4842 - val_loss: 1.7852 - learning_rate: 3.0000e-04\n",
      "Epoch 18/20\n",
      "\u001b[1m13195/13195\u001b[0m \u001b[32m━━━━━━━━━━━━━━━━━━━━\u001b[0m\u001b[37m\u001b[0m \u001b[1m0s\u001b[0m 86ms/step - accuracy: 0.4962 - loss: 1.7380\n",
      "Epoch 18: val_loss improved from 1.78516 to 1.78384, saving model to train/encoder_v2___compact_fixed.weights.h5\n",
      "\u001b[1m13195/13195\u001b[0m \u001b[32m━━━━━━━━━━━━━━━━━━━━\u001b[0m\u001b[37m\u001b[0m \u001b[1m1189s\u001b[0m 90ms/step - accuracy: 0.4962 - loss: 1.7380 - val_accuracy: 0.4846 - val_loss: 1.7838 - learning_rate: 3.0000e-04\n",
      "Epoch 19/20\n",
      "\u001b[1m13195/13195\u001b[0m \u001b[32m━━━━━━━━━━━━━━━━━━━━\u001b[0m\u001b[37m\u001b[0m \u001b[1m0s\u001b[0m 86ms/step - accuracy: 0.4981 - loss: 1.7321\n",
      "Epoch 19: val_loss improved from 1.78384 to 1.78038, saving model to train/encoder_v2___compact_fixed.weights.h5\n",
      "\u001b[1m13195/13195\u001b[0m \u001b[32m━━━━━━━━━━━━━━━━━━━━\u001b[0m\u001b[37m\u001b[0m \u001b[1m1188s\u001b[0m 90ms/step - accuracy: 0.4981 - loss: 1.7321 - val_accuracy: 0.4856 - val_loss: 1.7804 - learning_rate: 3.0000e-04\n",
      "Epoch 20/20\n",
      "\u001b[1m13195/13195\u001b[0m \u001b[32m━━━━━━━━━━━━━━━━━━━━\u001b[0m\u001b[37m\u001b[0m \u001b[1m0s\u001b[0m 86ms/step - accuracy: 0.4992 - loss: 1.7268\n",
      "Epoch 20: val_loss improved from 1.78038 to 1.77888, saving model to train/encoder_v2___compact_fixed.weights.h5\n",
      "\u001b[1m13195/13195\u001b[0m \u001b[32m━━━━━━━━━━━━━━━━━━━━\u001b[0m\u001b[37m\u001b[0m \u001b[1m1186s\u001b[0m 90ms/step - accuracy: 0.4992 - loss: 1.7268 - val_accuracy: 0.4863 - val_loss: 1.7789 - learning_rate: 3.0000e-04\n",
      "Restoring model weights from the end of the best epoch: 20.\n"
     ]
    }
   ],
   "source": [
    "for i, model in enumerate(models_list):\n",
    "    print(F\"Training Model {i+1}/{len(models_list)}: {model.name}\")\n",
    "\n",
    "    model.fit(\n",
    "        train_data_loader,\n",
    "        val_data_loader,\n",
    "        force_train=False,\n",
    "    )"
   ]
  },
  {
   "cell_type": "markdown",
   "id": "a7c9d138",
   "metadata": {
    "id": "16327609",
    "papermill": {
     "duration": 12.426477,
     "end_time": "2025-10-19T20:06:45.250024",
     "exception": false,
     "start_time": "2025-10-19T20:06:32.823547",
     "status": "completed"
    },
    "tags": []
   },
   "source": [
    "# History"
   ]
  },
  {
   "cell_type": "code",
   "execution_count": 61,
   "id": "b285020f",
   "metadata": {
    "execution": {
     "iopub.execute_input": "2025-10-19T20:07:10.204371Z",
     "iopub.status.busy": "2025-10-19T20:07:10.203792Z",
     "iopub.status.idle": "2025-10-19T20:07:10.478086Z",
     "shell.execute_reply": "2025-10-19T20:07:10.477352Z"
    },
    "id": "72cf5ad8",
    "papermill": {
     "duration": 12.892251,
     "end_time": "2025-10-19T20:07:10.479357",
     "exception": false,
     "start_time": "2025-10-19T20:06:57.587106",
     "status": "completed"
    },
    "tags": []
   },
   "outputs": [
    {
     "data": {
      "image/png": "[encoded data removed]",
      "text/plain": [
       "<Figure size 1000x200 with 2 Axes>"
      ]
     },
     "metadata": {},
     "output_type": "display_data"
    }
   ],
   "source": [
    "for i, model in enumerate(models_list):\n",
    "    plt.figure(figsize=(10,2))\n",
    "\n",
    "\n",
    "    plt.subplot(1, 2, 1)\n",
    "\n",
    "    plt.suptitle(f\"{model.name}\", fontsize=13)\n",
    "\n",
    "\n",
    "    plt.grid(True)\n",
    "    plt.title(f\"loss\")\n",
    "    plt.ylabel('loss')\n",
    "    plt.xlabel('ephocs')\n",
    "    plt.plot(model.history['loss'], label='train')\n",
    "    plt.plot(model.history['val_loss'], label='val')\n",
    "    plt.legend()\n",
    "\n",
    "    plt.subplot(1, 2, 2)\n",
    "\n",
    "    plt.grid(True)\n",
    "    plt.title(f\"Accuracy\")\n",
    "    plt.ylabel('loss')\n",
    "    plt.xlabel('ephocs')\n",
    "    plt.plot(model.history['accuracy'], label='train')\n",
    "    plt.plot(model.history['val_accuracy'], label='val')\n",
    "    plt.yticks(np.arange(0, 1.1, 0.1))\n",
    "    plt.legend()\n",
    "\n",
    "    plt.show()"
   ]
  },
  {
   "cell_type": "code",
   "execution_count": 62,
   "id": "f6537f5b",
   "metadata": {
    "execution": {
     "iopub.execute_input": "2025-10-19T20:07:35.269780Z",
     "iopub.status.busy": "2025-10-19T20:07:35.269472Z",
     "iopub.status.idle": "2025-10-19T20:07:35.414670Z",
     "shell.execute_reply": "2025-10-19T20:07:35.413878Z"
    },
    "id": "bdf0bd6a",
    "papermill": {
     "duration": 12.348234,
     "end_time": "2025-10-19T20:07:35.415930",
     "exception": false,
     "start_time": "2025-10-19T20:07:23.067696",
     "status": "completed"
    },
    "tags": []
   },
   "outputs": [
    {
     "data": {
      "image/png": "[encoded data removed]",
      "text/plain": [
       "<Figure size 1000x200 with 1 Axes>"
      ]
     },
     "metadata": {},
     "output_type": "display_data"
    }
   ],
   "source": [
    "plt.figure(figsize=(10,2))\n",
    "plt.title(f\"Models Train loss\")\n",
    "plt.grid(True)\n",
    "plt.ylabel('loss')\n",
    "plt.xlabel('ephocs')\n",
    "\n",
    "for i, model in enumerate(models_list):\n",
    "    plt.plot(model.history['loss'], label=model.name)\n",
    "\n",
    "plt.legend(bbox_to_anchor=(1.05, 1),\n",
    "            loc=\"upper left\",)\n",
    "plt.show()"
   ]
  },
  {
   "cell_type": "code",
   "execution_count": 63,
   "id": "63930a18",
   "metadata": {
    "execution": {
     "iopub.execute_input": "2025-10-19T20:08:00.053798Z",
     "iopub.status.busy": "2025-10-19T20:08:00.053467Z",
     "iopub.status.idle": "2025-10-19T20:08:00.208202Z",
     "shell.execute_reply": "2025-10-19T20:08:00.207430Z"
    },
    "id": "fdc132fb",
    "papermill": {
     "duration": 12.377276,
     "end_time": "2025-10-19T20:08:00.209421",
     "exception": false,
     "start_time": "2025-10-19T20:07:47.832145",
     "status": "completed"
    },
    "tags": []
   },
   "outputs": [
    {
     "data": {
      "image/png": "[encoded data removed]",
      "text/plain": [
       "<Figure size 1000x200 with 1 Axes>"
      ]
     },
     "metadata": {},
     "output_type": "display_data"
    }
   ],
   "source": [
    "plt.figure(figsize=(10,2))\n",
    "plt.title(f\"Models Val loss\")\n",
    "plt.grid(True)\n",
    "plt.ylabel('loss')\n",
    "plt.xlabel('ephocs')\n",
    "\n",
    "for i, model in enumerate(models_list):\n",
    "    plt.plot(model.history['val_loss'], label=model.name)\n",
    "\n",
    "plt.legend(bbox_to_anchor=(1.05, 1),\n",
    "            loc=\"upper left\",)\n",
    "\n",
    "plt.show()"
   ]
  },
  {
   "cell_type": "markdown",
   "id": "90540e52",
   "metadata": {
    "id": "a32e49ce",
    "papermill": {
     "duration": 12.42188,
     "end_time": "2025-10-19T20:08:24.783575",
     "exception": false,
     "start_time": "2025-10-19T20:08:12.361695",
     "status": "completed"
    },
    "tags": []
   },
   "source": [
    "# Inference"
   ]
  },
  {
   "cell_type": "code",
   "execution_count": 64,
   "id": "bcb3b980",
   "metadata": {
    "execution": {
     "iopub.execute_input": "2025-10-19T20:08:49.531900Z",
     "iopub.status.busy": "2025-10-19T20:08:49.531150Z",
     "iopub.status.idle": "2025-10-19T20:08:49.535679Z",
     "shell.execute_reply": "2025-10-19T20:08:49.535043Z"
    },
    "id": "a68b576e",
    "papermill": {
     "duration": 12.395562,
     "end_time": "2025-10-19T20:08:49.536836",
     "exception": false,
     "start_time": "2025-10-19T20:08:37.141274",
     "status": "completed"
    },
    "tags": []
   },
   "outputs": [
    {
     "name": "stdout",
     "output_type": "stream",
     "text": [
      "<__main__.CustomModel object at 0x7a0abcc37790>\n"
     ]
    }
   ],
   "source": [
    "best_model_name = \"encoder_v2___compact_fixed\"\n",
    "best_model = list(filter(lambda x: x.name == best_model_name, models_list))[0]\n",
    "print(best_model)"
   ]
  },
  {
   "cell_type": "code",
   "execution_count": 65,
   "id": "a0bf448a",
   "metadata": {
    "execution": {
     "iopub.execute_input": "2025-10-19T20:09:13.969265Z",
     "iopub.status.busy": "2025-10-19T20:09:13.968583Z",
     "iopub.status.idle": "2025-10-19T20:09:13.974287Z",
     "shell.execute_reply": "2025-10-19T20:09:13.973721Z"
    },
    "papermill": {
     "duration": 12.336328,
     "end_time": "2025-10-19T20:09:13.975389",
     "exception": false,
     "start_time": "2025-10-19T20:09:01.639061",
     "status": "completed"
    },
    "tags": []
   },
   "outputs": [],
   "source": [
    "def predict_txt(input_prompt, best_model, iterations, sample_p = True):\n",
    "    padded_prompt = clean_poem_text(input_prompt)\n",
    "\n",
    "    yield padded_prompt\n",
    "\n",
    "    while(len(padded_prompt) < WINDOW_SIZE):\n",
    "        padded_prompt = START_TOKEN + padded_prompt\n",
    "        \n",
    "    while(len(padded_prompt) > WINDOW_SIZE):\n",
    "        padded_prompt = padded_prompt[1:]\n",
    "\n",
    "    for i in range(iterations):\n",
    "        padded_prompt_tokenized = [tokenizer_dict[ch] for ch in padded_prompt]\n",
    "\n",
    "        padded_prompt_tokenized = np.array([padded_prompt_tokenized])\n",
    "        pro_output =  best_model.predict(padded_prompt_tokenized, verbose = 0)[0]\n",
    "\n",
    "        if sample_p:\n",
    "            ch_num = np.random.choice(len(pro_output), p=pro_output)\n",
    "        else:\n",
    "            ch_num = np.argmax(pro_output)\n",
    "        ch = tokenizer_decode([ch_num])[0]\n",
    "\n",
    "        padded_prompt = padded_prompt[1:] + ch\n",
    "\n",
    "        yield ch\n",
    "\n",
    "        \n",
    "    return ch"
   ]
  },
  {
   "cell_type": "code",
   "execution_count": 66,
   "id": "ea841f88",
   "metadata": {
    "execution": {
     "iopub.execute_input": "2025-10-19T20:09:38.740751Z",
     "iopub.status.busy": "2025-10-19T20:09:38.740463Z",
     "iopub.status.idle": "2025-10-19T20:10:17.389080Z",
     "shell.execute_reply": "2025-10-19T20:10:17.388051Z"
    },
    "papermill": {
     "duration": 51.014397,
     "end_time": "2025-10-19T20:10:17.390694",
     "exception": false,
     "start_time": "2025-10-19T20:09:26.376297",
     "status": "completed"
    },
    "tags": []
   },
   "outputs": [
    {
     "name": "stdout",
     "output_type": "stream",
     "text": [
      "يا عبير الموت الذي انت المني\n",
      "والمرء من الامر المنير\n",
      "والمرء يعرف من الامال وال\n",
      "انا المساعي المنير المسير\n",
      "والماء المعالي والمرايا\n",
      "والموت الا ان تكون المسير\n",
      "والموت المنايا المنيه\n",
      "والموت المنايا المستقيم\n",
      "والال المساعي المنيف المني\n",
      "والماء من المنصب المعدوم\n",
      "والال والاحسان ان المني\n",
      "والموت المنايا والتقديم\n",
      "والال المعاني والمنايا\n",
      "والموت المنايا والمستقيم\n",
      "والامر المعالي والمعالي\n",
      "والموت المنايا والمستقيم\n",
      "والارض ترجع من الانام\n",
      "والارض المنير والمستقيم\n",
      "والارض ترجف والاحسام\n",
      "والال والاحسان الا المعاني\n",
      "والموت المنايا و"
     ]
    }
   ],
   "source": [
    "for r in predict_txt(\"يا عبير\", best_model.model, 500, False):\n",
    "    print(r,end='')"
   ]
  },
  {
   "cell_type": "markdown",
   "id": "9a67588f",
   "metadata": {
    "id": "b0fc4c13",
    "papermill": {
     "duration": 12.133415,
     "end_time": "2025-10-19T20:10:41.933047",
     "exception": false,
     "start_time": "2025-10-19T20:10:29.799632",
     "status": "completed"
    },
    "tags": []
   },
   "source": [
    "# Cache"
   ]
  }
 ],
 "metadata": {
  "accelerator": "GPU",
  "colab": {
   "gpuType": "T4",
   "provenance": [],
   "toc_visible": true
  },
  "kaggle": {
   "accelerator": "nvidiaTeslaT4",
   "dataSources": [
    {
     "datasetId": 510778,
     "sourceId": 942735,
     "sourceType": "datasetVersion"
    }
   ],
   "dockerImageVersionId": 31154,
   "isGpuEnabled": true,
   "isInternetEnabled": true,
   "language": "python",
   "sourceType": "notebook"
  },
  "kernelspec": {
   "display_name": "Python 3",
   "language": "python",
   "name": "python3"
  },
  "language_info": {
   "codemirror_mode": {
    "name": "ipython",
    "version": 3
   },
   "file_extension": ".py",
   "mimetype": "text/x-python",
   "name": "python",
   "nbconvert_exporter": "python",
   "pygments_lexer": "ipython3",
   "version": "3.11.13"
  },
  "papermill": {
   "default_parameters": {},
   "duration": 23982.277403,
   "end_time": "2025-10-19T20:10:58.041102",
   "environment_variables": {},
   "exception": null,
   "input_path": "__notebook__.ipynb",
   "output_path": "__notebook__.ipynb",
   "parameters": {},
   "start_time": "2025-10-19T13:31:15.763699",
   "version": "2.6.0"
  }
 },
 "nbformat": 4,
 "nbformat_minor": 5
}
