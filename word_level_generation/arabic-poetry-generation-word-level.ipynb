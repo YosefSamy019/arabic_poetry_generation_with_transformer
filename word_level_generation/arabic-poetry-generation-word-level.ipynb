{
 "cells": [
  {
   "cell_type": "markdown",
   "id": "387f2a8b",
   "metadata": {
    "id": "517761fe",
    "papermill": {
     "duration": 0.011397,
     "end_time": "2025-10-19T23:43:29.886608",
     "exception": false,
     "start_time": "2025-10-19T23:43:29.875211",
     "status": "completed"
    },
    "tags": []
   },
   "source": [
    "# Info"
   ]
  },
  {
   "cell_type": "markdown",
   "id": "059f3d20",
   "metadata": {
    "id": "125a89a2",
    "papermill": {
     "duration": 0.009568,
     "end_time": "2025-10-19T23:43:29.906370",
     "exception": false,
     "start_time": "2025-10-19T23:43:29.896802",
     "status": "completed"
    },
    "tags": []
   },
   "source": [
    "https://www.kaggle.com/datasets/ahmedabelal/arabic-poetry"
   ]
  },
  {
   "cell_type": "code",
   "execution_count": 1,
   "id": "1271ca27",
   "metadata": {
    "execution": {
     "iopub.execute_input": "2025-10-19T23:43:29.928161Z",
     "iopub.status.busy": "2025-10-19T23:43:29.927545Z",
     "iopub.status.idle": "2025-10-19T23:43:29.931197Z",
     "shell.execute_reply": "2025-10-19T23:43:29.930659Z"
    },
    "id": "P1BPmS5PqknW",
    "papermill": {
     "duration": 0.015276,
     "end_time": "2025-10-19T23:43:29.932260",
     "exception": false,
     "start_time": "2025-10-19T23:43:29.916984",
     "status": "completed"
    },
    "tags": []
   },
   "outputs": [],
   "source": [
    "# from google.colab import drive\n",
    "# drive.mount('/content/drive')"
   ]
  },
  {
   "cell_type": "markdown",
   "id": "83faa9ec",
   "metadata": {
    "id": "06849f9e",
    "papermill": {
     "duration": 0.00944,
     "end_time": "2025-10-19T23:43:29.951627",
     "exception": false,
     "start_time": "2025-10-19T23:43:29.942187",
     "status": "completed"
    },
    "tags": []
   },
   "source": [
    "# Libraries"
   ]
  },
  {
   "cell_type": "code",
   "execution_count": 2,
   "id": "a2efb825",
   "metadata": {
    "execution": {
     "iopub.execute_input": "2025-10-19T23:43:29.971400Z",
     "iopub.status.busy": "2025-10-19T23:43:29.971186Z",
     "iopub.status.idle": "2025-10-19T23:43:32.699297Z",
     "shell.execute_reply": "2025-10-19T23:43:32.698477Z"
    },
    "id": "c060e4ff",
    "papermill": {
     "duration": 2.739577,
     "end_time": "2025-10-19T23:43:32.700706",
     "exception": false,
     "start_time": "2025-10-19T23:43:29.961129",
     "status": "completed"
    },
    "tags": []
   },
   "outputs": [],
   "source": [
    "import numpy as np\n",
    "import pandas as pd\n",
    "import matplotlib.pyplot as plt\n",
    "import seaborn as sns"
   ]
  },
  {
   "cell_type": "code",
   "execution_count": 3,
   "id": "b05bea2d",
   "metadata": {
    "execution": {
     "iopub.execute_input": "2025-10-19T23:43:32.721328Z",
     "iopub.status.busy": "2025-10-19T23:43:32.721041Z",
     "iopub.status.idle": "2025-10-19T23:43:32.871074Z",
     "shell.execute_reply": "2025-10-19T23:43:32.870290Z"
    },
    "id": "4636cd00",
    "papermill": {
     "duration": 0.161486,
     "end_time": "2025-10-19T23:43:32.872394",
     "exception": false,
     "start_time": "2025-10-19T23:43:32.710908",
     "status": "completed"
    },
    "tags": []
   },
   "outputs": [],
   "source": [
    "import kagglehub"
   ]
  },
  {
   "cell_type": "code",
   "execution_count": 4,
   "id": "c936eafd",
   "metadata": {
    "execution": {
     "iopub.execute_input": "2025-10-19T23:43:32.892986Z",
     "iopub.status.busy": "2025-10-19T23:43:32.892721Z",
     "iopub.status.idle": "2025-10-19T23:43:32.896289Z",
     "shell.execute_reply": "2025-10-19T23:43:32.895586Z"
    },
    "id": "1ef31869",
    "papermill": {
     "duration": 0.014986,
     "end_time": "2025-10-19T23:43:32.897323",
     "exception": false,
     "start_time": "2025-10-19T23:43:32.882337",
     "status": "completed"
    },
    "tags": []
   },
   "outputs": [],
   "source": [
    "import os\n",
    "import re\n",
    "import json\n",
    "import random"
   ]
  },
  {
   "cell_type": "code",
   "execution_count": 5,
   "id": "08c6f13f",
   "metadata": {
    "execution": {
     "iopub.execute_input": "2025-10-19T23:43:32.917624Z",
     "iopub.status.busy": "2025-10-19T23:43:32.917419Z",
     "iopub.status.idle": "2025-10-19T23:43:32.920451Z",
     "shell.execute_reply": "2025-10-19T23:43:32.919959Z"
    },
    "id": "7949b4c3",
    "papermill": {
     "duration": 0.01475,
     "end_time": "2025-10-19T23:43:32.921555",
     "exception": false,
     "start_time": "2025-10-19T23:43:32.906805",
     "status": "completed"
    },
    "tags": []
   },
   "outputs": [],
   "source": [
    "import tqdm\n",
    "import pickle"
   ]
  },
  {
   "cell_type": "code",
   "execution_count": 6,
   "id": "6005f5e8",
   "metadata": {
    "execution": {
     "iopub.execute_input": "2025-10-19T23:43:32.941370Z",
     "iopub.status.busy": "2025-10-19T23:43:32.941168Z",
     "iopub.status.idle": "2025-10-19T23:43:37.171611Z",
     "shell.execute_reply": "2025-10-19T23:43:37.170779Z"
    },
    "id": "fb1732ed",
    "outputId": "6bc17241-1a4d-4e33-bbdd-0a51dc25967b",
    "papermill": {
     "duration": 4.241962,
     "end_time": "2025-10-19T23:43:37.173129",
     "exception": false,
     "start_time": "2025-10-19T23:43:32.931167",
     "status": "completed"
    },
    "tags": []
   },
   "outputs": [
    {
     "name": "stdout",
     "output_type": "stream",
     "text": [
      "Requirement already satisfied: arabic-reshaper in c:\\users\\yosef\\anaconda3\\envs\\my-env\\lib\\site-packages (3.0.0)\n",
      "Requirement already satisfied: python-bidi in c:\\users\\yosef\\anaconda3\\envs\\my-env\\lib\\site-packages (0.6.6)\n"
     ]
    }
   ],
   "source": [
    "!pip install arabic-reshaper python-bidi\n",
    "import arabic_reshaper\n",
    "from bidi.algorithm import get_display"
   ]
  },
  {
   "cell_type": "code",
   "execution_count": 7,
   "id": "3ed7a0ff",
   "metadata": {
    "execution": {
     "iopub.execute_input": "2025-10-19T23:43:37.194685Z",
     "iopub.status.busy": "2025-10-19T23:43:37.194423Z",
     "iopub.status.idle": "2025-10-19T23:43:37.383728Z",
     "shell.execute_reply": "2025-10-19T23:43:37.383173Z"
    },
    "id": "23888640",
    "papermill": {
     "duration": 0.201536,
     "end_time": "2025-10-19T23:43:37.385157",
     "exception": false,
     "start_time": "2025-10-19T23:43:37.183621",
     "status": "completed"
    },
    "tags": []
   },
   "outputs": [],
   "source": [
    "from sklearn.model_selection import train_test_split"
   ]
  },
  {
   "cell_type": "code",
   "execution_count": 8,
   "id": "06f4fec8",
   "metadata": {
    "execution": {
     "iopub.execute_input": "2025-10-19T23:43:37.407325Z",
     "iopub.status.busy": "2025-10-19T23:43:37.406875Z",
     "iopub.status.idle": "2025-10-19T23:43:49.950863Z",
     "shell.execute_reply": "2025-10-19T23:43:49.950261Z"
    },
    "id": "b8c8a890",
    "papermill": {
     "duration": 12.556714,
     "end_time": "2025-10-19T23:43:49.952266",
     "exception": false,
     "start_time": "2025-10-19T23:43:37.395552",
     "status": "completed"
    },
    "tags": []
   },
   "outputs": [],
   "source": [
    "from tensorflow.keras.callbacks import EarlyStopping, ModelCheckpoint, Callback, ReduceLROnPlateau\n",
    "from tensorflow.keras.layers import *\n",
    "from tensorflow.keras.models import Model\n",
    "from tensorflow.keras.utils import plot_model\n",
    "\n",
    "import tensorflow as tf\n",
    "from tensorflow.keras.utils import Sequence\n",
    "from tensorflow.keras.preprocessing.text import Tokenizer"
   ]
  },
  {
   "cell_type": "markdown",
   "id": "84e6fd7e",
   "metadata": {
    "id": "2670ae8c",
    "papermill": {
     "duration": 0.009734,
     "end_time": "2025-10-19T23:43:49.972532",
     "exception": false,
     "start_time": "2025-10-19T23:43:49.962798",
     "status": "completed"
    },
    "tags": []
   },
   "source": [
    "# Functions"
   ]
  },
  {
   "cell_type": "code",
   "execution_count": 9,
   "id": "7a150bc5",
   "metadata": {
    "execution": {
     "iopub.execute_input": "2025-10-19T23:43:49.993994Z",
     "iopub.status.busy": "2025-10-19T23:43:49.993128Z",
     "iopub.status.idle": "2025-10-19T23:43:49.996669Z",
     "shell.execute_reply": "2025-10-19T23:43:49.996084Z"
    },
    "id": "509b64df",
    "papermill": {
     "duration": 0.015338,
     "end_time": "2025-10-19T23:43:49.997676",
     "exception": false,
     "start_time": "2025-10-19T23:43:49.982338",
     "status": "completed"
    },
    "tags": []
   },
   "outputs": [],
   "source": [
    "def count_n_lines(text):\n",
    "    return len(text.split('\\n'))"
   ]
  },
  {
   "cell_type": "code",
   "execution_count": 10,
   "id": "f4cc672e",
   "metadata": {
    "execution": {
     "iopub.execute_input": "2025-10-19T23:43:50.017929Z",
     "iopub.status.busy": "2025-10-19T23:43:50.017673Z",
     "iopub.status.idle": "2025-10-19T23:43:50.021168Z",
     "shell.execute_reply": "2025-10-19T23:43:50.020450Z"
    },
    "id": "d67862a8",
    "papermill": {
     "duration": 0.014872,
     "end_time": "2025-10-19T23:43:50.022300",
     "exception": false,
     "start_time": "2025-10-19T23:43:50.007428",
     "status": "completed"
    },
    "tags": []
   },
   "outputs": [],
   "source": [
    "def count_n_words(text):\n",
    "    return len(text.split(' '))"
   ]
  },
  {
   "cell_type": "code",
   "execution_count": 11,
   "id": "64b0120e",
   "metadata": {
    "execution": {
     "iopub.execute_input": "2025-10-19T23:43:50.042704Z",
     "iopub.status.busy": "2025-10-19T23:43:50.042379Z",
     "iopub.status.idle": "2025-10-19T23:43:50.045720Z",
     "shell.execute_reply": "2025-10-19T23:43:50.044851Z"
    },
    "id": "479f9974",
    "papermill": {
     "duration": 0.01455,
     "end_time": "2025-10-19T23:43:50.046766",
     "exception": false,
     "start_time": "2025-10-19T23:43:50.032216",
     "status": "completed"
    },
    "tags": []
   },
   "outputs": [],
   "source": [
    "def count_n_chars(text):\n",
    "    return len(text)"
   ]
  },
  {
   "cell_type": "code",
   "execution_count": 12,
   "id": "e3ff2198",
   "metadata": {
    "execution": {
     "iopub.execute_input": "2025-10-19T23:43:50.066949Z",
     "iopub.status.busy": "2025-10-19T23:43:50.066734Z",
     "iopub.status.idle": "2025-10-19T23:43:50.070896Z",
     "shell.execute_reply": "2025-10-19T23:43:50.070181Z"
    },
    "id": "30a12455",
    "papermill": {
     "duration": 0.015628,
     "end_time": "2025-10-19T23:43:50.072000",
     "exception": false,
     "start_time": "2025-10-19T23:43:50.056372",
     "status": "completed"
    },
    "tags": []
   },
   "outputs": [],
   "source": [
    "def read_json(path):\n",
    "    with open(path, 'r', encoding='utf-8') as f:\n",
    "        return json.load(f)\n",
    "\n",
    "def write_json(path, data):\n",
    "    with open(path, 'w', encoding='utf-8') as f:\n",
    "        json.dump(data, f, ensure_ascii=False, indent=2)"
   ]
  },
  {
   "cell_type": "code",
   "execution_count": 13,
   "id": "138012e5",
   "metadata": {
    "execution": {
     "iopub.execute_input": "2025-10-19T23:43:50.092039Z",
     "iopub.status.busy": "2025-10-19T23:43:50.091836Z",
     "iopub.status.idle": "2025-10-19T23:43:50.095839Z",
     "shell.execute_reply": "2025-10-19T23:43:50.095038Z"
    },
    "id": "d3cb954d",
    "papermill": {
     "duration": 0.015071,
     "end_time": "2025-10-19T23:43:50.096906",
     "exception": false,
     "start_time": "2025-10-19T23:43:50.081835",
     "status": "completed"
    },
    "tags": []
   },
   "outputs": [],
   "source": [
    "def read_pickle(file_path):\n",
    "    with open(file_path, 'rb') as f:\n",
    "        data = pickle.load(f)\n",
    "    return data\n",
    "\n",
    "def write_pickle(file_path, data):\n",
    "    with open(file_path, 'wb') as f:\n",
    "        pickle.dump(data, f)"
   ]
  },
  {
   "cell_type": "markdown",
   "id": "39edba4c",
   "metadata": {
    "id": "5e235ad6",
    "papermill": {
     "duration": 0.009608,
     "end_time": "2025-10-19T23:43:50.116203",
     "exception": false,
     "start_time": "2025-10-19T23:43:50.106595",
     "status": "completed"
    },
    "tags": []
   },
   "source": [
    "# Constants"
   ]
  },
  {
   "cell_type": "code",
   "execution_count": 14,
   "id": "797857dd",
   "metadata": {
    "execution": {
     "iopub.execute_input": "2025-10-19T23:43:50.136633Z",
     "iopub.status.busy": "2025-10-19T23:43:50.136283Z",
     "iopub.status.idle": "2025-10-19T23:43:50.139427Z",
     "shell.execute_reply": "2025-10-19T23:43:50.138876Z"
    },
    "id": "e039e754",
    "papermill": {
     "duration": 0.014723,
     "end_time": "2025-10-19T23:43:50.140420",
     "exception": false,
     "start_time": "2025-10-19T23:43:50.125697",
     "status": "completed"
    },
    "tags": []
   },
   "outputs": [],
   "source": [
    "WINDOW_SIZE = 64 # Words, will be 65 by adding CLS token"
   ]
  },
  {
   "cell_type": "code",
   "execution_count": 15,
   "id": "dd1f5573",
   "metadata": {
    "execution": {
     "iopub.execute_input": "2025-10-19T23:43:50.160987Z",
     "iopub.status.busy": "2025-10-19T23:43:50.160753Z",
     "iopub.status.idle": "2025-10-19T23:43:50.163961Z",
     "shell.execute_reply": "2025-10-19T23:43:50.163259Z"
    },
    "id": "a9c4b959",
    "papermill": {
     "duration": 0.014957,
     "end_time": "2025-10-19T23:43:50.165050",
     "exception": false,
     "start_time": "2025-10-19T23:43:50.150093",
     "status": "completed"
    },
    "tags": []
   },
   "outputs": [],
   "source": [
    "START_TOKEN = '#'\n",
    "CONCAT_TOKEN = '&'\n",
    "CLS_TOKEN = '$'\n",
    "OOV_TOKEN = 'OOV'"
   ]
  },
  {
   "cell_type": "code",
   "execution_count": 16,
   "id": "5d404456",
   "metadata": {
    "execution": {
     "iopub.execute_input": "2025-10-19T23:43:50.185017Z",
     "iopub.status.busy": "2025-10-19T23:43:50.184792Z",
     "iopub.status.idle": "2025-10-19T23:43:50.189089Z",
     "shell.execute_reply": "2025-10-19T23:43:50.188551Z"
    },
    "id": "9f8af7ef",
    "papermill": {
     "duration": 0.015394,
     "end_time": "2025-10-19T23:43:50.190122",
     "exception": false,
     "start_time": "2025-10-19T23:43:50.174728",
     "status": "completed"
    },
    "tags": []
   },
   "outputs": [],
   "source": [
    "# BASE_DIR = 'drive/MyDrive/BBB'\n",
    "BASE_DIR = ''\n",
    "\n",
    "UTILS_DIR = os.path.join(BASE_DIR, 'utils')\n",
    "TRAIN_DIR = os.path.join(BASE_DIR, 'train')\n",
    "\n",
    "os.makedirs(UTILS_DIR, exist_ok=True)\n",
    "os.makedirs(TRAIN_DIR, exist_ok=True)\n",
    "\n",
    "TOKENIZER_PATH = os.path.join(UTILS_DIR, 'tokenizer.pickle')\n",
    "TOKENS_DICT_PATH = os.path.join(UTILS_DIR, 'tokens.json')"
   ]
  },
  {
   "cell_type": "code",
   "execution_count": 17,
   "id": "5815d34a",
   "metadata": {
    "execution": {
     "iopub.execute_input": "2025-10-19T23:43:50.210044Z",
     "iopub.status.busy": "2025-10-19T23:43:50.209808Z",
     "iopub.status.idle": "2025-10-19T23:43:50.212986Z",
     "shell.execute_reply": "2025-10-19T23:43:50.212395Z"
    },
    "id": "7dba5203",
    "papermill": {
     "duration": 0.014316,
     "end_time": "2025-10-19T23:43:50.214082",
     "exception": false,
     "start_time": "2025-10-19T23:43:50.199766",
     "status": "completed"
    },
    "tags": []
   },
   "outputs": [],
   "source": [
    "RANDOM_SEED = 42\n",
    "np.random.seed(RANDOM_SEED)\n",
    "random.seed(RANDOM_SEED)"
   ]
  },
  {
   "cell_type": "code",
   "execution_count": 18,
   "id": "a46a9dea",
   "metadata": {
    "execution": {
     "iopub.execute_input": "2025-10-19T23:43:50.234590Z",
     "iopub.status.busy": "2025-10-19T23:43:50.234209Z",
     "iopub.status.idle": "2025-10-19T23:43:50.237383Z",
     "shell.execute_reply": "2025-10-19T23:43:50.236669Z"
    },
    "id": "868fb899",
    "papermill": {
     "duration": 0.014487,
     "end_time": "2025-10-19T23:43:50.238438",
     "exception": false,
     "start_time": "2025-10-19T23:43:50.223951",
     "status": "completed"
    },
    "tags": []
   },
   "outputs": [],
   "source": [
    "TEST_SIZE = 0.2\n",
    "VAL_SIZE = 0.2"
   ]
  },
  {
   "cell_type": "code",
   "execution_count": 19,
   "id": "107dfe9e",
   "metadata": {
    "execution": {
     "iopub.execute_input": "2025-10-19T23:43:50.259528Z",
     "iopub.status.busy": "2025-10-19T23:43:50.259306Z",
     "iopub.status.idle": "2025-10-19T23:43:50.262574Z",
     "shell.execute_reply": "2025-10-19T23:43:50.261843Z"
    },
    "id": "e6363e3b",
    "papermill": {
     "duration": 0.015438,
     "end_time": "2025-10-19T23:43:50.263739",
     "exception": false,
     "start_time": "2025-10-19T23:43:50.248301",
     "status": "completed"
    },
    "tags": []
   },
   "outputs": [],
   "source": [
    "EPOCHS = 10\n",
    "BATCH_SIZE = 1024"
   ]
  },
  {
   "cell_type": "markdown",
   "id": "c8dd7740",
   "metadata": {
    "id": "c9c935b6",
    "papermill": {
     "duration": 0.009747,
     "end_time": "2025-10-19T23:43:50.283092",
     "exception": false,
     "start_time": "2025-10-19T23:43:50.273345",
     "status": "completed"
    },
    "tags": []
   },
   "source": [
    "# Data Loading"
   ]
  },
  {
   "cell_type": "code",
   "execution_count": 20,
   "id": "e94ce0f5",
   "metadata": {
    "execution": {
     "iopub.execute_input": "2025-10-19T23:43:50.303532Z",
     "iopub.status.busy": "2025-10-19T23:43:50.303284Z",
     "iopub.status.idle": "2025-10-19T23:43:50.449321Z",
     "shell.execute_reply": "2025-10-19T23:43:50.448550Z"
    },
    "id": "50a4b8f3",
    "outputId": "d5695be2-0f82-4fae-f56d-c81bd92115ba",
    "papermill": {
     "duration": 0.157584,
     "end_time": "2025-10-19T23:43:50.450530",
     "exception": false,
     "start_time": "2025-10-19T23:43:50.292946",
     "status": "completed"
    },
    "tags": []
   },
   "outputs": [
    {
     "name": "stdout",
     "output_type": "stream",
     "text": [
      "Warning: Looks like you're using an outdated `kagglehub` version (installed: 0.3.12), please consider upgrading to the latest version (0.3.13).\n",
      "Path to dataset files: C:\\Users\\yosef\\.cache\\kagglehub\\datasets\\ahmedabelal\\arabic-poetry\\versions\\1\n"
     ]
    }
   ],
   "source": [
    "# Download latest version\n",
    "path = kagglehub.dataset_download(\"ahmedabelal/arabic-poetry\")\n",
    "\n",
    "print(\"Path to dataset files:\", path)"
   ]
  },
  {
   "cell_type": "code",
   "execution_count": 21,
   "id": "78d8bec8",
   "metadata": {
    "execution": {
     "iopub.execute_input": "2025-10-19T23:43:50.471392Z",
     "iopub.status.busy": "2025-10-19T23:43:50.471174Z",
     "iopub.status.idle": "2025-10-19T23:43:50.490042Z",
     "shell.execute_reply": "2025-10-19T23:43:50.489401Z"
    },
    "id": "a811f7a0",
    "outputId": "de9b9628-9a09-4de6-b43a-8bc4547b6a33",
    "papermill": {
     "duration": 0.03023,
     "end_time": "2025-10-19T23:43:50.491114",
     "exception": false,
     "start_time": "2025-10-19T23:43:50.460884",
     "status": "completed"
    },
    "tags": []
   },
   "outputs": [
    {
     "data": {
      "text/plain": [
       "(['Arabic_poetry_dataset.csv'],\n",
       " 'C:\\\\Users\\\\yosef\\\\.cache\\\\kagglehub\\\\datasets\\\\ahmedabelal\\\\arabic-poetry\\\\versions\\\\1')"
      ]
     },
     "execution_count": 21,
     "metadata": {},
     "output_type": "execute_result"
    }
   ],
   "source": [
    "os.listdir(path), path"
   ]
  },
  {
   "cell_type": "code",
   "execution_count": 22,
   "id": "aeb5ea36",
   "metadata": {
    "execution": {
     "iopub.execute_input": "2025-10-19T23:43:50.512387Z",
     "iopub.status.busy": "2025-10-19T23:43:50.512204Z",
     "iopub.status.idle": "2025-10-19T23:43:52.968446Z",
     "shell.execute_reply": "2025-10-19T23:43:52.967828Z"
    },
    "id": "75d4f252",
    "papermill": {
     "duration": 2.468019,
     "end_time": "2025-10-19T23:43:52.969732",
     "exception": false,
     "start_time": "2025-10-19T23:43:50.501713",
     "status": "completed"
    },
    "tags": []
   },
   "outputs": [],
   "source": [
    "df = pd.read_csv(os.path.join(path, os.listdir(path)[0] ))"
   ]
  },
  {
   "cell_type": "markdown",
   "id": "e560f258",
   "metadata": {
    "id": "e84eab07",
    "papermill": {
     "duration": 0.009857,
     "end_time": "2025-10-19T23:43:52.990514",
     "exception": false,
     "start_time": "2025-10-19T23:43:52.980657",
     "status": "completed"
    },
    "tags": []
   },
   "source": [
    "# Dataset Exploration"
   ]
  },
  {
   "cell_type": "code",
   "execution_count": 23,
   "id": "fd7d3ed7",
   "metadata": {
    "execution": {
     "iopub.execute_input": "2025-10-19T23:43:53.011671Z",
     "iopub.status.busy": "2025-10-19T23:43:53.011205Z",
     "iopub.status.idle": "2025-10-19T23:43:53.038056Z",
     "shell.execute_reply": "2025-10-19T23:43:53.037392Z"
    },
    "id": "753776c2",
    "outputId": "517c30c1-14a1-4de2-cb9b-543b8fba3d76",
    "papermill": {
     "duration": 0.038362,
     "end_time": "2025-10-19T23:43:53.039154",
     "exception": false,
     "start_time": "2025-10-19T23:43:53.000792",
     "status": "completed"
    },
    "tags": []
   },
   "outputs": [
    {
     "data": {
      "text/html": [
       "<div>\n",
       "<style scoped>\n",
       "    .dataframe tbody tr th:only-of-type {\n",
       "        vertical-align: middle;\n",
       "    }\n",
       "\n",
       "    .dataframe tbody tr th {\n",
       "        vertical-align: top;\n",
       "    }\n",
       "\n",
       "    .dataframe thead th {\n",
       "        text-align: right;\n",
       "    }\n",
       "</style>\n",
       "<table border=\"1\" class=\"dataframe\">\n",
       "  <thead>\n",
       "    <tr style=\"text-align: right;\">\n",
       "      <th></th>\n",
       "      <th>id</th>\n",
       "      <th>category</th>\n",
       "      <th>poet_name</th>\n",
       "      <th>poem_title</th>\n",
       "      <th>poem_text</th>\n",
       "    </tr>\n",
       "  </thead>\n",
       "  <tbody>\n",
       "    <tr>\n",
       "      <th>0</th>\n",
       "      <td>0</td>\n",
       "      <td>الإمارات</td>\n",
       "      <td>خلفان بن مصبح</td>\n",
       "      <td>بدت تختال في حُلل الجمالِ</td>\n",
       "      <td>بدت تختال في حُلل الجمالِ\\nوجادت بالزيارة والو...</td>\n",
       "    </tr>\n",
       "    <tr>\n",
       "      <th>1</th>\n",
       "      <td>1</td>\n",
       "      <td>الإمارات</td>\n",
       "      <td>خلفان بن مصبح</td>\n",
       "      <td>يا طائر الشعر القرير</td>\n",
       "      <td>يا طائر الشعر القرير\\nيا وحي إلهام الصدور\\nأسع...</td>\n",
       "    </tr>\n",
       "    <tr>\n",
       "      <th>2</th>\n",
       "      <td>2</td>\n",
       "      <td>الإمارات</td>\n",
       "      <td>خلفان بن مصبح</td>\n",
       "      <td>بنت حجرات أرى من عجب</td>\n",
       "      <td>بنت حجرات أرى من عجب\\nأن أرى فيك جمال العرب\\nد...</td>\n",
       "    </tr>\n",
       "    <tr>\n",
       "      <th>3</th>\n",
       "      <td>3</td>\n",
       "      <td>الإمارات</td>\n",
       "      <td>خلفان بن مصبح</td>\n",
       "      <td>هذا الربيع بنور الحسن وافانا</td>\n",
       "      <td>هذا الربيع بنور الحسن وافانا\\nوقد كسا الأرض با...</td>\n",
       "    </tr>\n",
       "    <tr>\n",
       "      <th>4</th>\n",
       "      <td>4</td>\n",
       "      <td>الإمارات</td>\n",
       "      <td>خلفان بن مصبح</td>\n",
       "      <td>روحي فداك وإن مُنحتُ صدوداً</td>\n",
       "      <td>روحي فداك وإن مُنحتُ صدوداً\\nأخفاك ما بي أم أط...</td>\n",
       "    </tr>\n",
       "    <tr>\n",
       "      <th>16765</th>\n",
       "      <td>16939</td>\n",
       "      <td>العصر العباسي</td>\n",
       "      <td>أبو العلاء المعري</td>\n",
       "      <td>سكنت إلى الدنيا فلما عرفتها</td>\n",
       "      <td>سَكَنتُ إِلى الدُنيا فَلَمّا عَرَفتُها\\nتَمَنّ...</td>\n",
       "    </tr>\n",
       "    <tr>\n",
       "      <th>11400</th>\n",
       "      <td>11574</td>\n",
       "      <td>مصر</td>\n",
       "      <td>مصطفى صادق الرافعي</td>\n",
       "      <td>آفة العالم أن لا يعملا</td>\n",
       "      <td>آفةُ العالمِ أن لا يعملا\\nوشقا الجاهلِ أن لا ي...</td>\n",
       "    </tr>\n",
       "    <tr>\n",
       "      <th>37613</th>\n",
       "      <td>37787</td>\n",
       "      <td>عصر المخضرمون</td>\n",
       "      <td>علي بن أبي طالب</td>\n",
       "      <td>أبى الله إلا أن صفين دارنا</td>\n",
       "      <td>أَبى اللَهُ إِلّا أَنَّ صِفِّينَ دارُنا\\nوَدار...</td>\n",
       "    </tr>\n",
       "    <tr>\n",
       "      <th>13700</th>\n",
       "      <td>13874</td>\n",
       "      <td>العصر الجاهلي</td>\n",
       "      <td>الخنساء</td>\n",
       "      <td>يا عين جودي بالدموع</td>\n",
       "      <td>يا عَينِ جودي بِالدُموعِ \\nالمُستَهِلّاتِ السَ...</td>\n",
       "    </tr>\n",
       "    <tr>\n",
       "      <th>3272</th>\n",
       "      <td>3379</td>\n",
       "      <td>اليمن</td>\n",
       "      <td>محمد الشوكاني</td>\n",
       "      <td>كأن وجه النهر إذ حفت به</td>\n",
       "      <td>كَأَنَّ وَجْهَ النَّهْرِ إذْ حَفَّتْ بِهِ\\nأَش...</td>\n",
       "    </tr>\n",
       "    <tr>\n",
       "      <th>54939</th>\n",
       "      <td>55113</td>\n",
       "      <td>العصر المملوكي</td>\n",
       "      <td>ابن زمرك</td>\n",
       "      <td>اسقني بنت الدوالي</td>\n",
       "      <td>اسقني بنت الدوالي\\nإنها نعم الدوالي\\nسقّني سر ...</td>\n",
       "    </tr>\n",
       "    <tr>\n",
       "      <th>54940</th>\n",
       "      <td>55114</td>\n",
       "      <td>العصر المملوكي</td>\n",
       "      <td>ابن زمرك</td>\n",
       "      <td>الإلاه يحمد ويشكر</td>\n",
       "      <td>الإلاه يحمد ويشكر\\nالمطر من اهن لشكر\\nوالإلاه ...</td>\n",
       "    </tr>\n",
       "    <tr>\n",
       "      <th>54941</th>\n",
       "      <td>55115</td>\n",
       "      <td>العصر المملوكي</td>\n",
       "      <td>ابن زمرك</td>\n",
       "      <td>ألني أبلغ من العمل</td>\n",
       "      <td>ألنيّ أبلغ من العمل\\nاللّه يبلّغك الأمل\\nنزيه ...</td>\n",
       "    </tr>\n",
       "    <tr>\n",
       "      <th>54942</th>\n",
       "      <td>55116</td>\n",
       "      <td>العصر المملوكي</td>\n",
       "      <td>ابن زمرك</td>\n",
       "      <td>مهرجان هوذا اليوم للإنسان</td>\n",
       "      <td>مهرجان هوذا اليوم للإنسان\\nألنزّيه والحسن والإ...</td>\n",
       "    </tr>\n",
       "    <tr>\n",
       "      <th>54943</th>\n",
       "      <td>55117</td>\n",
       "      <td>العصر المملوكي</td>\n",
       "      <td>ابن زمرك</td>\n",
       "      <td>الأمير بدر المواكب</td>\n",
       "      <td>الأمير بدر المواكب\\nزدل ناجم فالكواكب\\nالسعود ...</td>\n",
       "    </tr>\n",
       "  </tbody>\n",
       "</table>\n",
       "</div>"
      ],
      "text/plain": [
       "          id        category           poet_name  \\\n",
       "0          0        الإمارات       خلفان بن مصبح   \n",
       "1          1        الإمارات       خلفان بن مصبح   \n",
       "2          2        الإمارات       خلفان بن مصبح   \n",
       "3          3        الإمارات       خلفان بن مصبح   \n",
       "4          4        الإمارات       خلفان بن مصبح   \n",
       "16765  16939   العصر العباسي   أبو العلاء المعري   \n",
       "11400  11574             مصر  مصطفى صادق الرافعي   \n",
       "37613  37787   عصر المخضرمون     علي بن أبي طالب   \n",
       "13700  13874   العصر الجاهلي             الخنساء   \n",
       "3272    3379           اليمن       محمد الشوكاني   \n",
       "54939  55113  العصر المملوكي            ابن زمرك   \n",
       "54940  55114  العصر المملوكي            ابن زمرك   \n",
       "54941  55115  العصر المملوكي            ابن زمرك   \n",
       "54942  55116  العصر المملوكي            ابن زمرك   \n",
       "54943  55117  العصر المملوكي            ابن زمرك   \n",
       "\n",
       "                         poem_title  \\\n",
       "0         بدت تختال في حُلل الجمالِ   \n",
       "1              يا طائر الشعر القرير   \n",
       "2              بنت حجرات أرى من عجب   \n",
       "3      هذا الربيع بنور الحسن وافانا   \n",
       "4       روحي فداك وإن مُنحتُ صدوداً   \n",
       "16765   سكنت إلى الدنيا فلما عرفتها   \n",
       "11400        آفة العالم أن لا يعملا   \n",
       "37613    أبى الله إلا أن صفين دارنا   \n",
       "13700           يا عين جودي بالدموع   \n",
       "3272        كأن وجه النهر إذ حفت به   \n",
       "54939             اسقني بنت الدوالي   \n",
       "54940             الإلاه يحمد ويشكر   \n",
       "54941            ألني أبلغ من العمل   \n",
       "54942     مهرجان هوذا اليوم للإنسان   \n",
       "54943            الأمير بدر المواكب   \n",
       "\n",
       "                                               poem_text  \n",
       "0      بدت تختال في حُلل الجمالِ\\nوجادت بالزيارة والو...  \n",
       "1      يا طائر الشعر القرير\\nيا وحي إلهام الصدور\\nأسع...  \n",
       "2      بنت حجرات أرى من عجب\\nأن أرى فيك جمال العرب\\nد...  \n",
       "3      هذا الربيع بنور الحسن وافانا\\nوقد كسا الأرض با...  \n",
       "4      روحي فداك وإن مُنحتُ صدوداً\\nأخفاك ما بي أم أط...  \n",
       "16765  سَكَنتُ إِلى الدُنيا فَلَمّا عَرَفتُها\\nتَمَنّ...  \n",
       "11400  آفةُ العالمِ أن لا يعملا\\nوشقا الجاهلِ أن لا ي...  \n",
       "37613  أَبى اللَهُ إِلّا أَنَّ صِفِّينَ دارُنا\\nوَدار...  \n",
       "13700  يا عَينِ جودي بِالدُموعِ \\nالمُستَهِلّاتِ السَ...  \n",
       "3272   كَأَنَّ وَجْهَ النَّهْرِ إذْ حَفَّتْ بِهِ\\nأَش...  \n",
       "54939  اسقني بنت الدوالي\\nإنها نعم الدوالي\\nسقّني سر ...  \n",
       "54940  الإلاه يحمد ويشكر\\nالمطر من اهن لشكر\\nوالإلاه ...  \n",
       "54941  ألنيّ أبلغ من العمل\\nاللّه يبلّغك الأمل\\nنزيه ...  \n",
       "54942  مهرجان هوذا اليوم للإنسان\\nألنزّيه والحسن والإ...  \n",
       "54943  الأمير بدر المواكب\\nزدل ناجم فالكواكب\\nالسعود ...  "
      ]
     },
     "execution_count": 23,
     "metadata": {},
     "output_type": "execute_result"
    }
   ],
   "source": [
    "pd.concat([df.head(), df.sample(5), df.tail()])"
   ]
  },
  {
   "cell_type": "code",
   "execution_count": 24,
   "id": "5a6f41a5",
   "metadata": {
    "execution": {
     "iopub.execute_input": "2025-10-19T23:43:53.060365Z",
     "iopub.status.busy": "2025-10-19T23:43:53.060171Z",
     "iopub.status.idle": "2025-10-19T23:43:53.088520Z",
     "shell.execute_reply": "2025-10-19T23:43:53.087886Z"
    },
    "id": "2bfe3195",
    "outputId": "013a5ce9-d6d4-4b21-e30c-9b7c45d8727c",
    "papermill": {
     "duration": 0.040313,
     "end_time": "2025-10-19T23:43:53.089725",
     "exception": false,
     "start_time": "2025-10-19T23:43:53.049412",
     "status": "completed"
    },
    "tags": []
   },
   "outputs": [
    {
     "name": "stdout",
     "output_type": "stream",
     "text": [
      "<class 'pandas.core.frame.DataFrame'>\n",
      "RangeIndex: 54944 entries, 0 to 54943\n",
      "Data columns (total 5 columns):\n",
      " #   Column      Non-Null Count  Dtype \n",
      "---  ------      --------------  ----- \n",
      " 0   id          54944 non-null  int64 \n",
      " 1   category    54944 non-null  object\n",
      " 2   poet_name   54944 non-null  object\n",
      " 3   poem_title  54944 non-null  object\n",
      " 4   poem_text   54944 non-null  object\n",
      "dtypes: int64(1), object(4)\n",
      "memory usage: 2.1+ MB\n"
     ]
    }
   ],
   "source": [
    "df.info()"
   ]
  },
  {
   "cell_type": "code",
   "execution_count": 25,
   "id": "54e05a76",
   "metadata": {
    "execution": {
     "iopub.execute_input": "2025-10-19T23:43:53.112001Z",
     "iopub.status.busy": "2025-10-19T23:43:53.111580Z",
     "iopub.status.idle": "2025-10-19T23:43:53.248531Z",
     "shell.execute_reply": "2025-10-19T23:43:53.247607Z"
    },
    "id": "1874a310",
    "outputId": "d0617c1e-e1e7-4623-d45f-3f0a783d709a",
    "papermill": {
     "duration": 0.148917,
     "end_time": "2025-10-19T23:43:53.249806",
     "exception": false,
     "start_time": "2025-10-19T23:43:53.100889",
     "status": "completed"
    },
    "tags": []
   },
   "outputs": [
    {
     "data": {
      "text/html": [
       "<div>\n",
       "<style scoped>\n",
       "    .dataframe tbody tr th:only-of-type {\n",
       "        vertical-align: middle;\n",
       "    }\n",
       "\n",
       "    .dataframe tbody tr th {\n",
       "        vertical-align: top;\n",
       "    }\n",
       "\n",
       "    .dataframe thead th {\n",
       "        text-align: right;\n",
       "    }\n",
       "</style>\n",
       "<table border=\"1\" class=\"dataframe\">\n",
       "  <thead>\n",
       "    <tr style=\"text-align: right;\">\n",
       "      <th></th>\n",
       "      <th>id</th>\n",
       "      <th>category</th>\n",
       "      <th>poet_name</th>\n",
       "      <th>poem_title</th>\n",
       "      <th>poem_text</th>\n",
       "    </tr>\n",
       "  </thead>\n",
       "  <tbody>\n",
       "    <tr>\n",
       "      <th>count</th>\n",
       "      <td>54944.000000</td>\n",
       "      <td>54944</td>\n",
       "      <td>54944</td>\n",
       "      <td>54944</td>\n",
       "      <td>54944</td>\n",
       "    </tr>\n",
       "    <tr>\n",
       "      <th>unique</th>\n",
       "      <td>NaN</td>\n",
       "      <td>28</td>\n",
       "      <td>538</td>\n",
       "      <td>54300</td>\n",
       "      <td>54767</td>\n",
       "    </tr>\n",
       "    <tr>\n",
       "      <th>top</th>\n",
       "      <td>NaN</td>\n",
       "      <td>العصر العباسي</td>\n",
       "      <td>ابن نباته المصري</td>\n",
       "      <td>إذا المشكلات تصدين لي</td>\n",
       "      <td>أنتَ في حِلٍّ وَفي سَعَةٍ\\nمِن دَمِي يَا مَن ت...</td>\n",
       "    </tr>\n",
       "    <tr>\n",
       "      <th>freq</th>\n",
       "      <td>NaN</td>\n",
       "      <td>10116</td>\n",
       "      <td>1726</td>\n",
       "      <td>4</td>\n",
       "      <td>2</td>\n",
       "    </tr>\n",
       "    <tr>\n",
       "      <th>mean</th>\n",
       "      <td>27636.214673</td>\n",
       "      <td>NaN</td>\n",
       "      <td>NaN</td>\n",
       "      <td>NaN</td>\n",
       "      <td>NaN</td>\n",
       "    </tr>\n",
       "    <tr>\n",
       "      <th>std</th>\n",
       "      <td>15875.618346</td>\n",
       "      <td>NaN</td>\n",
       "      <td>NaN</td>\n",
       "      <td>NaN</td>\n",
       "      <td>NaN</td>\n",
       "    </tr>\n",
       "    <tr>\n",
       "      <th>min</th>\n",
       "      <td>0.000000</td>\n",
       "      <td>NaN</td>\n",
       "      <td>NaN</td>\n",
       "      <td>NaN</td>\n",
       "      <td>NaN</td>\n",
       "    </tr>\n",
       "    <tr>\n",
       "      <th>25%</th>\n",
       "      <td>13909.750000</td>\n",
       "      <td>NaN</td>\n",
       "      <td>NaN</td>\n",
       "      <td>NaN</td>\n",
       "      <td>NaN</td>\n",
       "    </tr>\n",
       "    <tr>\n",
       "      <th>50%</th>\n",
       "      <td>27645.500000</td>\n",
       "      <td>NaN</td>\n",
       "      <td>NaN</td>\n",
       "      <td>NaN</td>\n",
       "      <td>NaN</td>\n",
       "    </tr>\n",
       "    <tr>\n",
       "      <th>75%</th>\n",
       "      <td>41381.250000</td>\n",
       "      <td>NaN</td>\n",
       "      <td>NaN</td>\n",
       "      <td>NaN</td>\n",
       "      <td>NaN</td>\n",
       "    </tr>\n",
       "    <tr>\n",
       "      <th>max</th>\n",
       "      <td>55117.000000</td>\n",
       "      <td>NaN</td>\n",
       "      <td>NaN</td>\n",
       "      <td>NaN</td>\n",
       "      <td>NaN</td>\n",
       "    </tr>\n",
       "  </tbody>\n",
       "</table>\n",
       "</div>"
      ],
      "text/plain": [
       "                  id       category         poet_name             poem_title  \\\n",
       "count   54944.000000          54944             54944                  54944   \n",
       "unique           NaN             28               538                  54300   \n",
       "top              NaN  العصر العباسي  ابن نباته المصري  إذا المشكلات تصدين لي   \n",
       "freq             NaN          10116              1726                      4   \n",
       "mean    27636.214673            NaN               NaN                    NaN   \n",
       "std     15875.618346            NaN               NaN                    NaN   \n",
       "min         0.000000            NaN               NaN                    NaN   \n",
       "25%     13909.750000            NaN               NaN                    NaN   \n",
       "50%     27645.500000            NaN               NaN                    NaN   \n",
       "75%     41381.250000            NaN               NaN                    NaN   \n",
       "max     55117.000000            NaN               NaN                    NaN   \n",
       "\n",
       "                                                poem_text  \n",
       "count                                               54944  \n",
       "unique                                              54767  \n",
       "top     أنتَ في حِلٍّ وَفي سَعَةٍ\\nمِن دَمِي يَا مَن ت...  \n",
       "freq                                                    2  \n",
       "mean                                                  NaN  \n",
       "std                                                   NaN  \n",
       "min                                                   NaN  \n",
       "25%                                                   NaN  \n",
       "50%                                                   NaN  \n",
       "75%                                                   NaN  \n",
       "max                                                   NaN  "
      ]
     },
     "execution_count": 25,
     "metadata": {},
     "output_type": "execute_result"
    }
   ],
   "source": [
    "df.describe(include='all')"
   ]
  },
  {
   "cell_type": "markdown",
   "id": "a0c5e186",
   "metadata": {
    "id": "25c72ada",
    "papermill": {
     "duration": 0.010547,
     "end_time": "2025-10-19T23:43:53.271731",
     "exception": false,
     "start_time": "2025-10-19T23:43:53.261184",
     "status": "completed"
    },
    "tags": []
   },
   "source": [
    "# Data Preprocessing"
   ]
  },
  {
   "cell_type": "code",
   "execution_count": 26,
   "id": "50726dce",
   "metadata": {
    "execution": {
     "iopub.execute_input": "2025-10-19T23:43:53.294784Z",
     "iopub.status.busy": "2025-10-19T23:43:53.294522Z",
     "iopub.status.idle": "2025-10-19T23:43:53.303411Z",
     "shell.execute_reply": "2025-10-19T23:43:53.302599Z"
    },
    "id": "a409288a",
    "papermill": {
     "duration": 0.021723,
     "end_time": "2025-10-19T23:43:53.304469",
     "exception": false,
     "start_time": "2025-10-19T23:43:53.282746",
     "status": "completed"
    },
    "tags": []
   },
   "outputs": [],
   "source": [
    "def clean_poem_text(txt):\n",
    "    # Normalize Arabic forms to standard letters\n",
    "    arabic_normalization = {\n",
    "        \"أ\": \"ا\",\n",
    "        \"إ\": \"ا\",\n",
    "        \"آ\": \"ا\",\n",
    "        \"ؤ\": \"و\",\n",
    "        \"ئ\": \"ي\",\n",
    "        \"ى\": \"ي\",\n",
    "        \"ة\": \"ه\",\n",
    "        \"ۀ\": \"ه\",\n",
    "        \"گ\": \"ك\",\n",
    "        \"پ\": \"ب\",\n",
    "        \"چ\": \"ج\",\n",
    "        \"ژ\": \"ز\",\n",
    "        \"ی\": \"ي\",\n",
    "    }\n",
    "\n",
    "    for k, v in arabic_normalization.items():\n",
    "        txt = txt.replace(k, v)\n",
    "\n",
    "    # Remove Tatweel (ـ)\n",
    "    txt = txt.replace(\"ـ\", \"\")\n",
    "\n",
    "    # Remove diacritics (tashkeel)\n",
    "    txt = re.sub(r'[\\u064B-\\u0652]', '', txt)\n",
    "\n",
    "    # Remove English letters and digits\n",
    "    txt = re.sub(r'[A-Za-z0-9]', '', txt)\n",
    "\n",
    "    # Remove non-Arabic punctuation except (، ؛ ؟)\n",
    "    txt = re.sub(r'[^\\u0600-\\u06FF\\n،؛؟ ]', '', txt)\n",
    "\n",
    "    txt = re.sub(r'([،؛؟])', r' \\1 ', txt)\n",
    "\n",
    "    # Reduce duplicated alif\n",
    "    txt = re.sub(r'[ا]{2,}', 'ا', txt)\n",
    "\n",
    "    # ---- Decompose known prefixes ----\n",
    "    prefixes = [\n",
    "        \"وال\", \"فال\", \"كال\", \"بال\", \"لل\",\n",
    "        \"ال\", \"و\", \"ف\", \"ب\", \"ك\", \"ل\", \"س\"\n",
    "    ]\n",
    "\n",
    "    for pre in sorted(prefixes, key=len, reverse=True):\n",
    "        txt = re.sub(rf'\\b({pre})(?=[\\u0621-\\u064A])', rf'\\1 {CONCAT_TOKEN} ', txt)\n",
    "\n",
    "    # ---- Decompose known suffixes ----\n",
    "    suffixes = [\n",
    "        \"كما\", \"كم\", \"كن\", \"نا\", \"هم\", \"هن\", \"ها\", \"هو\",\n",
    "        \"ك\", \"ي\", \"ا\", \"و\"\n",
    "    ]\n",
    "\n",
    "    for suf in sorted(suffixes, key=len, reverse=True):\n",
    "        txt = re.sub(rf'([\\u0621-\\u064A]+)({suf})\\b', rf'\\1 {CONCAT_TOKEN} \\2', txt)\n",
    "\n",
    "    # ---- Handle mid-word merges (like رعاءابو / هواءتالف / ثواءمكان) ----\n",
    "    # Detect if two Arabic word parts (each ≥3 letters) are glued together\n",
    "    txt = re.sub(\n",
    "        r'([\\u0621-\\u064A]{3,})(?=[اأإآببتثجحخدذرزسشصضطظعغفقكلمنهوية]{3,})',\n",
    "        rf'\\1 {CONCAT_TOKEN} ',\n",
    "        txt\n",
    "    )\n",
    "\n",
    "    # Extra decomposition (for special double-l patterns)\n",
    "    txt = re.sub(r'\\b(ال)(\\w+)', r'\\1' + f' {CONCAT_TOKEN} ' + '\\2', txt)\n",
    "    txt = re.sub(r'\\b(لل)(\\w+)', r'\\1' + f' {CONCAT_TOKEN} ' + '\\2', txt)\n",
    "    txt = re.sub(r'(\\w+)(ك|هم|نا|ها|ه|ي|كم|كن)\\b', r'\\1' + f' {CONCAT_TOKEN} ' + '\\2', txt)\n",
    "\n",
    "    # ---- Clean invisible / control chars ----\n",
    "    txt = re.sub(r'[\\u0000-\\u0008\\u000B-\\u000C\\u000E-\\u001F\\u007F]', ' ', txt)\n",
    "    txt = re.sub(r'[\\t]', ' ', txt)\n",
    "    txt = re.sub(r'[\\n]{2,}', '\\n', txt)\n",
    "    txt = re.sub(r'[\\n]', ' \\n ', txt)\n",
    "    txt = re.sub(r'[ ]{2,}', ' ', txt)\n",
    "\n",
    "    return txt.strip()"
   ]
  },
  {
   "cell_type": "code",
   "execution_count": 27,
   "id": "ed56a5d7",
   "metadata": {
    "execution": {
     "iopub.execute_input": "2025-10-19T23:43:53.327003Z",
     "iopub.status.busy": "2025-10-19T23:43:53.326420Z",
     "iopub.status.idle": "2025-10-19T23:43:53.331058Z",
     "shell.execute_reply": "2025-10-19T23:43:53.330315Z"
    },
    "id": "M1N7wFQihOnu",
    "papermill": {
     "duration": 0.017141,
     "end_time": "2025-10-19T23:43:53.332194",
     "exception": false,
     "start_time": "2025-10-19T23:43:53.315053",
     "status": "completed"
    },
    "tags": []
   },
   "outputs": [],
   "source": [
    "def compose_poem_text(txt):\n",
    "  txt = txt.replace(f' {CONCAT_TOKEN} ', '')\n",
    "  txt = txt.replace(f'{CONCAT_TOKEN} ', '')\n",
    "  txt = txt.replace(f'{CONCAT_TOKEN}', '')\n",
    "  txt = txt.replace(f'{START_TOKEN}', '')\n",
    "  txt = txt.replace(f'{CLS_TOKEN}', '')\n",
    "\n",
    "  return txt.strip()"
   ]
  },
  {
   "cell_type": "code",
   "execution_count": 28,
   "id": "2a5c1159",
   "metadata": {
    "execution": {
     "iopub.execute_input": "2025-10-19T23:43:53.354522Z",
     "iopub.status.busy": "2025-10-19T23:43:53.354292Z",
     "iopub.status.idle": "2025-10-19T23:44:57.627851Z",
     "shell.execute_reply": "2025-10-19T23:44:57.626995Z"
    },
    "id": "ae3abe41",
    "papermill": {
     "duration": 64.286175,
     "end_time": "2025-10-19T23:44:57.629358",
     "exception": false,
     "start_time": "2025-10-19T23:43:53.343183",
     "status": "completed"
    },
    "tags": []
   },
   "outputs": [],
   "source": [
    "df['poem_text'] = df['poem_text'].apply(clean_poem_text)"
   ]
  },
  {
   "cell_type": "code",
   "execution_count": 29,
   "id": "2417a12a",
   "metadata": {
    "execution": {
     "iopub.execute_input": "2025-10-19T23:44:57.652511Z",
     "iopub.status.busy": "2025-10-19T23:44:57.652052Z",
     "iopub.status.idle": "2025-10-19T23:45:01.938672Z",
     "shell.execute_reply": "2025-10-19T23:45:01.938088Z"
    },
    "id": "057bbb56",
    "papermill": {
     "duration": 4.299137,
     "end_time": "2025-10-19T23:45:01.940004",
     "exception": false,
     "start_time": "2025-10-19T23:44:57.640867",
     "status": "completed"
    },
    "tags": []
   },
   "outputs": [],
   "source": [
    "df['category'] = df['category'].apply(clean_poem_text)"
   ]
  },
  {
   "cell_type": "markdown",
   "id": "c2cca67a",
   "metadata": {
    "id": "3b4252f9",
    "papermill": {
     "duration": 0.010407,
     "end_time": "2025-10-19T23:45:01.961248",
     "exception": false,
     "start_time": "2025-10-19T23:45:01.950841",
     "status": "completed"
    },
    "tags": []
   },
   "source": [
    "# Data Analysis"
   ]
  },
  {
   "cell_type": "code",
   "execution_count": 30,
   "id": "f941e1d7",
   "metadata": {
    "execution": {
     "iopub.execute_input": "2025-10-19T23:45:01.983773Z",
     "iopub.status.busy": "2025-10-19T23:45:01.983223Z",
     "iopub.status.idle": "2025-10-19T23:45:02.129250Z",
     "shell.execute_reply": "2025-10-19T23:45:02.128702Z"
    },
    "id": "9c5b0fdd",
    "papermill": {
     "duration": 0.158782,
     "end_time": "2025-10-19T23:45:02.130455",
     "exception": false,
     "start_time": "2025-10-19T23:45:01.971673",
     "status": "completed"
    },
    "tags": []
   },
   "outputs": [],
   "source": [
    "df['poem_n_lines'] = df['poem_text'].apply(count_n_lines)"
   ]
  },
  {
   "cell_type": "code",
   "execution_count": 31,
   "id": "de73655b",
   "metadata": {
    "execution": {
     "iopub.execute_input": "2025-10-19T23:45:02.153771Z",
     "iopub.status.busy": "2025-10-19T23:45:02.153241Z",
     "iopub.status.idle": "2025-10-19T23:45:02.182027Z",
     "shell.execute_reply": "2025-10-19T23:45:02.181527Z"
    },
    "id": "d6f2f4fe",
    "papermill": {
     "duration": 0.041378,
     "end_time": "2025-10-19T23:45:02.183051",
     "exception": false,
     "start_time": "2025-10-19T23:45:02.141673",
     "status": "completed"
    },
    "tags": []
   },
   "outputs": [],
   "source": [
    "df['poem_n_chars'] = df['poem_text'].apply(count_n_chars)"
   ]
  },
  {
   "cell_type": "code",
   "execution_count": 32,
   "id": "3cb115d1",
   "metadata": {
    "execution": {
     "iopub.execute_input": "2025-10-19T23:45:02.205710Z",
     "iopub.status.busy": "2025-10-19T23:45:02.205265Z",
     "iopub.status.idle": "2025-10-19T23:45:03.087385Z",
     "shell.execute_reply": "2025-10-19T23:45:03.086708Z"
    },
    "id": "3b961196",
    "papermill": {
     "duration": 0.894599,
     "end_time": "2025-10-19T23:45:03.088701",
     "exception": false,
     "start_time": "2025-10-19T23:45:02.194102",
     "status": "completed"
    },
    "tags": []
   },
   "outputs": [],
   "source": [
    "df['poem_n_words'] = df['poem_text'].apply(count_n_words)"
   ]
  },
  {
   "cell_type": "markdown",
   "id": "4c44148f",
   "metadata": {
    "id": "92aa70c2",
    "papermill": {
     "duration": 0.010387,
     "end_time": "2025-10-19T23:45:03.111575",
     "exception": false,
     "start_time": "2025-10-19T23:45:03.101188",
     "status": "completed"
    },
    "tags": []
   },
   "source": [
    "# Data Visualization"
   ]
  },
  {
   "cell_type": "code",
   "execution_count": 33,
   "id": "75efa8f5",
   "metadata": {
    "execution": {
     "iopub.execute_input": "2025-10-19T23:45:03.134013Z",
     "iopub.status.busy": "2025-10-19T23:45:03.133499Z",
     "iopub.status.idle": "2025-10-19T23:45:03.137197Z",
     "shell.execute_reply": "2025-10-19T23:45:03.136502Z"
    },
    "id": "453f4887",
    "papermill": {
     "duration": 0.016206,
     "end_time": "2025-10-19T23:45:03.138326",
     "exception": false,
     "start_time": "2025-10-19T23:45:03.122120",
     "status": "completed"
    },
    "tags": []
   },
   "outputs": [],
   "source": [
    "plt.style.use(plt.style.available[12])"
   ]
  },
  {
   "cell_type": "code",
   "execution_count": 34,
   "id": "a14d1176",
   "metadata": {
    "execution": {
     "iopub.execute_input": "2025-10-19T23:45:03.160198Z",
     "iopub.status.busy": "2025-10-19T23:45:03.159905Z",
     "iopub.status.idle": "2025-10-19T23:45:03.897869Z",
     "shell.execute_reply": "2025-10-19T23:45:03.897153Z"
    },
    "id": "730f128f",
    "outputId": "32c247e0-90ed-46f0-e407-53efb31741ae",
    "papermill": {
     "duration": 0.75017,
     "end_time": "2025-10-19T23:45:03.899066",
     "exception": false,
     "start_time": "2025-10-19T23:45:03.148896",
     "status": "completed"
    },
    "tags": []
   },
   "outputs": [
    {
     "data": {
      "text/plain": [
       "<Axes: title={'center': 'Distribution of Number of Lines per Poem'}, xlabel='poem_n_lines', ylabel='Count'>"
      ]
     },
     "execution_count": 34,
     "metadata": {},
     "output_type": "execute_result"
    },
    {
     "data": {
      "image/png": "[encoded data removed]",
      "text/plain": [
       "<Figure size 800x550 with 1 Axes>"
      ]
     },
     "metadata": {},
     "output_type": "display_data"
    }
   ],
   "source": [
    "plt.title(\"Distribution of Number of Lines per Poem\")\n",
    "sns.histplot(data=df, x='poem_n_lines', bins=120, kde=True)"
   ]
  },
  {
   "cell_type": "code",
   "execution_count": 35,
   "id": "658c6351",
   "metadata": {
    "execution": {
     "iopub.execute_input": "2025-10-19T23:45:03.923763Z",
     "iopub.status.busy": "2025-10-19T23:45:03.923280Z",
     "iopub.status.idle": "2025-10-19T23:45:04.521930Z",
     "shell.execute_reply": "2025-10-19T23:45:04.521245Z"
    },
    "id": "0972287b",
    "outputId": "3094a952-1e8e-44b9-8f36-ba18c50a208e",
    "papermill": {
     "duration": 0.611785,
     "end_time": "2025-10-19T23:45:04.523256",
     "exception": false,
     "start_time": "2025-10-19T23:45:03.911471",
     "status": "completed"
    },
    "tags": []
   },
   "outputs": [
    {
     "data": {
      "text/plain": [
       "<Axes: title={'center': 'Distribution of Number of Chars per Poem'}, xlabel='poem_n_chars', ylabel='Count'>"
      ]
     },
     "execution_count": 35,
     "metadata": {},
     "output_type": "execute_result"
    },
    {
     "data": {
      "image/png": "[encoded data removed]",
      "text/plain": [
       "<Figure size 800x550 with 1 Axes>"
      ]
     },
     "metadata": {},
     "output_type": "display_data"
    }
   ],
   "source": [
    "plt.title(\"Distribution of Number of Chars per Poem\")\n",
    "sns.histplot(data=df, x='poem_n_chars', bins=120, kde=True)"
   ]
  },
  {
   "cell_type": "code",
   "execution_count": 36,
   "id": "7fc92331",
   "metadata": {
    "execution": {
     "iopub.execute_input": "2025-10-19T23:45:04.551289Z",
     "iopub.status.busy": "2025-10-19T23:45:04.550581Z",
     "iopub.status.idle": "2025-10-19T23:45:05.129115Z",
     "shell.execute_reply": "2025-10-19T23:45:05.128260Z"
    },
    "id": "b706cb68",
    "outputId": "90f46c62-e2a9-4a49-dd02-89db474e6488",
    "papermill": {
     "duration": 0.593488,
     "end_time": "2025-10-19T23:45:05.130536",
     "exception": false,
     "start_time": "2025-10-19T23:45:04.537048",
     "status": "completed"
    },
    "tags": []
   },
   "outputs": [
    {
     "data": {
      "text/plain": [
       "<Axes: title={'center': 'Distribution of Number of Words per Poem'}, xlabel='poem_n_words', ylabel='Count'>"
      ]
     },
     "execution_count": 36,
     "metadata": {},
     "output_type": "execute_result"
    },
    {
     "data": {
      "image/png": "[encoded data removed]",
      "text/plain": [
       "<Figure size 800x550 with 1 Axes>"
      ]
     },
     "metadata": {},
     "output_type": "display_data"
    }
   ],
   "source": [
    "plt.title(\"Distribution of Number of Words per Poem\")\n",
    "sns.histplot(data=df, x='poem_n_words', bins=120, kde=True)"
   ]
  },
  {
   "cell_type": "code",
   "execution_count": 37,
   "id": "d1ad289e",
   "metadata": {
    "execution": {
     "iopub.execute_input": "2025-10-19T23:45:05.159166Z",
     "iopub.status.busy": "2025-10-19T23:45:05.158638Z",
     "iopub.status.idle": "2025-10-19T23:45:05.535113Z",
     "shell.execute_reply": "2025-10-19T23:45:05.534346Z"
    },
    "id": "c26dcf2c",
    "outputId": "cb35d87d-fdfe-4f73-966c-9cd494c6181c",
    "papermill": {
     "duration": 0.391438,
     "end_time": "2025-10-19T23:45:05.536619",
     "exception": false,
     "start_time": "2025-10-19T23:45:05.145181",
     "status": "completed"
    },
    "tags": []
   },
   "outputs": [
    {
     "name": "stderr",
     "output_type": "stream",
     "text": [
      "C:\\Users\\yosef\\AppData\\Local\\Temp\\ipykernel_3432\\1514475348.py:7: UserWarning: set_ticklabels() should only be used with a fixed number of ticks, i.e. after set_ticks() or using a FixedLocator.\n",
      "  ax.set_xticklabels(reshaped_labels, rotation=45)\n"
     ]
    },
    {
     "data": {
      "image/png": "[encoded data removed]",
      "text/plain": [
       "<Figure size 800x550 with 1 Axes>"
      ]
     },
     "metadata": {},
     "output_type": "display_data"
    }
   ],
   "source": [
    "plt.title(\"Number of Poems per Category\")\n",
    "ax = sns.countplot(data=df, x='category')\n",
    "plt.xticks(rotation=45)\n",
    "\n",
    "labels = [t.get_text() for t in ax.get_xticklabels()]\n",
    "reshaped_labels = [get_display(arabic_reshaper.reshape(l)) for l in labels]\n",
    "ax.set_xticklabels(reshaped_labels, rotation=45)\n",
    "\n",
    "plt.show()"
   ]
  },
  {
   "cell_type": "markdown",
   "id": "e78fb4a0",
   "metadata": {
    "id": "82516b5e",
    "papermill": {
     "duration": 0.014049,
     "end_time": "2025-10-19T23:45:05.565458",
     "exception": false,
     "start_time": "2025-10-19T23:45:05.551409",
     "status": "completed"
    },
    "tags": []
   },
   "source": [
    "# Tokenizer"
   ]
  },
  {
   "cell_type": "code",
   "execution_count": 48,
   "id": "2da38dd5",
   "metadata": {
    "execution": {
     "iopub.execute_input": "2025-10-19T23:45:05.593936Z",
     "iopub.status.busy": "2025-10-19T23:45:05.593714Z",
     "iopub.status.idle": "2025-10-19T23:45:17.365827Z",
     "shell.execute_reply": "2025-10-19T23:45:17.364942Z"
    },
    "id": "xp6GAWvDVIw9",
    "outputId": "4998775b-a1c6-4878-ea8a-87fdf01ad358",
    "papermill": {
     "duration": 11.787761,
     "end_time": "2025-10-19T23:45:17.367188",
     "exception": false,
     "start_time": "2025-10-19T23:45:05.579427",
     "status": "completed"
    },
    "tags": []
   },
   "outputs": [
    {
     "name": "stdout",
     "output_type": "stream",
     "text": [
      "Loaded existing tokenizer with 73776 tokens.\n"
     ]
    }
   ],
   "source": [
    "if os.path.exists(TOKENIZER_PATH):\n",
    "    tokenizer = read_pickle(TOKENIZER_PATH)\n",
    "    print(f\"Loaded existing tokenizer with {len(tokenizer.word_index)} tokens.\")\n",
    "\n",
    "else:\n",
    "    tokenizer = Tokenizer(\n",
    "        num_words=None,\n",
    "        filters='',\n",
    "        split=' ' ,\n",
    "        oov_token = OOV_TOKEN,\n",
    "        lower = False\n",
    "    )\n",
    "\n",
    "    tokenizer.fit_on_texts(tqdm.tqdm(df['poem_text'].tolist() + [START_TOKEN + ' ' + CONCAT_TOKEN + ' ' + CLS_TOKEN]))\n",
    "\n",
    "\n",
    "    write_pickle(TOKENIZER_PATH, tokenizer)\n",
    "\n",
    "    print(f\"Created new tokenizer with {len(tokenizer.word_index)} tokens.\")\n",
    "\n",
    "tokenizer_dict = tokenizer.word_index\n",
    "\n",
    "if START_TOKEN not in tokenizer_dict:\n",
    "    tokenizer_dict = {word: idx+1 for word, idx in tokenizer_dict.items()}\n",
    "\n",
    "write_json(TOKENS_DICT_PATH, tokenizer_dict)"
   ]
  },
  {
   "cell_type": "markdown",
   "id": "1cb99ee9",
   "metadata": {
    "id": "fhrd_2zOryWK",
    "papermill": {
     "duration": 0.017599,
     "end_time": "2025-10-19T23:45:17.404464",
     "exception": false,
     "start_time": "2025-10-19T23:45:17.386865",
     "status": "completed"
    },
    "tags": []
   },
   "source": [
    "# Data Scanner"
   ]
  },
  {
   "cell_type": "code",
   "execution_count": 39,
   "id": "3c8df6cf",
   "metadata": {
    "execution": {
     "iopub.execute_input": "2025-10-19T23:45:17.440946Z",
     "iopub.status.busy": "2025-10-19T23:45:17.440325Z",
     "iopub.status.idle": "2025-10-19T23:45:17.443968Z",
     "shell.execute_reply": "2025-10-19T23:45:17.443203Z"
    },
    "id": "Lh7_RcPMd3tq",
    "papermill": {
     "duration": 0.022845,
     "end_time": "2025-10-19T23:45:17.445139",
     "exception": false,
     "start_time": "2025-10-19T23:45:17.422294",
     "status": "completed"
    },
    "tags": []
   },
   "outputs": [],
   "source": [
    "scanned_windows_df = []"
   ]
  },
  {
   "cell_type": "code",
   "execution_count": 40,
   "id": "32b2169b",
   "metadata": {
    "execution": {
     "iopub.execute_input": "2025-10-19T23:45:17.481212Z",
     "iopub.status.busy": "2025-10-19T23:45:17.480838Z",
     "iopub.status.idle": "2025-10-19T23:45:17.485869Z",
     "shell.execute_reply": "2025-10-19T23:45:17.485133Z"
    },
    "id": "QjVTf_3isN2T",
    "papermill": {
     "duration": 0.024255,
     "end_time": "2025-10-19T23:45:17.487089",
     "exception": false,
     "start_time": "2025-10-19T23:45:17.462834",
     "status": "completed"
    },
    "tags": []
   },
   "outputs": [],
   "source": [
    "def scan(data_frame):\n",
    "\n",
    "  for idx, row in tqdm.tqdm(data_frame.iterrows(), total=data_frame.shape[0]):\n",
    "      poem_id = row['id']\n",
    "      poem_text = row['poem_text']\n",
    "\n",
    "      poem_words = poem_text.split(' ')\n",
    "\n",
    "      window_start_i = -1 * WINDOW_SIZE + 1\n",
    "\n",
    "      while window_start_i < len(poem_words):\n",
    "          window_end_i = window_start_i + WINDOW_SIZE\n",
    "\n",
    "          if window_end_i >= len(poem_words):\n",
    "              break\n",
    "\n",
    "          pos_start = max(0, window_start_i)\n",
    "\n",
    "          n_padds = min(0, window_start_i) * -1\n",
    "\n",
    "\n",
    "          scanned_windows_df.append(\n",
    "              {\n",
    "                  'poem_id': poem_id,\n",
    "                  'start_i': pos_start,\n",
    "                  'end_i': window_end_i,\n",
    "                  'n_padds': n_padds\n",
    "              }\n",
    "          )\n",
    "\n",
    "          window_start_i += 1"
   ]
  },
  {
   "cell_type": "code",
   "execution_count": 41,
   "id": "3347db31",
   "metadata": {
    "execution": {
     "iopub.execute_input": "2025-10-19T23:45:17.525447Z",
     "iopub.status.busy": "2025-10-19T23:45:17.525057Z",
     "iopub.status.idle": "2025-10-19T23:45:36.310305Z",
     "shell.execute_reply": "2025-10-19T23:45:36.309499Z"
    },
    "id": "jnwdVvSfbGeP",
    "outputId": "51f8610a-d71c-4590-c351-bdc94f228519",
    "papermill": {
     "duration": 18.806897,
     "end_time": "2025-10-19T23:45:36.311420",
     "exception": false,
     "start_time": "2025-10-19T23:45:17.504523",
     "status": "completed"
    },
    "tags": []
   },
   "outputs": [
    {
     "name": "stderr",
     "output_type": "stream",
     "text": [
      "100%|██████████| 54944/54944 [00:27<00:00, 2002.70it/s]\n"
     ]
    }
   ],
   "source": [
    "scan(df)"
   ]
  },
  {
   "cell_type": "code",
   "execution_count": 42,
   "id": "9b71af6c",
   "metadata": {
    "execution": {
     "iopub.execute_input": "2025-10-19T23:45:36.358861Z",
     "iopub.status.busy": "2025-10-19T23:45:36.358620Z",
     "iopub.status.idle": "2025-10-19T23:46:02.946417Z",
     "shell.execute_reply": "2025-10-19T23:46:02.945649Z"
    },
    "id": "k8pHnAUGu-M_",
    "outputId": "3c6fb0cb-2970-4b0b-a48c-1a7c2a285509",
    "papermill": {
     "duration": 26.61257,
     "end_time": "2025-10-19T23:46:02.947854",
     "exception": false,
     "start_time": "2025-10-19T23:45:36.335284",
     "status": "completed"
    },
    "tags": []
   },
   "outputs": [
    {
     "name": "stdout",
     "output_type": "stream",
     "text": [
      "Converting to DataFrame\n"
     ]
    }
   ],
   "source": [
    "print(\"Converting to DataFrame\")\n",
    "scanned_windows_df = pd.DataFrame(scanned_windows_df)"
   ]
  },
  {
   "cell_type": "code",
   "execution_count": 43,
   "id": "3ae70346",
   "metadata": {
    "execution": {
     "iopub.execute_input": "2025-10-19T23:46:02.996523Z",
     "iopub.status.busy": "2025-10-19T23:46:02.995762Z",
     "iopub.status.idle": "2025-10-19T23:46:03.007155Z",
     "shell.execute_reply": "2025-10-19T23:46:03.006281Z"
    },
    "id": "UgrgZtHPtjdr",
    "outputId": "bf865dd4-9a27-4b87-b0ee-be7be3008421",
    "papermill": {
     "duration": 0.036306,
     "end_time": "2025-10-19T23:46:03.008253",
     "exception": false,
     "start_time": "2025-10-19T23:46:02.971947",
     "status": "completed"
    },
    "tags": []
   },
   "outputs": [
    {
     "data": {
      "text/html": [
       "<div>\n",
       "<style scoped>\n",
       "    .dataframe tbody tr th:only-of-type {\n",
       "        vertical-align: middle;\n",
       "    }\n",
       "\n",
       "    .dataframe tbody tr th {\n",
       "        vertical-align: top;\n",
       "    }\n",
       "\n",
       "    .dataframe thead th {\n",
       "        text-align: right;\n",
       "    }\n",
       "</style>\n",
       "<table border=\"1\" class=\"dataframe\">\n",
       "  <thead>\n",
       "    <tr style=\"text-align: right;\">\n",
       "      <th></th>\n",
       "      <th>poem_id</th>\n",
       "      <th>start_i</th>\n",
       "      <th>end_i</th>\n",
       "      <th>n_padds</th>\n",
       "    </tr>\n",
       "  </thead>\n",
       "  <tbody>\n",
       "    <tr>\n",
       "      <th>0</th>\n",
       "      <td>0</td>\n",
       "      <td>0</td>\n",
       "      <td>1</td>\n",
       "      <td>63</td>\n",
       "    </tr>\n",
       "    <tr>\n",
       "      <th>1</th>\n",
       "      <td>0</td>\n",
       "      <td>0</td>\n",
       "      <td>2</td>\n",
       "      <td>62</td>\n",
       "    </tr>\n",
       "    <tr>\n",
       "      <th>2</th>\n",
       "      <td>0</td>\n",
       "      <td>0</td>\n",
       "      <td>3</td>\n",
       "      <td>61</td>\n",
       "    </tr>\n",
       "    <tr>\n",
       "      <th>3</th>\n",
       "      <td>0</td>\n",
       "      <td>0</td>\n",
       "      <td>4</td>\n",
       "      <td>60</td>\n",
       "    </tr>\n",
       "    <tr>\n",
       "      <th>4</th>\n",
       "      <td>0</td>\n",
       "      <td>0</td>\n",
       "      <td>5</td>\n",
       "      <td>59</td>\n",
       "    </tr>\n",
       "    <tr>\n",
       "      <th>...</th>\n",
       "      <td>...</td>\n",
       "      <td>...</td>\n",
       "      <td>...</td>\n",
       "      <td>...</td>\n",
       "    </tr>\n",
       "    <tr>\n",
       "      <th>22554931</th>\n",
       "      <td>55117</td>\n",
       "      <td>672</td>\n",
       "      <td>736</td>\n",
       "      <td>0</td>\n",
       "    </tr>\n",
       "    <tr>\n",
       "      <th>22554932</th>\n",
       "      <td>55117</td>\n",
       "      <td>673</td>\n",
       "      <td>737</td>\n",
       "      <td>0</td>\n",
       "    </tr>\n",
       "    <tr>\n",
       "      <th>22554933</th>\n",
       "      <td>55117</td>\n",
       "      <td>674</td>\n",
       "      <td>738</td>\n",
       "      <td>0</td>\n",
       "    </tr>\n",
       "    <tr>\n",
       "      <th>22554934</th>\n",
       "      <td>55117</td>\n",
       "      <td>675</td>\n",
       "      <td>739</td>\n",
       "      <td>0</td>\n",
       "    </tr>\n",
       "    <tr>\n",
       "      <th>22554935</th>\n",
       "      <td>55117</td>\n",
       "      <td>676</td>\n",
       "      <td>740</td>\n",
       "      <td>0</td>\n",
       "    </tr>\n",
       "  </tbody>\n",
       "</table>\n",
       "<p>22554936 rows × 4 columns</p>\n",
       "</div>"
      ],
      "text/plain": [
       "          poem_id  start_i  end_i  n_padds\n",
       "0               0        0      1       63\n",
       "1               0        0      2       62\n",
       "2               0        0      3       61\n",
       "3               0        0      4       60\n",
       "4               0        0      5       59\n",
       "...           ...      ...    ...      ...\n",
       "22554931    55117      672    736        0\n",
       "22554932    55117      673    737        0\n",
       "22554933    55117      674    738        0\n",
       "22554934    55117      675    739        0\n",
       "22554935    55117      676    740        0\n",
       "\n",
       "[22554936 rows x 4 columns]"
      ]
     },
     "execution_count": 43,
     "metadata": {},
     "output_type": "execute_result"
    }
   ],
   "source": [
    "scanned_windows_df"
   ]
  },
  {
   "cell_type": "markdown",
   "id": "2befea8c",
   "metadata": {
    "id": "a683654c",
    "papermill": {
     "duration": 0.024366,
     "end_time": "2025-10-19T23:46:03.057611",
     "exception": false,
     "start_time": "2025-10-19T23:46:03.033245",
     "status": "completed"
    },
    "tags": []
   },
   "source": [
    "# Data Split"
   ]
  },
  {
   "cell_type": "code",
   "execution_count": 44,
   "id": "88c086c2",
   "metadata": {
    "execution": {
     "iopub.execute_input": "2025-10-19T23:46:03.108546Z",
     "iopub.status.busy": "2025-10-19T23:46:03.108297Z",
     "iopub.status.idle": "2025-10-19T23:46:06.035010Z",
     "shell.execute_reply": "2025-10-19T23:46:06.034023Z"
    },
    "id": "03614333",
    "papermill": {
     "duration": 2.954197,
     "end_time": "2025-10-19T23:46:06.036502",
     "exception": false,
     "start_time": "2025-10-19T23:46:03.082305",
     "status": "completed"
    },
    "tags": []
   },
   "outputs": [],
   "source": [
    "scanned_windows_train, scanned_windows_df_test = train_test_split(\n",
    "    scanned_windows_df,\n",
    "    test_size=TEST_SIZE,\n",
    "    random_state=RANDOM_SEED\n",
    ")\n",
    "\n",
    "scanned_windows_df_val, scanned_windows_df_test = train_test_split(\n",
    "    scanned_windows_df_test,\n",
    "    test_size= TEST_SIZE / (TEST_SIZE + VAL_SIZE),\n",
    "    random_state=RANDOM_SEED\n",
    ")"
   ]
  },
  {
   "cell_type": "code",
   "execution_count": 45,
   "id": "ab7f0947",
   "metadata": {
    "execution": {
     "iopub.execute_input": "2025-10-19T23:46:06.086279Z",
     "iopub.status.busy": "2025-10-19T23:46:06.085595Z",
     "iopub.status.idle": "2025-10-19T23:46:06.090262Z",
     "shell.execute_reply": "2025-10-19T23:46:06.089472Z"
    },
    "id": "f7d8fc5e",
    "outputId": "5014665b-36c1-42bf-adff-9ca383eaec51",
    "papermill": {
     "duration": 0.030239,
     "end_time": "2025-10-19T23:46:06.091455",
     "exception": false,
     "start_time": "2025-10-19T23:46:06.061216",
     "status": "completed"
    },
    "tags": []
   },
   "outputs": [
    {
     "name": "stdout",
     "output_type": "stream",
     "text": [
      "Scanned Train len:  18,043,948\n",
      "Scanned Val len:    2,255,494\n",
      "Scanned Test len:   2,255,494\n"
     ]
    }
   ],
   "source": [
    "print(f\"Scanned Train len:  {len(scanned_windows_train):,}\")\n",
    "print(f\"Scanned Val len:    {len(scanned_windows_df_val):,}\")\n",
    "print(f\"Scanned Test len:   {len(scanned_windows_df_test):,}\")"
   ]
  },
  {
   "cell_type": "markdown",
   "id": "faa10f9e",
   "metadata": {
    "id": "aCH6nj74vtlq",
    "papermill": {
     "duration": 0.02396,
     "end_time": "2025-10-19T23:46:06.139716",
     "exception": false,
     "start_time": "2025-10-19T23:46:06.115756",
     "status": "completed"
    },
    "tags": []
   },
   "source": [
    "# Data Loader"
   ]
  },
  {
   "cell_type": "code",
   "execution_count": 49,
   "id": "932a4402",
   "metadata": {
    "execution": {
     "iopub.execute_input": "2025-10-19T23:46:06.189449Z",
     "iopub.status.busy": "2025-10-19T23:46:06.188934Z",
     "iopub.status.idle": "2025-10-19T23:46:06.199866Z",
     "shell.execute_reply": "2025-10-19T23:46:06.198975Z"
    },
    "id": "mk3ffYUovv-f",
    "papermill": {
     "duration": 0.03716,
     "end_time": "2025-10-19T23:46:06.201105",
     "exception": false,
     "start_time": "2025-10-19T23:46:06.163945",
     "status": "completed"
    },
    "tags": []
   },
   "outputs": [],
   "source": [
    "# Global cache shared across all DataLoader instances\n",
    "_GLOBAL_POEM_CACHE = {}\n",
    "\n",
    "\n",
    "class DataLoader(Sequence):\n",
    "    def __init__(self, scanned_df, df, tokenizer_dict,\n",
    "                 batch_size=BATCH_SIZE,\n",
    "                 shuffle=True,\n",
    "                 start_token=START_TOKEN,\n",
    "                 tokenizer = tokenizer,\n",
    "                 drop_random=0.0):\n",
    "\n",
    "        global _GLOBAL_POEM_CACHE\n",
    "\n",
    "        self.scanned_df = scanned_df.reset_index(drop=True)\n",
    "        self.df = df\n",
    "        self.tokenizer_dict = tokenizer_dict\n",
    "        self.batch_size = batch_size\n",
    "        self.shuffle = shuffle\n",
    "        self.start_token = start_token\n",
    "        self.drop_random = np.clip(drop_random, 0.0, 0.9)  # prevent full drop\n",
    "\n",
    "        # Add new poems to the global cache (if not already cached)\n",
    "        new_poems = df[~df['id'].isin(_GLOBAL_POEM_CACHE)]\n",
    "        if len(new_poems) > 0:\n",
    "            for poem_id, poem_text in zip(new_poems['id'].values, new_poems['poem_text'].values):\n",
    "                _GLOBAL_POEM_CACHE[poem_id] = poem_text.split(' ')\n",
    "            print(f\"[DataLoader] Cached {len(new_poems)} new poems → total cache size: {len(_GLOBAL_POEM_CACHE)}\")\n",
    "\n",
    "        self.poem_cache = _GLOBAL_POEM_CACHE\n",
    "        self.on_epoch_end()\n",
    "\n",
    "    def __len__(self):\n",
    "        effective_len = int(len(self.scanned_df) * (1 - self.drop_random))\n",
    "\n",
    "        return max(1, effective_len // self.batch_size)\n",
    "\n",
    "    def __getitem__(self, idx):\n",
    "        batch_indices = self.indices[idx * self.batch_size:(idx + 1) * self.batch_size]\n",
    "        batch_df = self.scanned_df.iloc[batch_indices]\n",
    "\n",
    "        poem_ids = batch_df['poem_id'].values\n",
    "        starts = batch_df['start_i'].values\n",
    "        ends = batch_df['end_i'].values\n",
    "        padds = batch_df['n_padds'].values\n",
    "\n",
    "        X, y = self._generate_pairs_fast(poem_ids, starts, ends, padds)\n",
    "        return X, y\n",
    "\n",
    "    def on_epoch_end(self):\n",
    "        self.indices = np.arange(len(self.scanned_df))\n",
    "\n",
    "        if self.shuffle:\n",
    "            np.random.shuffle(self.indices)\n",
    "\n",
    "        # 💡 Apply drop_random to reduce samples per epoch\n",
    "        if self.drop_random > 0:\n",
    "            keep_n = int(len(self.indices) * (1 - self.drop_random))\n",
    "            self.indices = self.indices[:keep_n]\n",
    "\n",
    "    def _generate_pairs_fast(self, poem_ids, starts, ends, padds):\n",
    "        X, y = [], []\n",
    "\n",
    "        for poem_id, start_i, end_i, padd_i in zip(poem_ids, starts, ends, padds):\n",
    "\n",
    "            poem_i = self.poem_cache[poem_id]\n",
    "\n",
    "            seq_i = [CLS_TOKEN] + [START_TOKEN] * padd_i + poem_i[start_i:end_i]\n",
    "            label_i = poem_i[end_i]\n",
    "\n",
    "            tokenized_seq_i = tokenizer.texts_to_sequences([seq_i])[0]\n",
    "            tokenized_label_i = tokenizer.texts_to_sequences([[label_i]])[0][0]\n",
    "\n",
    "            X.append(tokenized_seq_i)\n",
    "            y.append(tokenized_label_i)\n",
    "\n",
    "        return np.array(X, dtype=np.int32), np.array(y, dtype=np.int32)"
   ]
  },
  {
   "cell_type": "code",
   "execution_count": 50,
   "id": "0a3b0886",
   "metadata": {
    "execution": {
     "iopub.execute_input": "2025-10-19T23:46:06.250115Z",
     "iopub.status.busy": "2025-10-19T23:46:06.249889Z",
     "iopub.status.idle": "2025-10-19T23:46:09.690570Z",
     "shell.execute_reply": "2025-10-19T23:46:09.689619Z"
    },
    "id": "ETEolRxtyHJc",
    "outputId": "32974b88-d7e9-4024-a38b-c91bcebf1780",
    "papermill": {
     "duration": 3.466281,
     "end_time": "2025-10-19T23:46:09.692064",
     "exception": false,
     "start_time": "2025-10-19T23:46:06.225783",
     "status": "completed"
    },
    "tags": []
   },
   "outputs": [
    {
     "name": "stdout",
     "output_type": "stream",
     "text": [
      "[DataLoader] Cached 54944 new poems → total cache size: 54944\n"
     ]
    }
   ],
   "source": [
    "train_data_loader = DataLoader(scanned_windows_train, df, tokenizer_dict, shuffle=True, drop_random= 0.5)\n",
    "val_data_loader = DataLoader(scanned_windows_df_val, df, tokenizer_dict, shuffle=False, drop_random= 0.5)\n",
    "test_data_loader = DataLoader(scanned_windows_df_test, df, tokenizer_dict, shuffle=False, drop_random= 0.5)"
   ]
  },
  {
   "cell_type": "code",
   "execution_count": 51,
   "id": "cdd1a755",
   "metadata": {
    "execution": {
     "iopub.execute_input": "2025-10-19T23:46:09.744384Z",
     "iopub.status.busy": "2025-10-19T23:46:09.744153Z",
     "iopub.status.idle": "2025-10-19T23:46:09.772075Z",
     "shell.execute_reply": "2025-10-19T23:46:09.771283Z"
    },
    "id": "7QV8Dt2zyQyE",
    "outputId": "ab3e3778-a3b9-4df7-d79a-9a10dca8a4a5",
    "papermill": {
     "duration": 0.054004,
     "end_time": "2025-10-19T23:46:09.773114",
     "exception": false,
     "start_time": "2025-10-19T23:46:09.719110",
     "status": "completed"
    },
    "tags": []
   },
   "outputs": [
    {
     "name": "stdout",
     "output_type": "stream",
     "text": [
      "X (length: 65):\n",
      "['$ & ا ا & و ل & ا ف & يكفين & ي ال & خجل \\n اعذب ال & ال & قول & ي ل & ك خذ \\n و & امر ال & قول قول & ي ب & ل & عل \\n مل & ك ك & س & ر & ي عن & تغن & ي ك & س &']\n",
      "['ا او لا فيكفيني الخجل \\n اعذب الالقولي لك خذ \\n وامر القول قولي بلعل \\n ملك كسري عنتغني كس']\n",
      "\n",
      "\n",
      "y: 24, ['ر']\n",
      "\n",
      "\n",
      "\n",
      "X (length: 65):\n",
      "['$ ي و & ج & & ك ال & نقع اذ ب & د & ا \\n و & احسن نور ال & و & صل ف & ي ظلم & ال & هجر \\n ب & اض & و & ا من ب & رق و & ازيد ف & ي ال & س & ن & ا \\n و & اهيب من']\n",
      "['ي وجك النقع اذ بدا \\n واحسن نور الوصل في ظلمالهجر \\n باضوا من برق وازيد في السنا \\n واهيب من']\n",
      "\n",
      "\n",
      "y: 14, ['س']\n",
      "\n",
      "\n",
      "\n",
      "X (length: 65):\n",
      "['$ & م ي & كن \\n س & و & ي ل & محات يزد & هين و & اضواء \\n هصرت ب & ه غص & ن & ا نضير & ا تفتحت \\n ازا & & ير & ف & ي ظل خضراء ل & فاء \\n و & اين عل & ي مصر ال & جديد & مورد & ي \\n']\n",
      "['م يكن \\n سوي لمحات يزدهين واضواء \\n هصرت به غصنا نضيرا تفتحت \\n ازايرفي ظل خضراء لفاء \\n واين علي مصر الجديدموردي']\n",
      "\n",
      "\n",
      "y: 7, ['و']\n",
      "\n",
      "\n",
      "\n",
      "X (length: 65):\n",
      "['$ \\n حين نفلت من يد & ي & ك \\n ال & ي ال & مناف & ي ال & و & اسع & \\n ا & ن & ا تعلم & ن & ا ال & ل & غات ال & شايع & \\n و & متاعب ال & س & فر ال & طويل \\n ال & ي خطوط ال & استواء']\n",
      "['حين نفلت من يديك \\n الي المنافي الواسع\\n انا تعلمنا اللغات الشايع\\n ومتاعب السفر الطويل \\n الي خطوط الاستواء']\n",
      "\n",
      "\n",
      "y: 3, ['\\n']\n",
      "\n",
      "\n",
      "\n",
      "X (length: 65):\n",
      "['$ و & ضيع ال & اموال & ا \\n قد ك & ان اعرف ب & ال & زمان و & صرف & \\n من ان يثمر ا & و يجمع مال & ا \\n مفتاح ك & ل ند & ي و & رب معاشر \\n ك & ان & و & ا عل & ي اموال & هم اقفال & ا \\n']\n",
      "['وضيع الاموالا \\n قد كان اعرف بالزمان وصرف\\n من ان يثمر او يجمع مالا \\n مفتاح كل ندي ورب معاشر \\n كانوا علي اموالهم اقفالا']\n",
      "\n",
      "\n",
      "y: 11, ['ك']\n",
      "\n",
      "\n",
      "\n",
      "X (length: 65):\n",
      "['$ & و & ف & اد راحت & \\n ف & ك & ل & م & ا و & ف & د & و & ا من جود & رفد & و & ا \\n عاد & و & ا و & ف & ي ك & ل عض & و ب & ال & ثناء ف & م \\n و & قد']\n",
      "['وفاد راحت\\n فكلما وفدوا من جودرفدوا \\n عادوا وفي كل عضو بالثناء فم \\n وقد']\n",
      "\n",
      "\n",
      "y: 8572, ['اتو']\n",
      "\n",
      "\n",
      "\n",
      "X (length: 65):\n",
      "['$ ابت & سام & ه & ا \\n اذ & ا س & مت & ه & ا ال & تقبيل صدت و & اعرضت \\n صدود شموس ال & خيل صل ل & جام & ه & ا \\n و & عضت عل & ي ابهام & ه & ا ثم اومات \\n اخاف ع & & و & ن & ا ان']\n",
      "['ابتسامها \\n اذا سمتها التقبيل صدت واعرضت \\n صدود شموس الخيل صل لجامها \\n وعضت علي ابهامها ثم اومات \\n اخاف عونا ان']\n",
      "\n",
      "\n",
      "y: 2956, ['تهب']\n",
      "\n",
      "\n",
      "\n",
      "X (length: 65):\n",
      "['$ ف & ال & عيش عند & ي ف & وق ال & غصون \\n ل & ا ف & ي قصور و & ل & ا حصون \\n اطير ف & ي & ه & ا ل & فرط و & جد & ي \\n من غصن و & رد ل & غصن و & رد \\n و & ف & ي ف']\n",
      "['فالعيش عندي فوق الغصون \\n لا في قصور ولا حصون \\n اطير فيها لفرط وجدي \\n من غصن ورد لغصن ورد \\n وفي ف']\n",
      "\n",
      "\n",
      "y: 2, ['&']\n",
      "\n",
      "\n",
      "\n",
      "X (length: 65):\n",
      "['$ ال & عف & و عن هفوات & ي \\n ف & ي & ا قبر & ح & & ا و & ابل رحم & \\n تزور & ك ف & ي ال & اصال و & ال & غدوات \\n و & جاد & ك هطال من ال & روج و & ال & رض & ا \\n يبل ثرا & طيب']\n",
      "['العفو عن هفواتي \\n فيا قبرحا وابل رحم\\n تزورك في الاصال والغدوات \\n وجادك هطال من الروج والرضا \\n يبل ثراطيب']\n",
      "\n",
      "\n",
      "y: 5, ['ال']\n",
      "\n",
      "\n",
      "\n",
      "X (length: 65):\n",
      "['$ مبعث & ف & ي ال & و & حييات ال & انج & لي & \\n ف & هل صمت ال & اذان ا & و قد تجاهل & و & ا \\n ل & نمتاز عن & هم ب & ال & شعار ال & اسلا & مي & \\n ل & قد انكر & و & ا اصل ال & و']\n",
      "['مبعثفي الوحييات الانجلي\\n فهل صمت الاذان او قد تجاهلوا \\n لنمتاز عنهم بالشعار الاسلامي\\n لقد انكروا اصل الو']\n",
      "\n",
      "\n",
      "y: 2, ['&']\n",
      "\n",
      "\n",
      "\n"
     ]
    }
   ],
   "source": [
    "N_ROWS = 10\n",
    "COUNTER_i = 0\n",
    "\n",
    "batch_x, batch_y = train_data_loader[0]\n",
    "\n",
    "for x, y in zip(batch_x, batch_y):\n",
    "    if COUNTER_i >= N_ROWS:\n",
    "        break\n",
    "    else:\n",
    "        COUNTER_i += 1\n",
    "\n",
    "    tokenized = tokenizer.sequences_to_texts([x])\n",
    "\n",
    "    print(f\"X (length: {len(x)}):\")\n",
    "    print((tokenized))\n",
    "    print([compose_poem_text(tokenized[0])])\n",
    "\n",
    "    print(f\"\\n\")\n",
    "\n",
    "    print(f\"y: {y}, {tokenizer.sequences_to_texts([[y]])}\")\n",
    "    print('\\n\\n')"
   ]
  },
  {
   "cell_type": "markdown",
   "id": "2f6fe939",
   "metadata": {
    "id": "ee2681b0",
    "papermill": {
     "duration": 0.024103,
     "end_time": "2025-10-19T23:46:09.821885",
     "exception": false,
     "start_time": "2025-10-19T23:46:09.797782",
     "status": "completed"
    },
    "tags": []
   },
   "source": [
    "# Encapsulated Models"
   ]
  },
  {
   "cell_type": "markdown",
   "id": "49b5cb5c",
   "metadata": {
    "id": "82725f10",
    "papermill": {
     "duration": 0.023663,
     "end_time": "2025-10-19T23:46:09.869800",
     "exception": false,
     "start_time": "2025-10-19T23:46:09.846137",
     "status": "completed"
    },
    "tags": []
   },
   "source": [
    "## Encapsulate"
   ]
  },
  {
   "cell_type": "code",
   "execution_count": 92,
   "id": "e0adc774",
   "metadata": {
    "execution": {
     "iopub.execute_input": "2025-10-19T23:46:09.920737Z",
     "iopub.status.busy": "2025-10-19T23:46:09.920078Z",
     "iopub.status.idle": "2025-10-19T23:46:09.925492Z",
     "shell.execute_reply": "2025-10-19T23:46:09.924948Z"
    },
    "id": "b6f48057",
    "papermill": {
     "duration": 0.032556,
     "end_time": "2025-10-19T23:46:09.926549",
     "exception": false,
     "start_time": "2025-10-19T23:46:09.893993",
     "status": "completed"
    },
    "tags": []
   },
   "outputs": [],
   "source": [
    "class HistoryCheckpoint(Callback):\n",
    "    def __init__(self, model_name):\n",
    "        super().__init__()\n",
    "        self.model_name = model_name\n",
    "        self.filepath = os.path.join(TRAIN_DIR, f'{model_name}.history.json')\n",
    "        self.history = {}\n",
    "\n",
    "        if os.path.exists(self.filepath):\n",
    "            with open(self.filepath, 'r') as f:\n",
    "                self.history = json.load(f)\n",
    "                print(F'Model {self.model_name} history loaded from cache')\n",
    "        else:\n",
    "            self.history = {}\n",
    "\n",
    "    def on_epoch_end(self, epoch, logs=None):\n",
    "        logs = logs or {}\n",
    "        for key, value in logs.items():\n",
    "            self.history.setdefault(key, []).append(float(value))\n",
    "\n",
    "        with open(self.filepath, 'w') as f:\n",
    "            json.dump(self.history, f)\n",
    "\n",
    "    def get_history(self):\n",
    "        return self.history"
   ]
  },
  {
   "cell_type": "code",
   "execution_count": 93,
   "id": "e003ad8c",
   "metadata": {
    "execution": {
     "iopub.execute_input": "2025-10-19T23:46:09.975601Z",
     "iopub.status.busy": "2025-10-19T23:46:09.975374Z",
     "iopub.status.idle": "2025-10-19T23:46:10.009946Z",
     "shell.execute_reply": "2025-10-19T23:46:10.009350Z"
    },
    "id": "00e3db3f",
    "papermill": {
     "duration": 0.060484,
     "end_time": "2025-10-19T23:46:10.011105",
     "exception": false,
     "start_time": "2025-10-19T23:46:09.950621",
     "status": "completed"
    },
    "tags": []
   },
   "outputs": [],
   "source": [
    "class CustomModel:\n",
    "    def __init__(self, name, model):\n",
    "        self.name = re.sub('[^A-Za-z0-9]', '_', str(name)).lower()\n",
    "        self.model_weights_dir = os.path.join(TRAIN_DIR, f'{self.name}_weights')\n",
    "        os.makedirs(self.model_weights_dir, exist_ok=True)\n",
    "        self.model = model\n",
    "        self._history = {}\n",
    "        self.load()\n",
    "\n",
    "    def fit(self, train_data, val_data, epochs=EPOCHS, force_train=False):\n",
    "        \"\"\"\n",
    "        train_data: either (X_train, y_train) tuple or a generator\n",
    "        val_data: either (X_val, y_val) tuple or a generator\n",
    "        \"\"\"\n",
    "        es = EarlyStopping(monitor='val_loss', patience=4, verbose=1, restore_best_weights=True)\n",
    "        rop = ReduceLROnPlateau(monitor='val_loss', factor=0.1, patience=2)\n",
    "        hcp = HistoryCheckpoint(self.name)\n",
    "\n",
    "        if not self.trained or force_train:\n",
    "            history = self.model.fit(\n",
    "                train_data,\n",
    "                validation_data=val_data,\n",
    "                callbacks=[es, rop, hcp],\n",
    "                epochs=epochs,\n",
    "                verbose=1\n",
    "            )\n",
    "            self.trained = True\n",
    "            self._history = hcp.get_history() or getattr(history, \"history\", {})\n",
    "            self.save()\n",
    "        else:\n",
    "            self._history = hcp.get_history()\n",
    "\n",
    "    @property\n",
    "    def history(self):\n",
    "        return self._history\n",
    "\n",
    "    # ---------------------\n",
    "    # Save weights layer by layer using NumPy\n",
    "    # ---------------------\n",
    "    def save(self):\n",
    "        for i, layer in enumerate(self.model.layers):\n",
    "            weights = layer.get_weights()\n",
    "            if weights:\n",
    "                # Save all arrays for this layer in a single .npz file\n",
    "                np.savez(os.path.join(self.model_weights_dir, f'layer_{i}.npz'), *weights)\n",
    "        print(f'Model {self.name} weights saved layer-by-layer.')\n",
    "\n",
    "    # ---------------------\n",
    "    # Load weights layer by layer from NumPy files\n",
    "    # ---------------------\n",
    "\n",
    "    def load(self):\n",
    "        loaded = False\n",
    "        for i, layer in enumerate(self.model.layers):\n",
    "            npz_file = os.path.join(self.model_weights_dir, f'layer_{i}.npz')\n",
    "            if os.path.exists(npz_file):\n",
    "                # Load all arrays from the .npz\n",
    "                data = np.load(npz_file, allow_pickle=True)\n",
    "                weights = [data[key] for key in data]\n",
    "                layer.set_weights(weights)\n",
    "                loaded = True\n",
    "\n",
    "        self.trained = loaded\n",
    "        if loaded:\n",
    "            print(f'Model {self.name} weights loaded layer-by-layer from cache.')\n",
    "        else:\n",
    "            print(f'Model {self.name} weights not found, training required.')\n",
    "\n",
    "        hcp = HistoryCheckpoint(self.name)\n",
    "        self._history = hcp.get_history()"
   ]
  },
  {
   "cell_type": "markdown",
   "id": "3839108a",
   "metadata": {
    "id": "4999b1eb",
    "papermill": {
     "duration": 0.023768,
     "end_time": "2025-10-19T23:46:10.059959",
     "exception": false,
     "start_time": "2025-10-19T23:46:10.036191",
     "status": "completed"
    },
    "tags": []
   },
   "source": [
    "## Layers"
   ]
  },
  {
   "cell_type": "code",
   "execution_count": 94,
   "id": "fc29c78f",
   "metadata": {
    "execution": {
     "iopub.execute_input": "2025-10-19T23:46:10.109421Z",
     "iopub.status.busy": "2025-10-19T23:46:10.108857Z",
     "iopub.status.idle": "2025-10-19T23:46:10.113870Z",
     "shell.execute_reply": "2025-10-19T23:46:10.113081Z"
    },
    "id": "65a4f91f-baf5-4729-8e8f-fdf92a3a0fd7",
    "papermill": {
     "duration": 0.032033,
     "end_time": "2025-10-19T23:46:10.115610",
     "exception": false,
     "start_time": "2025-10-19T23:46:10.083577",
     "status": "completed"
    },
    "tags": []
   },
   "outputs": [],
   "source": [
    "def positional_encoding(seq_len, d_model):\n",
    "    positions = tf.range(seq_len, dtype=tf.float32)[:, tf.newaxis]\n",
    "    dims = tf.range(d_model, dtype=tf.float32)[tf.newaxis, :]\n",
    "    angle_rates = 1 / tf.pow(10000., (2 * (dims // 2)) / d_model)\n",
    "    angle_rads = positions * angle_rates\n",
    "    sines = tf.sin(angle_rads[:, 0::2])\n",
    "    cosines = tf.cos(angle_rads[:, 1::2])\n",
    "    pos_encoding = tf.concat([sines, cosines], axis=-1)\n",
    "    return pos_encoding[tf.newaxis, ...]"
   ]
  },
  {
   "cell_type": "markdown",
   "id": "c43d201c",
   "metadata": {
    "id": "5bb73201",
    "papermill": {
     "duration": 0.023891,
     "end_time": "2025-10-19T23:46:10.164453",
     "exception": false,
     "start_time": "2025-10-19T23:46:10.140562",
     "status": "completed"
    },
    "tags": []
   },
   "source": [
    "## Models"
   ]
  },
  {
   "cell_type": "code",
   "execution_count": 95,
   "id": "313fbea2",
   "metadata": {
    "execution": {
     "iopub.execute_input": "2025-10-19T23:46:10.213864Z",
     "iopub.status.busy": "2025-10-19T23:46:10.213395Z",
     "iopub.status.idle": "2025-10-19T23:46:10.216778Z",
     "shell.execute_reply": "2025-10-19T23:46:10.216102Z"
    },
    "id": "e47f1707",
    "papermill": {
     "duration": 0.029208,
     "end_time": "2025-10-19T23:46:10.217942",
     "exception": false,
     "start_time": "2025-10-19T23:46:10.188734",
     "status": "completed"
    },
    "tags": []
   },
   "outputs": [],
   "source": [
    "models_list = []"
   ]
  },
  {
   "cell_type": "code",
   "execution_count": 96,
   "id": "b053a5e8",
   "metadata": {
    "execution": {
     "iopub.execute_input": "2025-10-19T23:46:10.267028Z",
     "iopub.status.busy": "2025-10-19T23:46:10.266787Z",
     "iopub.status.idle": "2025-10-19T23:46:12.846378Z",
     "shell.execute_reply": "2025-10-19T23:46:12.845781Z"
    },
    "id": "UvbeshdmISTG",
    "outputId": "23696a72-8121-4a4b-9647-5db805552770",
    "papermill": {
     "duration": 2.605458,
     "end_time": "2025-10-19T23:46:12.847439",
     "exception": false,
     "start_time": "2025-10-19T23:46:10.241981",
     "status": "completed"
    },
    "tags": []
   },
   "outputs": [
    {
     "name": "stdout",
     "output_type": "stream",
     "text": [
      "Model encoder_v1 weights loaded layer-by-layer from cache.\n",
      "Model encoder_v1 history loaded from cache\n"
     ]
    },
    {
     "data": {
      "text/html": [
       "<pre style=\"white-space:pre;overflow-x:auto;line-height:normal;font-family:Menlo,'DejaVu Sans Mono',consolas,'Courier New',monospace\"><span style=\"font-weight: bold\">Model: \"functional_5\"</span>\n",
       "</pre>\n"
      ],
      "text/plain": [
       "\u001b[1mModel: \"functional_5\"\u001b[0m\n"
      ]
     },
     "metadata": {},
     "output_type": "display_data"
    },
    {
     "data": {
      "text/html": [
       "<pre style=\"white-space:pre;overflow-x:auto;line-height:normal;font-family:Menlo,'DejaVu Sans Mono',consolas,'Courier New',monospace\">┏━━━━━━━━━━━━━━━━━━━━━┳━━━━━━━━━━━━━━━━━━━┳━━━━━━━━━━━━┳━━━━━━━━━━━━━━━━━━━┓\n",
       "┃<span style=\"font-weight: bold\"> Layer (type)        </span>┃<span style=\"font-weight: bold\"> Output Shape      </span>┃<span style=\"font-weight: bold\">    Param # </span>┃<span style=\"font-weight: bold\"> Connected to      </span>┃\n",
       "┡━━━━━━━━━━━━━━━━━━━━━╇━━━━━━━━━━━━━━━━━━━╇━━━━━━━━━━━━╇━━━━━━━━━━━━━━━━━━━┩\n",
       "│ input_layer_5       │ (<span style=\"color: #00d7ff; text-decoration-color: #00d7ff\">None</span>, <span style=\"color: #00af00; text-decoration-color: #00af00\">65</span>)        │          <span style=\"color: #00af00; text-decoration-color: #00af00\">0</span> │ -                 │\n",
       "│ (<span style=\"color: #0087ff; text-decoration-color: #0087ff\">InputLayer</span>)        │                   │            │                   │\n",
       "├─────────────────────┼───────────────────┼────────────┼───────────────────┤\n",
       "│ embedding_5         │ (<span style=\"color: #00d7ff; text-decoration-color: #00d7ff\">None</span>, <span style=\"color: #00af00; text-decoration-color: #00af00\">65</span>, <span style=\"color: #00af00; text-decoration-color: #00af00\">144</span>)   │ <span style=\"color: #00af00; text-decoration-color: #00af00\">10,623,888</span> │ input_layer_5[<span style=\"color: #00af00; text-decoration-color: #00af00\">0</span>]… │\n",
       "│ (<span style=\"color: #0087ff; text-decoration-color: #0087ff\">Embedding</span>)         │                   │            │                   │\n",
       "├─────────────────────┼───────────────────┼────────────┼───────────────────┤\n",
       "│ dropout_40          │ (<span style=\"color: #00d7ff; text-decoration-color: #00d7ff\">None</span>, <span style=\"color: #00af00; text-decoration-color: #00af00\">65</span>, <span style=\"color: #00af00; text-decoration-color: #00af00\">144</span>)   │          <span style=\"color: #00af00; text-decoration-color: #00af00\">0</span> │ embedding_5[<span style=\"color: #00af00; text-decoration-color: #00af00\">0</span>][<span style=\"color: #00af00; text-decoration-color: #00af00\">0</span>] │\n",
       "│ (<span style=\"color: #0087ff; text-decoration-color: #0087ff\">Dropout</span>)           │                   │            │                   │\n",
       "├─────────────────────┼───────────────────┼────────────┼───────────────────┤\n",
       "│ lambda_15 (<span style=\"color: #0087ff; text-decoration-color: #0087ff\">Lambda</span>)  │ (<span style=\"color: #00d7ff; text-decoration-color: #00d7ff\">None</span>, <span style=\"color: #00af00; text-decoration-color: #00af00\">65</span>, <span style=\"color: #00af00; text-decoration-color: #00af00\">144</span>)   │          <span style=\"color: #00af00; text-decoration-color: #00af00\">0</span> │ dropout_40[<span style=\"color: #00af00; text-decoration-color: #00af00\">0</span>][<span style=\"color: #00af00; text-decoration-color: #00af00\">0</span>]  │\n",
       "├─────────────────────┼───────────────────┼────────────┼───────────────────┤\n",
       "│ multi_head_attenti… │ (<span style=\"color: #00d7ff; text-decoration-color: #00d7ff\">None</span>, <span style=\"color: #00af00; text-decoration-color: #00af00\">65</span>, <span style=\"color: #00af00; text-decoration-color: #00af00\">144</span>)   │     <span style=\"color: #00af00; text-decoration-color: #00af00\">83,520</span> │ lambda_15[<span style=\"color: #00af00; text-decoration-color: #00af00\">0</span>][<span style=\"color: #00af00; text-decoration-color: #00af00\">0</span>],  │\n",
       "│ (<span style=\"color: #0087ff; text-decoration-color: #0087ff\">MultiHeadAttentio…</span> │                   │            │ lambda_15[<span style=\"color: #00af00; text-decoration-color: #00af00\">0</span>][<span style=\"color: #00af00; text-decoration-color: #00af00\">0</span>]   │\n",
       "├─────────────────────┼───────────────────┼────────────┼───────────────────┤\n",
       "│ dropout_42          │ (<span style=\"color: #00d7ff; text-decoration-color: #00d7ff\">None</span>, <span style=\"color: #00af00; text-decoration-color: #00af00\">65</span>, <span style=\"color: #00af00; text-decoration-color: #00af00\">144</span>)   │          <span style=\"color: #00af00; text-decoration-color: #00af00\">0</span> │ multi_head_atten… │\n",
       "│ (<span style=\"color: #0087ff; text-decoration-color: #0087ff\">Dropout</span>)           │                   │            │                   │\n",
       "├─────────────────────┼───────────────────┼────────────┼───────────────────┤\n",
       "│ add_20 (<span style=\"color: #0087ff; text-decoration-color: #0087ff\">Add</span>)        │ (<span style=\"color: #00d7ff; text-decoration-color: #00d7ff\">None</span>, <span style=\"color: #00af00; text-decoration-color: #00af00\">65</span>, <span style=\"color: #00af00; text-decoration-color: #00af00\">144</span>)   │          <span style=\"color: #00af00; text-decoration-color: #00af00\">0</span> │ lambda_15[<span style=\"color: #00af00; text-decoration-color: #00af00\">0</span>][<span style=\"color: #00af00; text-decoration-color: #00af00\">0</span>],  │\n",
       "│                     │                   │            │ dropout_42[<span style=\"color: #00af00; text-decoration-color: #00af00\">0</span>][<span style=\"color: #00af00; text-decoration-color: #00af00\">0</span>]  │\n",
       "├─────────────────────┼───────────────────┼────────────┼───────────────────┤\n",
       "│ layer_normalizatio… │ (<span style=\"color: #00d7ff; text-decoration-color: #00d7ff\">None</span>, <span style=\"color: #00af00; text-decoration-color: #00af00\">65</span>, <span style=\"color: #00af00; text-decoration-color: #00af00\">144</span>)   │        <span style=\"color: #00af00; text-decoration-color: #00af00\">288</span> │ add_20[<span style=\"color: #00af00; text-decoration-color: #00af00\">0</span>][<span style=\"color: #00af00; text-decoration-color: #00af00\">0</span>]      │\n",
       "│ (<span style=\"color: #0087ff; text-decoration-color: #0087ff\">LayerNormalizatio…</span> │                   │            │                   │\n",
       "├─────────────────────┼───────────────────┼────────────┼───────────────────┤\n",
       "│ dense_30 (<span style=\"color: #0087ff; text-decoration-color: #0087ff\">Dense</span>)    │ (<span style=\"color: #00d7ff; text-decoration-color: #00d7ff\">None</span>, <span style=\"color: #00af00; text-decoration-color: #00af00\">65</span>, <span style=\"color: #00af00; text-decoration-color: #00af00\">576</span>)   │     <span style=\"color: #00af00; text-decoration-color: #00af00\">83,520</span> │ layer_normalizat… │\n",
       "├─────────────────────┼───────────────────┼────────────┼───────────────────┤\n",
       "│ dropout_43          │ (<span style=\"color: #00d7ff; text-decoration-color: #00d7ff\">None</span>, <span style=\"color: #00af00; text-decoration-color: #00af00\">65</span>, <span style=\"color: #00af00; text-decoration-color: #00af00\">576</span>)   │          <span style=\"color: #00af00; text-decoration-color: #00af00\">0</span> │ dense_30[<span style=\"color: #00af00; text-decoration-color: #00af00\">0</span>][<span style=\"color: #00af00; text-decoration-color: #00af00\">0</span>]    │\n",
       "│ (<span style=\"color: #0087ff; text-decoration-color: #0087ff\">Dropout</span>)           │                   │            │                   │\n",
       "├─────────────────────┼───────────────────┼────────────┼───────────────────┤\n",
       "│ dense_31 (<span style=\"color: #0087ff; text-decoration-color: #0087ff\">Dense</span>)    │ (<span style=\"color: #00d7ff; text-decoration-color: #00d7ff\">None</span>, <span style=\"color: #00af00; text-decoration-color: #00af00\">65</span>, <span style=\"color: #00af00; text-decoration-color: #00af00\">144</span>)   │     <span style=\"color: #00af00; text-decoration-color: #00af00\">83,088</span> │ dropout_43[<span style=\"color: #00af00; text-decoration-color: #00af00\">0</span>][<span style=\"color: #00af00; text-decoration-color: #00af00\">0</span>]  │\n",
       "├─────────────────────┼───────────────────┼────────────┼───────────────────┤\n",
       "│ add_21 (<span style=\"color: #0087ff; text-decoration-color: #0087ff\">Add</span>)        │ (<span style=\"color: #00d7ff; text-decoration-color: #00d7ff\">None</span>, <span style=\"color: #00af00; text-decoration-color: #00af00\">65</span>, <span style=\"color: #00af00; text-decoration-color: #00af00\">144</span>)   │          <span style=\"color: #00af00; text-decoration-color: #00af00\">0</span> │ layer_normalizat… │\n",
       "│                     │                   │            │ dense_31[<span style=\"color: #00af00; text-decoration-color: #00af00\">0</span>][<span style=\"color: #00af00; text-decoration-color: #00af00\">0</span>]    │\n",
       "├─────────────────────┼───────────────────┼────────────┼───────────────────┤\n",
       "│ layer_normalizatio… │ (<span style=\"color: #00d7ff; text-decoration-color: #00d7ff\">None</span>, <span style=\"color: #00af00; text-decoration-color: #00af00\">65</span>, <span style=\"color: #00af00; text-decoration-color: #00af00\">144</span>)   │        <span style=\"color: #00af00; text-decoration-color: #00af00\">288</span> │ add_21[<span style=\"color: #00af00; text-decoration-color: #00af00\">0</span>][<span style=\"color: #00af00; text-decoration-color: #00af00\">0</span>]      │\n",
       "│ (<span style=\"color: #0087ff; text-decoration-color: #0087ff\">LayerNormalizatio…</span> │                   │            │                   │\n",
       "├─────────────────────┼───────────────────┼────────────┼───────────────────┤\n",
       "│ multi_head_attenti… │ (<span style=\"color: #00d7ff; text-decoration-color: #00d7ff\">None</span>, <span style=\"color: #00af00; text-decoration-color: #00af00\">65</span>, <span style=\"color: #00af00; text-decoration-color: #00af00\">144</span>)   │     <span style=\"color: #00af00; text-decoration-color: #00af00\">83,520</span> │ layer_normalizat… │\n",
       "│ (<span style=\"color: #0087ff; text-decoration-color: #0087ff\">MultiHeadAttentio…</span> │                   │            │ layer_normalizat… │\n",
       "├─────────────────────┼───────────────────┼────────────┼───────────────────┤\n",
       "│ dropout_45          │ (<span style=\"color: #00d7ff; text-decoration-color: #00d7ff\">None</span>, <span style=\"color: #00af00; text-decoration-color: #00af00\">65</span>, <span style=\"color: #00af00; text-decoration-color: #00af00\">144</span>)   │          <span style=\"color: #00af00; text-decoration-color: #00af00\">0</span> │ multi_head_atten… │\n",
       "│ (<span style=\"color: #0087ff; text-decoration-color: #0087ff\">Dropout</span>)           │                   │            │                   │\n",
       "├─────────────────────┼───────────────────┼────────────┼───────────────────┤\n",
       "│ add_22 (<span style=\"color: #0087ff; text-decoration-color: #0087ff\">Add</span>)        │ (<span style=\"color: #00d7ff; text-decoration-color: #00d7ff\">None</span>, <span style=\"color: #00af00; text-decoration-color: #00af00\">65</span>, <span style=\"color: #00af00; text-decoration-color: #00af00\">144</span>)   │          <span style=\"color: #00af00; text-decoration-color: #00af00\">0</span> │ layer_normalizat… │\n",
       "│                     │                   │            │ dropout_45[<span style=\"color: #00af00; text-decoration-color: #00af00\">0</span>][<span style=\"color: #00af00; text-decoration-color: #00af00\">0</span>]  │\n",
       "├─────────────────────┼───────────────────┼────────────┼───────────────────┤\n",
       "│ layer_normalizatio… │ (<span style=\"color: #00d7ff; text-decoration-color: #00d7ff\">None</span>, <span style=\"color: #00af00; text-decoration-color: #00af00\">65</span>, <span style=\"color: #00af00; text-decoration-color: #00af00\">144</span>)   │        <span style=\"color: #00af00; text-decoration-color: #00af00\">288</span> │ add_22[<span style=\"color: #00af00; text-decoration-color: #00af00\">0</span>][<span style=\"color: #00af00; text-decoration-color: #00af00\">0</span>]      │\n",
       "│ (<span style=\"color: #0087ff; text-decoration-color: #0087ff\">LayerNormalizatio…</span> │                   │            │                   │\n",
       "├─────────────────────┼───────────────────┼────────────┼───────────────────┤\n",
       "│ dense_32 (<span style=\"color: #0087ff; text-decoration-color: #0087ff\">Dense</span>)    │ (<span style=\"color: #00d7ff; text-decoration-color: #00d7ff\">None</span>, <span style=\"color: #00af00; text-decoration-color: #00af00\">65</span>, <span style=\"color: #00af00; text-decoration-color: #00af00\">576</span>)   │     <span style=\"color: #00af00; text-decoration-color: #00af00\">83,520</span> │ layer_normalizat… │\n",
       "├─────────────────────┼───────────────────┼────────────┼───────────────────┤\n",
       "│ dropout_46          │ (<span style=\"color: #00d7ff; text-decoration-color: #00d7ff\">None</span>, <span style=\"color: #00af00; text-decoration-color: #00af00\">65</span>, <span style=\"color: #00af00; text-decoration-color: #00af00\">576</span>)   │          <span style=\"color: #00af00; text-decoration-color: #00af00\">0</span> │ dense_32[<span style=\"color: #00af00; text-decoration-color: #00af00\">0</span>][<span style=\"color: #00af00; text-decoration-color: #00af00\">0</span>]    │\n",
       "│ (<span style=\"color: #0087ff; text-decoration-color: #0087ff\">Dropout</span>)           │                   │            │                   │\n",
       "├─────────────────────┼───────────────────┼────────────┼───────────────────┤\n",
       "│ dense_33 (<span style=\"color: #0087ff; text-decoration-color: #0087ff\">Dense</span>)    │ (<span style=\"color: #00d7ff; text-decoration-color: #00d7ff\">None</span>, <span style=\"color: #00af00; text-decoration-color: #00af00\">65</span>, <span style=\"color: #00af00; text-decoration-color: #00af00\">144</span>)   │     <span style=\"color: #00af00; text-decoration-color: #00af00\">83,088</span> │ dropout_46[<span style=\"color: #00af00; text-decoration-color: #00af00\">0</span>][<span style=\"color: #00af00; text-decoration-color: #00af00\">0</span>]  │\n",
       "├─────────────────────┼───────────────────┼────────────┼───────────────────┤\n",
       "│ add_23 (<span style=\"color: #0087ff; text-decoration-color: #0087ff\">Add</span>)        │ (<span style=\"color: #00d7ff; text-decoration-color: #00d7ff\">None</span>, <span style=\"color: #00af00; text-decoration-color: #00af00\">65</span>, <span style=\"color: #00af00; text-decoration-color: #00af00\">144</span>)   │          <span style=\"color: #00af00; text-decoration-color: #00af00\">0</span> │ layer_normalizat… │\n",
       "│                     │                   │            │ dense_33[<span style=\"color: #00af00; text-decoration-color: #00af00\">0</span>][<span style=\"color: #00af00; text-decoration-color: #00af00\">0</span>]    │\n",
       "├─────────────────────┼───────────────────┼────────────┼───────────────────┤\n",
       "│ layer_normalizatio… │ (<span style=\"color: #00d7ff; text-decoration-color: #00d7ff\">None</span>, <span style=\"color: #00af00; text-decoration-color: #00af00\">65</span>, <span style=\"color: #00af00; text-decoration-color: #00af00\">144</span>)   │        <span style=\"color: #00af00; text-decoration-color: #00af00\">288</span> │ add_23[<span style=\"color: #00af00; text-decoration-color: #00af00\">0</span>][<span style=\"color: #00af00; text-decoration-color: #00af00\">0</span>]      │\n",
       "│ (<span style=\"color: #0087ff; text-decoration-color: #0087ff\">LayerNormalizatio…</span> │                   │            │                   │\n",
       "├─────────────────────┼───────────────────┼────────────┼───────────────────┤\n",
       "│ lambda_16 (<span style=\"color: #0087ff; text-decoration-color: #0087ff\">Lambda</span>)  │ (<span style=\"color: #00d7ff; text-decoration-color: #00d7ff\">None</span>, <span style=\"color: #00af00; text-decoration-color: #00af00\">144</span>)       │          <span style=\"color: #00af00; text-decoration-color: #00af00\">0</span> │ layer_normalizat… │\n",
       "├─────────────────────┼───────────────────┼────────────┼───────────────────┤\n",
       "│ dense_34 (<span style=\"color: #0087ff; text-decoration-color: #0087ff\">Dense</span>)    │ (<span style=\"color: #00d7ff; text-decoration-color: #00d7ff\">None</span>, <span style=\"color: #00af00; text-decoration-color: #00af00\">256</span>)       │     <span style=\"color: #00af00; text-decoration-color: #00af00\">37,120</span> │ lambda_16[<span style=\"color: #00af00; text-decoration-color: #00af00\">0</span>][<span style=\"color: #00af00; text-decoration-color: #00af00\">0</span>]   │\n",
       "├─────────────────────┼───────────────────┼────────────┼───────────────────┤\n",
       "│ dropout_47          │ (<span style=\"color: #00d7ff; text-decoration-color: #00d7ff\">None</span>, <span style=\"color: #00af00; text-decoration-color: #00af00\">256</span>)       │          <span style=\"color: #00af00; text-decoration-color: #00af00\">0</span> │ dense_34[<span style=\"color: #00af00; text-decoration-color: #00af00\">0</span>][<span style=\"color: #00af00; text-decoration-color: #00af00\">0</span>]    │\n",
       "│ (<span style=\"color: #0087ff; text-decoration-color: #0087ff\">Dropout</span>)           │                   │            │                   │\n",
       "├─────────────────────┼───────────────────┼────────────┼───────────────────┤\n",
       "│ concatenate_5       │ (<span style=\"color: #00d7ff; text-decoration-color: #00d7ff\">None</span>, <span style=\"color: #00af00; text-decoration-color: #00af00\">400</span>)       │          <span style=\"color: #00af00; text-decoration-color: #00af00\">0</span> │ dropout_47[<span style=\"color: #00af00; text-decoration-color: #00af00\">0</span>][<span style=\"color: #00af00; text-decoration-color: #00af00\">0</span>], │\n",
       "│ (<span style=\"color: #0087ff; text-decoration-color: #0087ff\">Concatenate</span>)       │                   │            │ lambda_16[<span style=\"color: #00af00; text-decoration-color: #00af00\">0</span>][<span style=\"color: #00af00; text-decoration-color: #00af00\">0</span>]   │\n",
       "├─────────────────────┼───────────────────┼────────────┼───────────────────┤\n",
       "│ dense_35 (<span style=\"color: #0087ff; text-decoration-color: #0087ff\">Dense</span>)    │ (<span style=\"color: #00d7ff; text-decoration-color: #00d7ff\">None</span>, <span style=\"color: #00af00; text-decoration-color: #00af00\">144</span>)       │     <span style=\"color: #00af00; text-decoration-color: #00af00\">57,744</span> │ concatenate_5[<span style=\"color: #00af00; text-decoration-color: #00af00\">0</span>]… │\n",
       "├─────────────────────┼───────────────────┼────────────┼───────────────────┤\n",
       "│ lambda_17 (<span style=\"color: #0087ff; text-decoration-color: #0087ff\">Lambda</span>)  │ (<span style=\"color: #00d7ff; text-decoration-color: #00d7ff\">None</span>, <span style=\"color: #00af00; text-decoration-color: #00af00\">73777</span>)     │          <span style=\"color: #00af00; text-decoration-color: #00af00\">0</span> │ dense_35[<span style=\"color: #00af00; text-decoration-color: #00af00\">0</span>][<span style=\"color: #00af00; text-decoration-color: #00af00\">0</span>]    │\n",
       "├─────────────────────┼───────────────────┼────────────┼───────────────────┤\n",
       "│ activation_5        │ (<span style=\"color: #00d7ff; text-decoration-color: #00d7ff\">None</span>, <span style=\"color: #00af00; text-decoration-color: #00af00\">73777</span>)     │          <span style=\"color: #00af00; text-decoration-color: #00af00\">0</span> │ lambda_17[<span style=\"color: #00af00; text-decoration-color: #00af00\">0</span>][<span style=\"color: #00af00; text-decoration-color: #00af00\">0</span>]   │\n",
       "│ (<span style=\"color: #0087ff; text-decoration-color: #0087ff\">Activation</span>)        │                   │            │                   │\n",
       "└─────────────────────┴───────────────────┴────────────┴───────────────────┘\n",
       "</pre>\n"
      ],
      "text/plain": [
       "┏━━━━━━━━━━━━━━━━━━━━━┳━━━━━━━━━━━━━━━━━━━┳━━━━━━━━━━━━┳━━━━━━━━━━━━━━━━━━━┓\n",
       "┃\u001b[1m \u001b[0m\u001b[1mLayer (type)       \u001b[0m\u001b[1m \u001b[0m┃\u001b[1m \u001b[0m\u001b[1mOutput Shape     \u001b[0m\u001b[1m \u001b[0m┃\u001b[1m \u001b[0m\u001b[1m   Param #\u001b[0m\u001b[1m \u001b[0m┃\u001b[1m \u001b[0m\u001b[1mConnected to     \u001b[0m\u001b[1m \u001b[0m┃\n",
       "┡━━━━━━━━━━━━━━━━━━━━━╇━━━━━━━━━━━━━━━━━━━╇━━━━━━━━━━━━╇━━━━━━━━━━━━━━━━━━━┩\n",
       "│ input_layer_5       │ (\u001b[38;5;45mNone\u001b[0m, \u001b[38;5;34m65\u001b[0m)        │          \u001b[38;5;34m0\u001b[0m │ -                 │\n",
       "│ (\u001b[38;5;33mInputLayer\u001b[0m)        │                   │            │                   │\n",
       "├─────────────────────┼───────────────────┼────────────┼───────────────────┤\n",
       "│ embedding_5         │ (\u001b[38;5;45mNone\u001b[0m, \u001b[38;5;34m65\u001b[0m, \u001b[38;5;34m144\u001b[0m)   │ \u001b[38;5;34m10,623,888\u001b[0m │ input_layer_5[\u001b[38;5;34m0\u001b[0m]… │\n",
       "│ (\u001b[38;5;33mEmbedding\u001b[0m)         │                   │            │                   │\n",
       "├─────────────────────┼───────────────────┼────────────┼───────────────────┤\n",
       "│ dropout_40          │ (\u001b[38;5;45mNone\u001b[0m, \u001b[38;5;34m65\u001b[0m, \u001b[38;5;34m144\u001b[0m)   │          \u001b[38;5;34m0\u001b[0m │ embedding_5[\u001b[38;5;34m0\u001b[0m][\u001b[38;5;34m0\u001b[0m] │\n",
       "│ (\u001b[38;5;33mDropout\u001b[0m)           │                   │            │                   │\n",
       "├─────────────────────┼───────────────────┼────────────┼───────────────────┤\n",
       "│ lambda_15 (\u001b[38;5;33mLambda\u001b[0m)  │ (\u001b[38;5;45mNone\u001b[0m, \u001b[38;5;34m65\u001b[0m, \u001b[38;5;34m144\u001b[0m)   │          \u001b[38;5;34m0\u001b[0m │ dropout_40[\u001b[38;5;34m0\u001b[0m][\u001b[38;5;34m0\u001b[0m]  │\n",
       "├─────────────────────┼───────────────────┼────────────┼───────────────────┤\n",
       "│ multi_head_attenti… │ (\u001b[38;5;45mNone\u001b[0m, \u001b[38;5;34m65\u001b[0m, \u001b[38;5;34m144\u001b[0m)   │     \u001b[38;5;34m83,520\u001b[0m │ lambda_15[\u001b[38;5;34m0\u001b[0m][\u001b[38;5;34m0\u001b[0m],  │\n",
       "│ (\u001b[38;5;33mMultiHeadAttentio…\u001b[0m │                   │            │ lambda_15[\u001b[38;5;34m0\u001b[0m][\u001b[38;5;34m0\u001b[0m]   │\n",
       "├─────────────────────┼───────────────────┼────────────┼───────────────────┤\n",
       "│ dropout_42          │ (\u001b[38;5;45mNone\u001b[0m, \u001b[38;5;34m65\u001b[0m, \u001b[38;5;34m144\u001b[0m)   │          \u001b[38;5;34m0\u001b[0m │ multi_head_atten… │\n",
       "│ (\u001b[38;5;33mDropout\u001b[0m)           │                   │            │                   │\n",
       "├─────────────────────┼───────────────────┼────────────┼───────────────────┤\n",
       "│ add_20 (\u001b[38;5;33mAdd\u001b[0m)        │ (\u001b[38;5;45mNone\u001b[0m, \u001b[38;5;34m65\u001b[0m, \u001b[38;5;34m144\u001b[0m)   │          \u001b[38;5;34m0\u001b[0m │ lambda_15[\u001b[38;5;34m0\u001b[0m][\u001b[38;5;34m0\u001b[0m],  │\n",
       "│                     │                   │            │ dropout_42[\u001b[38;5;34m0\u001b[0m][\u001b[38;5;34m0\u001b[0m]  │\n",
       "├─────────────────────┼───────────────────┼────────────┼───────────────────┤\n",
       "│ layer_normalizatio… │ (\u001b[38;5;45mNone\u001b[0m, \u001b[38;5;34m65\u001b[0m, \u001b[38;5;34m144\u001b[0m)   │        \u001b[38;5;34m288\u001b[0m │ add_20[\u001b[38;5;34m0\u001b[0m][\u001b[38;5;34m0\u001b[0m]      │\n",
       "│ (\u001b[38;5;33mLayerNormalizatio…\u001b[0m │                   │            │                   │\n",
       "├─────────────────────┼───────────────────┼────────────┼───────────────────┤\n",
       "│ dense_30 (\u001b[38;5;33mDense\u001b[0m)    │ (\u001b[38;5;45mNone\u001b[0m, \u001b[38;5;34m65\u001b[0m, \u001b[38;5;34m576\u001b[0m)   │     \u001b[38;5;34m83,520\u001b[0m │ layer_normalizat… │\n",
       "├─────────────────────┼───────────────────┼────────────┼───────────────────┤\n",
       "│ dropout_43          │ (\u001b[38;5;45mNone\u001b[0m, \u001b[38;5;34m65\u001b[0m, \u001b[38;5;34m576\u001b[0m)   │          \u001b[38;5;34m0\u001b[0m │ dense_30[\u001b[38;5;34m0\u001b[0m][\u001b[38;5;34m0\u001b[0m]    │\n",
       "│ (\u001b[38;5;33mDropout\u001b[0m)           │                   │            │                   │\n",
       "├─────────────────────┼───────────────────┼────────────┼───────────────────┤\n",
       "│ dense_31 (\u001b[38;5;33mDense\u001b[0m)    │ (\u001b[38;5;45mNone\u001b[0m, \u001b[38;5;34m65\u001b[0m, \u001b[38;5;34m144\u001b[0m)   │     \u001b[38;5;34m83,088\u001b[0m │ dropout_43[\u001b[38;5;34m0\u001b[0m][\u001b[38;5;34m0\u001b[0m]  │\n",
       "├─────────────────────┼───────────────────┼────────────┼───────────────────┤\n",
       "│ add_21 (\u001b[38;5;33mAdd\u001b[0m)        │ (\u001b[38;5;45mNone\u001b[0m, \u001b[38;5;34m65\u001b[0m, \u001b[38;5;34m144\u001b[0m)   │          \u001b[38;5;34m0\u001b[0m │ layer_normalizat… │\n",
       "│                     │                   │            │ dense_31[\u001b[38;5;34m0\u001b[0m][\u001b[38;5;34m0\u001b[0m]    │\n",
       "├─────────────────────┼───────────────────┼────────────┼───────────────────┤\n",
       "│ layer_normalizatio… │ (\u001b[38;5;45mNone\u001b[0m, \u001b[38;5;34m65\u001b[0m, \u001b[38;5;34m144\u001b[0m)   │        \u001b[38;5;34m288\u001b[0m │ add_21[\u001b[38;5;34m0\u001b[0m][\u001b[38;5;34m0\u001b[0m]      │\n",
       "│ (\u001b[38;5;33mLayerNormalizatio…\u001b[0m │                   │            │                   │\n",
       "├─────────────────────┼───────────────────┼────────────┼───────────────────┤\n",
       "│ multi_head_attenti… │ (\u001b[38;5;45mNone\u001b[0m, \u001b[38;5;34m65\u001b[0m, \u001b[38;5;34m144\u001b[0m)   │     \u001b[38;5;34m83,520\u001b[0m │ layer_normalizat… │\n",
       "│ (\u001b[38;5;33mMultiHeadAttentio…\u001b[0m │                   │            │ layer_normalizat… │\n",
       "├─────────────────────┼───────────────────┼────────────┼───────────────────┤\n",
       "│ dropout_45          │ (\u001b[38;5;45mNone\u001b[0m, \u001b[38;5;34m65\u001b[0m, \u001b[38;5;34m144\u001b[0m)   │          \u001b[38;5;34m0\u001b[0m │ multi_head_atten… │\n",
       "│ (\u001b[38;5;33mDropout\u001b[0m)           │                   │            │                   │\n",
       "├─────────────────────┼───────────────────┼────────────┼───────────────────┤\n",
       "│ add_22 (\u001b[38;5;33mAdd\u001b[0m)        │ (\u001b[38;5;45mNone\u001b[0m, \u001b[38;5;34m65\u001b[0m, \u001b[38;5;34m144\u001b[0m)   │          \u001b[38;5;34m0\u001b[0m │ layer_normalizat… │\n",
       "│                     │                   │            │ dropout_45[\u001b[38;5;34m0\u001b[0m][\u001b[38;5;34m0\u001b[0m]  │\n",
       "├─────────────────────┼───────────────────┼────────────┼───────────────────┤\n",
       "│ layer_normalizatio… │ (\u001b[38;5;45mNone\u001b[0m, \u001b[38;5;34m65\u001b[0m, \u001b[38;5;34m144\u001b[0m)   │        \u001b[38;5;34m288\u001b[0m │ add_22[\u001b[38;5;34m0\u001b[0m][\u001b[38;5;34m0\u001b[0m]      │\n",
       "│ (\u001b[38;5;33mLayerNormalizatio…\u001b[0m │                   │            │                   │\n",
       "├─────────────────────┼───────────────────┼────────────┼───────────────────┤\n",
       "│ dense_32 (\u001b[38;5;33mDense\u001b[0m)    │ (\u001b[38;5;45mNone\u001b[0m, \u001b[38;5;34m65\u001b[0m, \u001b[38;5;34m576\u001b[0m)   │     \u001b[38;5;34m83,520\u001b[0m │ layer_normalizat… │\n",
       "├─────────────────────┼───────────────────┼────────────┼───────────────────┤\n",
       "│ dropout_46          │ (\u001b[38;5;45mNone\u001b[0m, \u001b[38;5;34m65\u001b[0m, \u001b[38;5;34m576\u001b[0m)   │          \u001b[38;5;34m0\u001b[0m │ dense_32[\u001b[38;5;34m0\u001b[0m][\u001b[38;5;34m0\u001b[0m]    │\n",
       "│ (\u001b[38;5;33mDropout\u001b[0m)           │                   │            │                   │\n",
       "├─────────────────────┼───────────────────┼────────────┼───────────────────┤\n",
       "│ dense_33 (\u001b[38;5;33mDense\u001b[0m)    │ (\u001b[38;5;45mNone\u001b[0m, \u001b[38;5;34m65\u001b[0m, \u001b[38;5;34m144\u001b[0m)   │     \u001b[38;5;34m83,088\u001b[0m │ dropout_46[\u001b[38;5;34m0\u001b[0m][\u001b[38;5;34m0\u001b[0m]  │\n",
       "├─────────────────────┼───────────────────┼────────────┼───────────────────┤\n",
       "│ add_23 (\u001b[38;5;33mAdd\u001b[0m)        │ (\u001b[38;5;45mNone\u001b[0m, \u001b[38;5;34m65\u001b[0m, \u001b[38;5;34m144\u001b[0m)   │          \u001b[38;5;34m0\u001b[0m │ layer_normalizat… │\n",
       "│                     │                   │            │ dense_33[\u001b[38;5;34m0\u001b[0m][\u001b[38;5;34m0\u001b[0m]    │\n",
       "├─────────────────────┼───────────────────┼────────────┼───────────────────┤\n",
       "│ layer_normalizatio… │ (\u001b[38;5;45mNone\u001b[0m, \u001b[38;5;34m65\u001b[0m, \u001b[38;5;34m144\u001b[0m)   │        \u001b[38;5;34m288\u001b[0m │ add_23[\u001b[38;5;34m0\u001b[0m][\u001b[38;5;34m0\u001b[0m]      │\n",
       "│ (\u001b[38;5;33mLayerNormalizatio…\u001b[0m │                   │            │                   │\n",
       "├─────────────────────┼───────────────────┼────────────┼───────────────────┤\n",
       "│ lambda_16 (\u001b[38;5;33mLambda\u001b[0m)  │ (\u001b[38;5;45mNone\u001b[0m, \u001b[38;5;34m144\u001b[0m)       │          \u001b[38;5;34m0\u001b[0m │ layer_normalizat… │\n",
       "├─────────────────────┼───────────────────┼────────────┼───────────────────┤\n",
       "│ dense_34 (\u001b[38;5;33mDense\u001b[0m)    │ (\u001b[38;5;45mNone\u001b[0m, \u001b[38;5;34m256\u001b[0m)       │     \u001b[38;5;34m37,120\u001b[0m │ lambda_16[\u001b[38;5;34m0\u001b[0m][\u001b[38;5;34m0\u001b[0m]   │\n",
       "├─────────────────────┼───────────────────┼────────────┼───────────────────┤\n",
       "│ dropout_47          │ (\u001b[38;5;45mNone\u001b[0m, \u001b[38;5;34m256\u001b[0m)       │          \u001b[38;5;34m0\u001b[0m │ dense_34[\u001b[38;5;34m0\u001b[0m][\u001b[38;5;34m0\u001b[0m]    │\n",
       "│ (\u001b[38;5;33mDropout\u001b[0m)           │                   │            │                   │\n",
       "├─────────────────────┼───────────────────┼────────────┼───────────────────┤\n",
       "│ concatenate_5       │ (\u001b[38;5;45mNone\u001b[0m, \u001b[38;5;34m400\u001b[0m)       │          \u001b[38;5;34m0\u001b[0m │ dropout_47[\u001b[38;5;34m0\u001b[0m][\u001b[38;5;34m0\u001b[0m], │\n",
       "│ (\u001b[38;5;33mConcatenate\u001b[0m)       │                   │            │ lambda_16[\u001b[38;5;34m0\u001b[0m][\u001b[38;5;34m0\u001b[0m]   │\n",
       "├─────────────────────┼───────────────────┼────────────┼───────────────────┤\n",
       "│ dense_35 (\u001b[38;5;33mDense\u001b[0m)    │ (\u001b[38;5;45mNone\u001b[0m, \u001b[38;5;34m144\u001b[0m)       │     \u001b[38;5;34m57,744\u001b[0m │ concatenate_5[\u001b[38;5;34m0\u001b[0m]… │\n",
       "├─────────────────────┼───────────────────┼────────────┼───────────────────┤\n",
       "│ lambda_17 (\u001b[38;5;33mLambda\u001b[0m)  │ (\u001b[38;5;45mNone\u001b[0m, \u001b[38;5;34m73777\u001b[0m)     │          \u001b[38;5;34m0\u001b[0m │ dense_35[\u001b[38;5;34m0\u001b[0m][\u001b[38;5;34m0\u001b[0m]    │\n",
       "├─────────────────────┼───────────────────┼────────────┼───────────────────┤\n",
       "│ activation_5        │ (\u001b[38;5;45mNone\u001b[0m, \u001b[38;5;34m73777\u001b[0m)     │          \u001b[38;5;34m0\u001b[0m │ lambda_17[\u001b[38;5;34m0\u001b[0m][\u001b[38;5;34m0\u001b[0m]   │\n",
       "│ (\u001b[38;5;33mActivation\u001b[0m)        │                   │            │                   │\n",
       "└─────────────────────┴───────────────────┴────────────┴───────────────────┘\n"
      ]
     },
     "metadata": {},
     "output_type": "display_data"
    },
    {
     "data": {
      "text/html": [
       "<pre style=\"white-space:pre;overflow-x:auto;line-height:normal;font-family:Menlo,'DejaVu Sans Mono',consolas,'Courier New',monospace\"><span style=\"font-weight: bold\"> Total params: </span><span style=\"color: #00af00; text-decoration-color: #00af00\">11,220,160</span> (42.80 MB)\n",
       "</pre>\n"
      ],
      "text/plain": [
       "\u001b[1m Total params: \u001b[0m\u001b[38;5;34m11,220,160\u001b[0m (42.80 MB)\n"
      ]
     },
     "metadata": {},
     "output_type": "display_data"
    },
    {
     "data": {
      "text/html": [
       "<pre style=\"white-space:pre;overflow-x:auto;line-height:normal;font-family:Menlo,'DejaVu Sans Mono',consolas,'Courier New',monospace\"><span style=\"font-weight: bold\"> Trainable params: </span><span style=\"color: #00af00; text-decoration-color: #00af00\">11,220,160</span> (42.80 MB)\n",
       "</pre>\n"
      ],
      "text/plain": [
       "\u001b[1m Trainable params: \u001b[0m\u001b[38;5;34m11,220,160\u001b[0m (42.80 MB)\n"
      ]
     },
     "metadata": {},
     "output_type": "display_data"
    },
    {
     "data": {
      "text/html": [
       "<pre style=\"white-space:pre;overflow-x:auto;line-height:normal;font-family:Menlo,'DejaVu Sans Mono',consolas,'Courier New',monospace\"><span style=\"font-weight: bold\"> Non-trainable params: </span><span style=\"color: #00af00; text-decoration-color: #00af00\">0</span> (0.00 B)\n",
       "</pre>\n"
      ],
      "text/plain": [
       "\u001b[1m Non-trainable params: \u001b[0m\u001b[38;5;34m0\u001b[0m (0.00 B)\n"
      ]
     },
     "metadata": {},
     "output_type": "display_data"
    }
   ],
   "source": [
    "def build_model_1():\n",
    "    global models_list\n",
    "\n",
    "    NAME = \"Encoder v1\"\n",
    "    vocab_size = len(tokenizer_dict) + 1 # Padding\n",
    "    d_model = 144\n",
    "    seq_len = WINDOW_SIZE + 1 # CLS TOKEN\n",
    "\n",
    "    # 1️⃣ Input\n",
    "    input_layer = Input(shape=(seq_len,), dtype=tf.int32)\n",
    "\n",
    "    # 2️⃣ Embedding\n",
    "    embedding_layer = Embedding(vocab_size, d_model)\n",
    "    x = embedding_layer(input_layer)\n",
    "    x = Dropout(0.1)(x)\n",
    "\n",
    "    # 3️⃣ Positional Encoding\n",
    "    pos_encoding = tf.cast(positional_encoding(seq_len, d_model), tf.float32)\n",
    "    x = Lambda(lambda t: t + pos_encoding[:tf.shape(t)[1], :],\n",
    "               output_shape=(seq_len, d_model))(x)\n",
    "\n",
    "    # 🔁 Encoder Block\n",
    "    def encoder_block(x):\n",
    "        # Multi-head attention\n",
    "        attn_output = MultiHeadAttention(num_heads=4, key_dim=d_model // 4)(x, x)\n",
    "        attn_output = Dropout(0.1)(attn_output)\n",
    "        x = Add()([x, attn_output])\n",
    "        x = LayerNormalization(epsilon=1e-6)(x)\n",
    "\n",
    "        # Feed-forward\n",
    "        ffn = Dense(4 * d_model, activation='relu')(x)\n",
    "        ffn = Dropout(0.1)(ffn)\n",
    "        ffn = Dense(d_model)(ffn)\n",
    "        x = Add()([x, ffn])\n",
    "        x = LayerNormalization(epsilon=1e-6)(x)\n",
    "        return x\n",
    "\n",
    "    # 4️⃣ Two Encoder Blocks\n",
    "    x = encoder_block(x)\n",
    "    x = encoder_block(x)\n",
    "\n",
    "    # 5️⃣ Extract CLS token\n",
    "    cls_token = Lambda(lambda t: t[:, 0, :], output_shape=(d_model,))(x)\n",
    "\n",
    "    # 6️⃣ Feed-forward + Concatenation\n",
    "    x = Dense(256, activation='relu')(cls_token)\n",
    "    x = Dropout(0.2)(x)\n",
    "    x = Concatenate()([x, cls_token])  # shape: (batch, 256 + d_model)\n",
    "\n",
    "    # 7️⃣ Project back to embedding dim for weight tying\n",
    "    proj = Dense(d_model)(x)\n",
    "\n",
    "    # 8️⃣ Weight tying output (wrap tf.matmul in Lambda)\n",
    "    def tie_weights(t):\n",
    "        return tf.matmul(t, embedding_layer.embeddings, transpose_b=True)\n",
    "\n",
    "    logits = Lambda(tie_weights, output_shape=(vocab_size,))(proj)\n",
    "    output_layer = Activation('softmax')(logits)\n",
    "\n",
    "    # ✅ Build & Compile\n",
    "    model = Model(inputs=input_layer, outputs=output_layer)\n",
    "    model.compile(\n",
    "        loss='sparse_categorical_crossentropy',\n",
    "        optimizer=tf.keras.optimizers.Adam(learning_rate=3e-4),\n",
    "        metrics=['accuracy']\n",
    "    )\n",
    "\n",
    "    # Register custom model\n",
    "    c_model = CustomModel(name=NAME, model=model)\n",
    "    models_list.append(c_model)\n",
    "    model.summary()\n",
    "\n",
    "build_model_1()"
   ]
  },
  {
   "cell_type": "code",
   "execution_count": 97,
   "id": "02bb8635",
   "metadata": {},
   "outputs": [],
   "source": [
    "# models_list[0].model.load_weights(r\"train\\encoder_v1.weights.h5\")"
   ]
  },
  {
   "cell_type": "code",
   "execution_count": 98,
   "id": "4b6a9e11",
   "metadata": {},
   "outputs": [],
   "source": [
    "# models_list[0].save()"
   ]
  },
  {
   "cell_type": "code",
   "execution_count": 99,
   "id": "9342c1a8",
   "metadata": {
    "execution": {
     "iopub.execute_input": "2025-10-19T23:46:12.899728Z",
     "iopub.status.busy": "2025-10-19T23:46:12.899505Z",
     "iopub.status.idle": "2025-10-19T23:46:14.170902Z",
     "shell.execute_reply": "2025-10-19T23:46:14.169995Z"
    },
    "id": "4c358bb4",
    "papermill": {
     "duration": 1.298432,
     "end_time": "2025-10-19T23:46:14.172367",
     "exception": false,
     "start_time": "2025-10-19T23:46:12.873935",
     "status": "completed"
    },
    "tags": []
   },
   "outputs": [],
   "source": [
    "for model in models_list:\n",
    "    keras_model = model.model\n",
    "\n",
    "    img_path = os.path.join(TRAIN_DIR,f'{model.name}_arch.png')\n",
    "\n",
    "    plot_model(\n",
    "        keras_model,\n",
    "        to_file= img_path,\n",
    "        show_shapes=True,\n",
    "        dpi =200,\n",
    "        show_layer_names=True,\n",
    "        expand_nested=True,\n",
    "        show_layer_activations=True,\n",
    "        show_trainable=True,\n",
    "        show_dtype=True,\n",
    "    )"
   ]
  },
  {
   "cell_type": "markdown",
   "id": "5629c0fa",
   "metadata": {
    "id": "f706c0d2",
    "papermill": {
     "duration": 0.024903,
     "end_time": "2025-10-19T23:46:14.224184",
     "exception": false,
     "start_time": "2025-10-19T23:46:14.199281",
     "status": "completed"
    },
    "tags": []
   },
   "source": [
    "# Train"
   ]
  },
  {
   "cell_type": "code",
   "execution_count": 100,
   "id": "a5c5825e",
   "metadata": {
    "execution": {
     "iopub.execute_input": "2025-10-19T23:46:14.275599Z",
     "iopub.status.busy": "2025-10-19T23:46:14.274928Z",
     "iopub.status.idle": "2025-10-20T04:53:26.614002Z",
     "shell.execute_reply": "2025-10-20T04:53:26.613146Z"
    },
    "id": "6fcc00a0",
    "outputId": "f9773bd4-32b8-4afe-f579-596cedcdaa57",
    "papermill": {
     "duration": 18435.337731,
     "end_time": "2025-10-20T04:53:29.586767",
     "exception": false,
     "start_time": "2025-10-19T23:46:14.249036",
     "status": "completed"
    },
    "tags": []
   },
   "outputs": [
    {
     "name": "stdout",
     "output_type": "stream",
     "text": [
      "Training Model 1/1: encoder_v1\n",
      "Model encoder_v1 history loaded from cache\n"
     ]
    }
   ],
   "source": [
    "for i, model in enumerate(models_list):\n",
    "    print(F\"Training Model {i+1}/{len(models_list)}: {model.name}\")\n",
    "\n",
    "    model.fit(\n",
    "        train_data_loader,\n",
    "        val_data_loader,\n",
    "        force_train=False,\n",
    "    )"
   ]
  },
  {
   "cell_type": "markdown",
   "id": "32e92a3a",
   "metadata": {
    "id": "16327609",
    "papermill": {
     "duration": 4.195225,
     "end_time": "2025-10-20T04:53:38.041473",
     "exception": false,
     "start_time": "2025-10-20T04:53:33.846248",
     "status": "completed"
    },
    "tags": []
   },
   "source": [
    "# History"
   ]
  },
  {
   "cell_type": "code",
   "execution_count": 102,
   "id": "086b4c2d",
   "metadata": {
    "execution": {
     "iopub.execute_input": "2025-10-20T04:53:46.331402Z",
     "iopub.status.busy": "2025-10-20T04:53:46.330843Z",
     "iopub.status.idle": "2025-10-20T04:53:46.596473Z",
     "shell.execute_reply": "2025-10-20T04:53:46.595633Z"
    },
    "id": "72cf5ad8",
    "outputId": "e02a3aae-28c6-47ba-bf83-0a33996c909e",
    "papermill": {
     "duration": 4.473199,
     "end_time": "2025-10-20T04:53:46.597892",
     "exception": false,
     "start_time": "2025-10-20T04:53:42.124693",
     "status": "completed"
    },
    "tags": []
   },
   "outputs": [
    {
     "data": {
      "image/png": "[encoded data removed]",
      "text/plain": [
       "<Figure size 1000x200 with 2 Axes>"
      ]
     },
     "metadata": {},
     "output_type": "display_data"
    }
   ],
   "source": [
    "for i, model in enumerate(models_list):\n",
    "    plt.figure(figsize=(10,2))\n",
    "\n",
    "\n",
    "    plt.subplot(1, 2, 1)\n",
    "\n",
    "    plt.suptitle(f\"{model.name}\", fontsize=13)\n",
    "\n",
    "\n",
    "    plt.grid(True)\n",
    "    plt.title(f\"loss\")\n",
    "    plt.ylabel('loss')\n",
    "    plt.xlabel('ephocs')\n",
    "    plt.plot(model.history['loss'], label='train')\n",
    "    plt.plot(model.history['val_loss'], label='val')\n",
    "    plt.legend()\n",
    "\n",
    "    plt.subplot(1, 2, 2)\n",
    "\n",
    "    plt.grid(True)\n",
    "    plt.title(f\"Accuracy\")\n",
    "    plt.ylabel('loss')\n",
    "    plt.xlabel('ephocs')\n",
    "    plt.plot(model.history['accuracy'], label='train')\n",
    "    plt.plot(model.history['val_accuracy'], label='val')\n",
    "    plt.yticks(np.arange(0, 1.1, 0.1))\n",
    "    plt.legend()\n",
    "\n",
    "    plt.show()"
   ]
  },
  {
   "cell_type": "code",
   "execution_count": 103,
   "id": "c297642b",
   "metadata": {
    "execution": {
     "iopub.execute_input": "2025-10-20T04:53:54.727701Z",
     "iopub.status.busy": "2025-10-20T04:53:54.727395Z",
     "iopub.status.idle": "2025-10-20T04:53:54.860993Z",
     "shell.execute_reply": "2025-10-20T04:53:54.860245Z"
    },
    "id": "bdf0bd6a",
    "outputId": "ce08fb2c-4dd5-4716-c0e8-f628b994ca7d",
    "papermill": {
     "duration": 4.179869,
     "end_time": "2025-10-20T04:53:54.862159",
     "exception": false,
     "start_time": "2025-10-20T04:53:50.682290",
     "status": "completed"
    },
    "tags": []
   },
   "outputs": [
    {
     "data": {
      "image/png": "[encoded data removed]",
      "text/plain": [
       "<Figure size 1000x200 with 1 Axes>"
      ]
     },
     "metadata": {},
     "output_type": "display_data"
    }
   ],
   "source": [
    "plt.figure(figsize=(10,2))\n",
    "plt.title(f\"Models Train loss\")\n",
    "plt.grid(True)\n",
    "plt.ylabel('loss')\n",
    "plt.xlabel('ephocs')\n",
    "\n",
    "for i, model in enumerate(models_list):\n",
    "    plt.plot(model.history['loss'], label=model.name)\n",
    "\n",
    "plt.legend(bbox_to_anchor=(1.05, 1),\n",
    "            loc=\"upper left\",)\n",
    "plt.show()"
   ]
  },
  {
   "cell_type": "code",
   "execution_count": 104,
   "id": "4767fc54",
   "metadata": {
    "execution": {
     "iopub.execute_input": "2025-10-20T04:54:03.236372Z",
     "iopub.status.busy": "2025-10-20T04:54:03.235697Z",
     "iopub.status.idle": "2025-10-20T04:54:03.370267Z",
     "shell.execute_reply": "2025-10-20T04:54:03.369534Z"
    },
    "id": "fdc132fb",
    "outputId": "3cfb0abd-bc4d-4a79-bc7a-45ff3500a45d",
    "papermill": {
     "duration": 4.346592,
     "end_time": "2025-10-20T04:54:03.371430",
     "exception": false,
     "start_time": "2025-10-20T04:53:59.024838",
     "status": "completed"
    },
    "tags": []
   },
   "outputs": [
    {
     "data": {
      "image/png": "[encoded data removed]",
      "text/plain": [
       "<Figure size 1000x200 with 1 Axes>"
      ]
     },
     "metadata": {},
     "output_type": "display_data"
    }
   ],
   "source": [
    "plt.figure(figsize=(10,2))\n",
    "plt.title(f\"Models Val loss\")\n",
    "plt.grid(True)\n",
    "plt.ylabel('loss')\n",
    "plt.xlabel('ephocs')\n",
    "\n",
    "for i, model in enumerate(models_list):\n",
    "    plt.plot(model.history['val_loss'], label=model.name)\n",
    "\n",
    "plt.legend(bbox_to_anchor=(1.05, 1),\n",
    "            loc=\"upper left\",)\n",
    "\n",
    "plt.show()"
   ]
  },
  {
   "cell_type": "markdown",
   "id": "dda3dbcb",
   "metadata": {
    "id": "a32e49ce",
    "papermill": {
     "duration": 4.155264,
     "end_time": "2025-10-20T04:54:11.556560",
     "exception": false,
     "start_time": "2025-10-20T04:54:07.401296",
     "status": "completed"
    },
    "tags": []
   },
   "source": [
    "# Inference"
   ]
  },
  {
   "cell_type": "code",
   "execution_count": 105,
   "id": "6b261c3e",
   "metadata": {
    "execution": {
     "iopub.execute_input": "2025-10-20T04:54:19.764430Z",
     "iopub.status.busy": "2025-10-20T04:54:19.764152Z",
     "iopub.status.idle": "2025-10-20T04:54:19.768649Z",
     "shell.execute_reply": "2025-10-20T04:54:19.767848Z"
    },
    "id": "a68b576e",
    "outputId": "d97c39c4-f223-482f-8373-11b8dd4409da",
    "papermill": {
     "duration": 4.018824,
     "end_time": "2025-10-20T04:54:19.769796",
     "exception": false,
     "start_time": "2025-10-20T04:54:15.750972",
     "status": "completed"
    },
    "tags": []
   },
   "outputs": [
    {
     "name": "stdout",
     "output_type": "stream",
     "text": [
      "<__main__.CustomModel object at 0x000001DE493D6AA0>\n"
     ]
    }
   ],
   "source": [
    "best_model_name = \"encoder_v1\"\n",
    "best_model = list(filter(lambda x: x.name == best_model_name, models_list))[0]\n",
    "print(best_model)"
   ]
  },
  {
   "cell_type": "code",
   "execution_count": 109,
   "id": "c159ca11",
   "metadata": {
    "execution": {
     "iopub.execute_input": "2025-10-20T04:54:28.128735Z",
     "iopub.status.busy": "2025-10-20T04:54:28.128462Z",
     "iopub.status.idle": "2025-10-20T04:54:28.134403Z",
     "shell.execute_reply": "2025-10-20T04:54:28.133713Z"
    },
    "id": "_Murqki_ISTI",
    "papermill": {
     "duration": 4.180758,
     "end_time": "2025-10-20T04:54:28.135771",
     "exception": false,
     "start_time": "2025-10-20T04:54:23.955013",
     "status": "completed"
    },
    "tags": []
   },
   "outputs": [],
   "source": [
    "def predict_txt_yield(input_prompt, best_model, iterations, sample_p = True):\n",
    "\n",
    "    padded_prompt_words = clean_poem_text(input_prompt).split(' ')\n",
    "\n",
    "    yield compose_poem_text(input_prompt)\n",
    "\n",
    "    while len(padded_prompt_words) < WINDOW_SIZE :\n",
    "        padded_prompt_words = [START_TOKEN] + padded_prompt_words\n",
    "\n",
    "    while(len(padded_prompt_words) > WINDOW_SIZE):\n",
    "        padded_prompt_words = padded_prompt_words[1:]\n",
    "\n",
    "    for i in range(iterations):\n",
    "        cur_input_prompt = [CLS_TOKEN] + padded_prompt_words\n",
    "\n",
    "        padded_prompt_tokenized = tokenizer.texts_to_sequences([cur_input_prompt])[0]\n",
    "\n",
    "        padded_prompt_tokenized = np.array([padded_prompt_tokenized])\n",
    "        pro_output =  best_model.predict(padded_prompt_tokenized, verbose = 0)[0]\n",
    "\n",
    "        if sample_p:\n",
    "            ch_num = np.random.choice(len(pro_output), p=pro_output)\n",
    "        else:\n",
    "            ch_num = np.argmax(pro_output)\n",
    "\n",
    "        ch = tokenizer.sequences_to_texts([[ch_num]])[0]\n",
    "\n",
    "        padded_prompt_words = padded_prompt_words[1:] + [ch]\n",
    "\n",
    "        if ch != CONCAT_TOKEN:\n",
    "          yield \" \"\n",
    "          yield ch\n"
   ]
  },
  {
   "cell_type": "code",
   "execution_count": 110,
   "id": "e9e9c804",
   "metadata": {},
   "outputs": [],
   "source": [
    "def predict_txt_one_shot(input_prompt, best_model, iterations, sample_p = True):\n",
    "    return_text = []\n",
    "\n",
    "    padded_prompt_words = clean_poem_text(input_prompt).split(' ')\n",
    "\n",
    "    return_text.extend(padded_prompt_words)\n",
    "\n",
    "    while len(padded_prompt_words) < WINDOW_SIZE :\n",
    "        padded_prompt_words = [START_TOKEN] + padded_prompt_words\n",
    "\n",
    "    while(len(padded_prompt_words) > WINDOW_SIZE):\n",
    "        padded_prompt_words = padded_prompt_words[1:]\n",
    "\n",
    "    for i in range(iterations):\n",
    "        cur_input_prompt = [CLS_TOKEN] + padded_prompt_words\n",
    "\n",
    "        padded_prompt_tokenized = tokenizer.texts_to_sequences([cur_input_prompt])[0]\n",
    "\n",
    "        padded_prompt_tokenized = np.array([padded_prompt_tokenized])\n",
    "        pro_output =  best_model.predict(padded_prompt_tokenized, verbose = 0)[0]\n",
    "\n",
    "        if sample_p:\n",
    "            ch_num = np.random.choice(len(pro_output), p=pro_output)\n",
    "        else:\n",
    "            ch_num = np.argmax(pro_output)\n",
    "\n",
    "        ch = tokenizer.sequences_to_texts([[ch_num]])[0]\n",
    "\n",
    "        padded_prompt_words = padded_prompt_words[1:] + [ch]\n",
    "\n",
    "        return_text.append(ch)\n",
    "        \n",
    "    \n",
    "    return compose_poem_text(' '.join(return_text))\n"
   ]
  },
  {
   "cell_type": "code",
   "execution_count": null,
   "id": "f4a47fac",
   "metadata": {
    "execution": {
     "iopub.execute_input": "2025-10-20T04:54:44.687479Z",
     "iopub.status.busy": "2025-10-20T04:54:44.686760Z",
     "iopub.status.idle": "2025-10-20T04:55:00.761268Z",
     "shell.execute_reply": "2025-10-20T04:55:00.760467Z"
    },
    "id": "t-x7H8yGISTI",
    "outputId": "6d5db5e3-d4aa-4c07-b63d-5069fbf13ea9",
    "papermill": {
     "duration": 20.170219,
     "end_time": "2025-10-20T04:55:00.762469",
     "exception": false,
     "start_time": "2025-10-20T04:54:40.592250",
     "status": "completed"
    },
    "tags": []
   },
   "outputs": [
    {
     "name": "stdout",
     "output_type": "stream",
     "text": [
      "يا ليل جرت ل ي ب برق ال غيد \n",
      " اهد ي من ل يل خد \n",
      " يرتق ي ضرب ال ذنوب ل ه \n",
      " تروح ف ي ه ا ف ي قلوب ه ا \n",
      " ل يل ي عل ي ك ل يوم ال ل يل \n",
      " جلت عن علي ال ل ه و و ال مكاسب \n",
      " ال ي ال حاد ثات ب ل ا ضريب هم \n",
      " و ك وثر ن ا ال جماد انار تان \n",
      " ب ياض مقوم و حم جمام \n",
      " و ل ا امور ب ذكر ال نوال هبيط \n",
      " و قد قيل ل م اد عز ل حنتم \n",
      " س م ا انت ال ام ال تاييد هيم \n",
      " انم ا ك رم ال ل ه جل ذمام \n",
      " من ك ان ينحسم ال جود و عل ا \n",
      " توديع"
     ]
    }
   ],
   "source": [
    "for r in predict_txt_yield(\"يا ليل\", best_model.model, 200, True):\n",
    "    print(r,end='')"
   ]
  },
  {
   "cell_type": "code",
   "execution_count": 119,
   "id": "d9e0ccac",
   "metadata": {},
   "outputs": [
    {
     "name": "stdout",
     "output_type": "stream",
     "text": [
      "باسل ديار لقاك السرور مسرجا \n",
      " ولا تكفرولكن الموي لم يجد \n",
      " وحدي شاعر بيني ملان \n",
      " يجعل الناس لليل حين نزت \n",
      " لا يعرف ماء قصب الاياطل \n",
      " فاذا ما الليل يفرعن في بروج\n",
      " و\n"
     ]
    }
   ],
   "source": [
    "print(predict_txt_one_shot(\"باسل\", best_model.model, 100, True))"
   ]
  },
  {
   "cell_type": "code",
   "execution_count": null,
   "id": "cf576077",
   "metadata": {},
   "outputs": [],
   "source": []
  }
 ],
 "metadata": {
  "accelerator": "GPU",
  "colab": {
   "gpuType": "T4",
   "provenance": [],
   "toc_visible": true
  },
  "kaggle": {
   "accelerator": "nvidiaTeslaT4",
   "dataSources": [
    {
     "datasetId": 510778,
     "sourceId": 942735,
     "sourceType": "datasetVersion"
    }
   ],
   "isGpuEnabled": true,
   "isInternetEnabled": true,
   "language": "python",
   "sourceType": "notebook"
  },
  "kernelspec": {
   "display_name": "my-env",
   "language": "python",
   "name": "python3"
  },
  "language_info": {
   "codemirror_mode": {
    "name": "ipython",
    "version": 3
   },
   "file_extension": ".py",
   "mimetype": "text/x-python",
   "name": "python",
   "nbconvert_exporter": "python",
   "pygments_lexer": "ipython3",
   "version": "3.10.13"
  },
  "papermill": {
   "default_parameters": {},
   "duration": 18741.942066,
   "end_time": "2025-10-20T04:55:48.317922",
   "environment_variables": {},
   "exception": null,
   "input_path": "__notebook__.ipynb",
   "output_path": "__notebook__.ipynb",
   "parameters": {},
   "start_time": "2025-10-19T23:43:26.375856",
   "version": "2.6.0"
  }
 },
 "nbformat": 4,
 "nbformat_minor": 5
}
